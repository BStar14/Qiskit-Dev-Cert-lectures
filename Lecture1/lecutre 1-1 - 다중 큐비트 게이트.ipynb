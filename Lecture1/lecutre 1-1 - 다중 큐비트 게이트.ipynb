{
 "cells": [
  {
   "cell_type": "markdown",
   "metadata": {},
   "source": [
    "# Lecture 1 - 게이트와 양자 회로\n",
    "# 1-1 다중 큐비트 상태와 다중 큐비트 게이트\n",
    "## 1. 다중 큐비트 상태\n",
    "한개의 큐비트가 두가지의 상태를 나타낼 수 있는것처럼 두개의 큐비트는 아래와 같이 4가지의 상태를 나타낼 수 있습니다. 따라서 n개의 큐비트가 있다면 $2^n$가지의 상태를 나타낼 수 있습니다.\n",
    "\n",
    "```00 01 10 11```\n",
    "\n",
    "우선 두개의 큐비트를 설명하려면 4개의 복소 진폭(complex amplitude)가 필요합ㄴ디ㅏ. 이러한 진폭들은 4차원의 벡터에 아래와 같이 표현할 수 있습니다.\n",
    "\n",
    "$$ |a\\rangle = a_{00}|00\\rangle + a_{01}|01\\rangle + a_{10}|10\\rangle + a_{11}|11\\rangle = \\begin{bmatrix} a_{00} \\\\\n",
    "a_{01} \\\\ a_{10} \\\\ a_{11} \\end{bmatrix} $$\n",
    "\n",
    "만약 두개의 큐비트가 분리되서 표현이 되었을때 이 두개의 큐비트를 크로네커 곱(kronecker product)을 사용하여 표현할 수 있습니다.\n",
    "\n",
    "$$ |a\\rangle = \\begin{bmatrix} a_o \\\\ a_1 \\end{bmatrix} \\quad |b\\rangle = \\begin{bmatrix} b_0 \\\\ b_1 \\end{bmatrix} $$\n",
    "\n",
    "$$ |ba\\rangle = |b\\rangle \\otimes |a\\rangle = \\begin{bmatrix} b_0 \\times \\begin{bmatrix} a_0 \\\\ a_1 \\end{bmatrix} \\\\\n",
    "b_1 \\times \\begin{bmatrix} a_0 \\\\ a_1 \\end{bmatrix} \\end{bmatrix} = \\begin{bmatrix} b_0a_0 \\\\ b_0a_1 \\\\ b_1a_0 \\\\ b_1a_1 \\end{bmatrix} $$\n",
    "\n",
    "위의 표현과 같이 크로네커 곱을 이용하여 여러개의 큐비트를 표현할 수 있습니다. 아래는 3개의 큐비트를 설명하는 벡터입니다.\n",
    "\n",
    "$$ |cba\\rangle = \\begin{bmatrix} c_0b_0a_0 \\\\ c_0b_0a_1 \\\\ c_0b_1a_0 \\\\ c_0b_1a_1 \\\\ c_1b_0a_0 \\\\ c_1b_0a_1 \\\\ c_1b_1a_0 \\\\ c_1b_1a_1 \\end{bmatrix} $$\n",
    "\n",
    "다중 큐비트의 상태를 표현할때 Qiskit에서는 아래와 같이 표현합니다\n",
    "\n",
    "$$|MSB \\cdots LSB\\rangle, \\quad i.e. \\quad |q5,q4,q3,q2,q1,q0\\rangle, \\quad |q2,q1,q0\\rangle $$\n",
    "\n",
    "MSB = Most Significant Bit\n",
    "\n",
    "LSB = Least Significant Bit\n",
    "\n",
    "\n",
    "이번 장에서 다중 게이트의 사용과 다중 큐비트의 양자 회로을 output으로부터 개념을 이해해봅시다. \n",
    "\n",
    "게이트와 양자회로를 그리기 위해 Python 라이브러리인 Qiskit을 불러오겠습니다"
   ]
  },
  {
   "cell_type": "code",
   "execution_count": 2,
   "metadata": {},
   "outputs": [],
   "source": [
    "from qiskit import * #qiskit 전체 라이브러리 불러오기\n",
    "from qiskit.providers.aer import StatevectorSimulator #StatevectorSimulator를 사용하여 양자회로의 최종 양자 statevector을 구할수 있음\n",
    "\n",
    "from math import pi, sqrt #math 라이브러리에서 pi와 sqrt 불러오기\n",
    "from qiskit.visualization import * #양자상태를 시각화 하기 위해 qiskit.visualization 불러오기"
   ]
  },
  {
   "cell_type": "markdown",
   "metadata": {},
   "source": [
    "### 예제 1 - 0번 큐비트에 $X$ 게이트 추가하기"
   ]
  },
  {
   "cell_type": "code",
   "execution_count": 3,
   "metadata": {},
   "outputs": [
    {
     "data": {
      "image/png": "[encoded data removed]",
      "text/plain": [
       "<Figure size 146.652x144.48 with 1 Axes>"
      ]
     },
     "execution_count": 3,
     "metadata": {},
     "output_type": "execute_result"
    }
   ],
   "source": [
    "qc=QuantumCircuit(2) #2개의 qubit을 가진 양자 회로 만들기\n",
    "qc.x(0) #0번 큐비트에 X 게이트 추가\n",
    "qc.draw(output=\"mpl\") #양자 회로 시각화"
   ]
  },
  {
   "cell_type": "code",
   "execution_count": 4,
   "metadata": {},
   "outputs": [
    {
     "data": {
      "text/latex": [
       "$$ |01\\rangle$$"
      ],
      "text/plain": [
       "<IPython.core.display.Latex object>"
      ]
     },
     "execution_count": 4,
     "metadata": {},
     "output_type": "execute_result"
    }
   ],
   "source": [
    "state0 = execute(qc, StatevectorSimulator()).result().get_statevector() # 시뮬레이션에 양자회로를 넣어 실행시키기\n",
    "state0.draw(output=\"latex\") #시뮬레이션 결과를 latex 형식으로 출력하기"
   ]
  },
  {
   "cell_type": "markdown",
   "metadata": {},
   "source": [
    "### 예제 2 - 1번 큐비트에 하다마드 게이트 추가하기"
   ]
  },
  {
   "cell_type": "code",
   "execution_count": 5,
   "metadata": {},
   "outputs": [
    {
     "data": {
      "image/png": "[encoded data removed]",
      "text/plain": [
       "<Figure size 146.652x144.48 with 1 Axes>"
      ]
     },
     "execution_count": 5,
     "metadata": {},
     "output_type": "execute_result"
    }
   ],
   "source": [
    "qc=QuantumCircuit(2) #2개의 qubit을 가진 양자 회로 만들기\n",
    "qc.h(1) #1번 큐비트에 H 게이트 추가\n",
    "qc.draw(output=\"mpl\") #양자 회로 시각화"
   ]
  },
  {
   "cell_type": "code",
   "execution_count": 6,
   "metadata": {},
   "outputs": [
    {
     "data": {
      "text/latex": [
       "$$\\frac{\\sqrt{2}}{2} |00\\rangle+\\frac{\\sqrt{2}}{2} |10\\rangle$$"
      ],
      "text/plain": [
       "<IPython.core.display.Latex object>"
      ]
     },
     "execution_count": 6,
     "metadata": {},
     "output_type": "execute_result"
    }
   ],
   "source": [
    "state1 = execute(qc, StatevectorSimulator()).result().get_statevector() # 시뮬레이션에 양자회로를 넣어 실행시키기\n",
    "state1.draw(output=\"latex\") #시뮬레이션 결과를 latex 형식으로 출력하기"
   ]
  },
  {
   "cell_type": "markdown",
   "metadata": {},
   "source": [
    "## 2-큐비트 게이트\n",
    "### 제어 게이트 (Controlled Gates)\n",
    "### 1. $CX$ 게이트\n",
    "\n",
    "CX 게이트는 $cx(control, target)$과 같은 문법으로 사용이 되며 control 큐비트의 상태에 따라 target 큐비트의 결과값에 영향을 주는 조건부 게이트입니다. control 큐비트의 상태가 $|1\\rangle$이면 target 큐비트에 X-게이트를 실행합니다. 하지만 control 큐비트의 상태가 $|0\\rangle$인 경우에는 target 큐비트에 어떠한 변화도 가하지 않습니다.\n",
    "\n",
    "#### 경우 1: $q0$가 control 큐비트이며 $q1$이 target 큐비트일때"
   ]
  },
  {
   "cell_type": "code",
   "execution_count": 7,
   "metadata": {},
   "outputs": [
    {
     "data": {
      "image/png": "[encoded data removed]",
      "text/plain": [
       "<Figure size 146.652x144.48 with 1 Axes>"
      ]
     },
     "execution_count": 7,
     "metadata": {},
     "output_type": "execute_result"
    }
   ],
   "source": [
    "qc=QuantumCircuit(2) #2개의 큐비트를 가진 양자 회로 만들기\n",
    "qc.cx(0,1) #0번 큐비트에 control 큐비트로 지정하며 1번 큐비트를 target 큐비트로 지정하는 CX 게이트를 추가\n",
    "qc.draw(output=\"mpl\") #양자 회로 시각화"
   ]
  },
  {
   "cell_type": "code",
   "execution_count": 8,
   "metadata": {},
   "outputs": [
    {
     "name": "stdout",
     "output_type": "stream",
     "text": [
      "Operator([[1.+0.j, 0.+0.j, 0.+0.j, 0.+0.j],\n",
      "          [0.+0.j, 0.+0.j, 0.+0.j, 1.+0.j],\n",
      "          [0.+0.j, 0.+0.j, 1.+0.j, 0.+0.j],\n",
      "          [0.+0.j, 1.+0.j, 0.+0.j, 0.+0.j]],\n",
      "         input_dims=(2, 2), output_dims=(2, 2))\n"
     ]
    }
   ],
   "source": [
    "backend = Aer.get_backend('unitary_simulator') #unitary_simulator를 사용하여 양자회로를 시뮬레이션하기\n",
    "\n",
    "job = execute(qc, backend) #양자회로를 시뮬레이션하기\n",
    "result = job.result() #시뮬레이션 결과를 가져오기\n",
    "print(result.get_unitary(qc, decimals=3)) #시뮬레이션 결과를 출력하기"
   ]
  },
  {
   "cell_type": "markdown",
   "metadata": {},
   "source": [
    "#### 경우 2: $q1$가 control 큐비트이며 $q0$이 target 큐비트일때"
   ]
  },
  {
   "cell_type": "code",
   "execution_count": 9,
   "metadata": {},
   "outputs": [
    {
     "data": {
      "image/png": "[encoded data removed]",
      "text/plain": [
       "<Figure size 146.652x144.48 with 1 Axes>"
      ]
     },
     "execution_count": 9,
     "metadata": {},
     "output_type": "execute_result"
    }
   ],
   "source": [
    "qc=QuantumCircuit(2) #2개의 큐비트를 가진 양자 회로 만들기\n",
    "qc.cx(1,0) #1번 큐비트에 control 큐비트로 지정하며 0번 큐비트를 target 큐비트로 지정하는 CX 게이트를 추가\n",
    "qc.draw(output=\"mpl\") #양자 회로 시각화"
   ]
  },
  {
   "cell_type": "code",
   "execution_count": 10,
   "metadata": {},
   "outputs": [
    {
     "name": "stdout",
     "output_type": "stream",
     "text": [
      "Operator([[1.+0.j, 0.+0.j, 0.+0.j, 0.+0.j],\n",
      "          [0.+0.j, 1.+0.j, 0.+0.j, 0.+0.j],\n",
      "          [0.+0.j, 0.+0.j, 0.+0.j, 1.+0.j],\n",
      "          [0.+0.j, 0.+0.j, 1.+0.j, 0.+0.j]],\n",
      "         input_dims=(2, 2), output_dims=(2, 2))\n"
     ]
    }
   ],
   "source": [
    "backend = Aer.get_backend('unitary_simulator') #unitary_simulator를 사용하여 양자회로를 시뮬레이션하기\n",
    " \n",
    "job = execute(qc, backend) #양자회로를 시뮬레이션하기\n",
    "result = job.result() #시뮬레이션 결과를 가져오기\n",
    "print(result.get_unitary(qc, decimals=3)) #시뮬레이션 결과를 출력하기"
   ]
  },
  {
   "cell_type": "markdown",
   "metadata": {},
   "source": [
    "#### target 큐비트의 상태가 $|0\\rangle$일때 $CX$ 게이트의 작동"
   ]
  },
  {
   "cell_type": "code",
   "execution_count": 11,
   "metadata": {},
   "outputs": [
    {
     "data": {
      "image/png": "[encoded data removed]",
      "text/plain": [
       "<Figure size 146.652x144.48 with 1 Axes>"
      ]
     },
     "execution_count": 11,
     "metadata": {},
     "output_type": "execute_result"
    }
   ],
   "source": [
    "qc=QuantumCircuit(2) #2개의 큐비트를 가진 양자 회로 만들기\n",
    "qc.cx(0,1) #0번 큐비트에 control 큐비트로 지정하며 1번 큐비트를 target 큐비트로 지정하는 CX 게이트를 추가\n",
    "qc.draw(output=\"mpl\") #양자 회로 시각화"
   ]
  },
  {
   "cell_type": "code",
   "execution_count": 12,
   "metadata": {},
   "outputs": [
    {
     "data": {
      "text/latex": [
       "$$ |00\\rangle$$"
      ],
      "text/plain": [
       "<IPython.core.display.Latex object>"
      ]
     },
     "execution_count": 12,
     "metadata": {},
     "output_type": "execute_result"
    }
   ],
   "source": [
    "state2 = execute(qc, StatevectorSimulator()).result().get_statevector() # 시뮬레이션에 양자회로를 넣어 실행시키기\n",
    "state2.draw(output=\"latex\") #시뮬레이션 결과를 latex 형식으로 출력하기"
   ]
  },
  {
   "cell_type": "markdown",
   "metadata": {},
   "source": [
    "###### $|0\\rangle$상태의 control 큐비트에 CX-게이트 [Q-sphere]\n",
    "\n",
    "![cx-gate](./figure/q-sphere_cx-gate.png)\n",
    "\n",
    "#### target 큐비트의 상태가 $|1\\rangle$일때 $CX$ 게이트의 작동"
   ]
  },
  {
   "cell_type": "code",
   "execution_count": 13,
   "metadata": {},
   "outputs": [
    {
     "data": {
      "image/png": "[encoded data removed]",
      "text/plain": [
       "<Figure size 206.852x144.48 with 1 Axes>"
      ]
     },
     "execution_count": 13,
     "metadata": {},
     "output_type": "execute_result"
    }
   ],
   "source": [
    "qc=QuantumCircuit(2) #2개의 큐비트를 가진 양자 회로 만들기\n",
    "qc.x(0) #0번 큐비트에 X 게이트 추가하여 |1> 상태 만들기\n",
    "qc.cx(0,1) #0번 큐비트에 control 큐비트로 지정하며 1번 큐비트를 target 큐비트로 지정하는 CX 게이트를 추가\n",
    "qc.draw(output=\"mpl\") #양자 회로 시각화"
   ]
  },
  {
   "cell_type": "code",
   "execution_count": 14,
   "metadata": {},
   "outputs": [
    {
     "data": {
      "text/latex": [
       "$$ |11\\rangle$$"
      ],
      "text/plain": [
       "<IPython.core.display.Latex object>"
      ]
     },
     "execution_count": 14,
     "metadata": {},
     "output_type": "execute_result"
    }
   ],
   "source": [
    "state3 = execute(qc, StatevectorSimulator()).result().get_statevector() # 시뮬레이션에 양자회로를 넣어 실행시키기\n",
    "state3.draw(output=\"latex\") #시뮬레이션 결과를 latex 형식으로 출력하기"
   ]
  },
  {
   "cell_type": "markdown",
   "metadata": {},
   "source": [
    "###### $|1\\rangle$상태의 control 큐비트에 CX-게이트 [Q-sphere]\n",
    "\n",
    "![cx-gate2](./figure/q-sphere_cx-gate2.png)\n",
    "\n",
    "#### 수학적 표현\n",
    "\n",
    "$$ CX_{q_0,q_1} = I \\otimes |0\\rangle\\langle0| + X \\otimes |1\\rangle\\langle1| = \\begin{pmatrix} 1 & 0 & 0 & 0 \\\\\n",
    "0 & 0 & 0 & 1 \\\\ 0 & 0 & 1 & 0 \\\\ 0 & 1 & 0 & 0 \\end{pmatrix} $$\n",
    "\n",
    "$$ CX_{q_1,q_0} = |0\\rangle\\langle0| \\otimes I + |1\\rangle\\langle1| \\otimes X  = \\begin{pmatrix} 1 & 0 & 0 & 0 \\\\\n",
    "0 & 1 & 0 & 0 \\\\ 0 & 0 & 0 & 1 \\\\ 0 & 0 & 1 & 0 \\end{pmatrix} $$\n",
    "\n",
    "이러한 CX 게이트의 특성은 고전 회로의 XOR 게이트와 유사합니다.\n",
    "\n",
    "### 2. $CY$ 게이트\n",
    "\n",
    "CY 게이트는 $cy(control, target)$과 같은 문법으로 사용이 되며 control 큐비트의 상태에 따라 target 큐비트의 결과값에 영향을 주는 조건부 게이트입니다. control 큐비트의 상태가 $|1\\rangle$이면 target 큐비트에 Y-게이트를 실행합니다. 하지만 control 큐비트의 상태가 $|0\\rangle$인 경우에는 target 큐비트에 어떠한 변화도 가하지 않습니다.\n",
    "\n",
    "#### target 큐비트의 상태가 $|0\\rangle$일때 $CY$ 게이트의 작동"
   ]
  },
  {
   "cell_type": "code",
   "execution_count": 15,
   "metadata": {},
   "outputs": [
    {
     "data": {
      "image/png": "[encoded data removed]",
      "text/plain": [
       "<Figure size 146.652x144.48 with 1 Axes>"
      ]
     },
     "execution_count": 15,
     "metadata": {},
     "output_type": "execute_result"
    }
   ],
   "source": [
    "qc=QuantumCircuit(2) #2개의 큐비트를 가진 양자 회로 만들기\n",
    "qc.cy(0,1) #0번 큐비트에 control 큐비트로 지정하며 1번 큐비트를 target 큐비트로 지정하는 CY 게이트를 추가\n",
    "qc.draw(output=\"mpl\") #양자 회로 시각화"
   ]
  },
  {
   "cell_type": "code",
   "execution_count": 16,
   "metadata": {},
   "outputs": [
    {
     "name": "stdout",
     "output_type": "stream",
     "text": [
      "Operator([[1.+0.j, 0.+0.j, 0.+0.j, 0.+0.j],\n",
      "          [0.-0.j, 0.-0.j, 0.-0.j, 0.-1.j],\n",
      "          [0.+0.j, 0.+0.j, 1.+0.j, 0.+0.j],\n",
      "          [0.+0.j, 0.+1.j, 0.+0.j, 0.+0.j]],\n",
      "         input_dims=(2, 2), output_dims=(2, 2))\n"
     ]
    }
   ],
   "source": [
    "backend = Aer.get_backend('unitary_simulator') #unitary_simulator를 사용하여 양자회로를 시뮬레이션하기\n",
    "\n",
    "job = execute(qc, backend) #양자회로를 시뮬레이션하기\n",
    "result = job.result() #시뮬레이션 결과를 가져오기\n",
    "print(result.get_unitary(qc, decimals=3)) #시뮬레이션 결과를 출력하기"
   ]
  },
  {
   "cell_type": "code",
   "execution_count": 17,
   "metadata": {},
   "outputs": [
    {
     "data": {
      "text/latex": [
       "$$ |00\\rangle$$"
      ],
      "text/plain": [
       "<IPython.core.display.Latex object>"
      ]
     },
     "execution_count": 17,
     "metadata": {},
     "output_type": "execute_result"
    }
   ],
   "source": [
    "state4 = execute(qc, StatevectorSimulator()).result().get_statevector() # 시뮬레이션에 양자회로를 넣어 실행시키기\n",
    "state4.draw(output=\"latex\") #시뮬레이션 결과를 latex 형식으로 출력하기"
   ]
  },
  {
   "cell_type": "markdown",
   "metadata": {},
   "source": [
    "###### $|0\\rangle$상태의 control 큐비트에 CY-게이트 [Q-sphere]\n",
    "\n",
    "![cy-gate](./figure/q-sphere_cy-gate.png)\n",
    "\n",
    "#### target 큐비트의 상태가 $|1\\rangle$일때 $CY$ 게이트의 작동"
   ]
  },
  {
   "cell_type": "code",
   "execution_count": 18,
   "metadata": {},
   "outputs": [
    {
     "data": {
      "image/png": "[encoded data removed]",
      "text/plain": [
       "<Figure size 206.852x144.48 with 1 Axes>"
      ]
     },
     "execution_count": 18,
     "metadata": {},
     "output_type": "execute_result"
    }
   ],
   "source": [
    "qc=QuantumCircuit(2) #2개의 큐비트를 가진 양자 회로 만들기\n",
    "qc.x(0) #0번 큐비트에 X 게이트 추가하여 |1> 상태 만들기\n",
    "qc.cy(0,1) #0번 큐비트에 control 큐비트로 지정하며 1번 큐비트를 target 큐비트로 지정하는 CY 게이트를 추가\n",
    "qc.draw(output=\"mpl\") #양자 회로 시각화"
   ]
  },
  {
   "cell_type": "code",
   "execution_count": 19,
   "metadata": {},
   "outputs": [
    {
     "data": {
      "text/latex": [
       "$$i |11\\rangle$$"
      ],
      "text/plain": [
       "<IPython.core.display.Latex object>"
      ]
     },
     "execution_count": 19,
     "metadata": {},
     "output_type": "execute_result"
    }
   ],
   "source": [
    "state5 = execute(qc, StatevectorSimulator()).result().get_statevector() # 시뮬레이션에 양자회로를 넣어 실행시키기\n",
    "state5.draw(output=\"latex\") #시뮬레이션 결과를 latex 형식으로 출력하기"
   ]
  },
  {
   "cell_type": "markdown",
   "metadata": {},
   "source": [
    "###### $|1\\rangle$상태의 control 큐비트에 CY-게이트 [Q-sphere]\n",
    "\n",
    "![cy-gate2](./figure/q-sphere_cy-gate2.png)\n",
    "\n",
    "#### 수학적 표현\n",
    "\n",
    "$$ CY_{q_0,q_1} = I \\otimes |0\\rangle\\langle0| + Y \\otimes |1\\rangle\\langle1| = \\begin{pmatrix} 1 & 0 & 0 & 0 \\\\\n",
    "0 & 0 & 0 & -i \\\\ 0 & 0 & 1 & 0 \\\\ 0 & i & 0 & 0 \\end{pmatrix} $$\n",
    "\n",
    "$$ CY_{q_1,q_0} = |0\\rangle\\langle0| \\otimes I + |1\\rangle\\langle1| \\otimes Y  = \\begin{pmatrix} 1 & 0 & 0 & 0 \\\\\n",
    "0 & 1 & 0 & 0 \\\\ 0 & 0 & 0 & -i \\\\ 0 & 0 & i & 0 \\end{pmatrix} $$\n",
    "\n",
    "\n",
    "### 3. $CZ$ 게이트\n",
    "\n",
    "CZ 게이트는 $cz(control, target)$과 같은 문법으로 사용이 되며 control 큐비트의 상태에 따라 target 큐비트의 결과값에 영향을 주는 조건부 게이트입니다. control 큐비트의 상태가 $|1\\rangle$이면 target 큐비트에 Z-게이트를 실행합니다. 하지만 control 큐비트의 상태가 $|0\\rangle$인 경우에는 target 큐비트에 어떠한 변화도 가하지 않습니다.\n",
    "\n",
    "CZ 게이트는 대칭적인(symmetric) 게이트이며 사실상 control과 target이 구분되지 않습니다. 대칭적인 게이트이기 때문에 control과 target을 서로 바꿔서 입력하여도 같은 결과를 출력합니다.\n",
    "\n",
    "#### target 큐비트의 상태가 $|0\\rangle$일때 $CZ$ 게이트의 작동"
   ]
  },
  {
   "cell_type": "code",
   "execution_count": 20,
   "metadata": {},
   "outputs": [
    {
     "data": {
      "image/png": "[encoded data removed]",
      "text/plain": [
       "<Figure size 146.652x144.48 with 1 Axes>"
      ]
     },
     "execution_count": 20,
     "metadata": {},
     "output_type": "execute_result"
    }
   ],
   "source": [
    "qc=QuantumCircuit(2) #2개의 큐비트를 가진 양자 회로 만들기\n",
    "qc.cz(0,1) #0번 큐비트에 control 큐비트로 지정하며 1번 큐비트를 target 큐비트로 지정하는 CZ 게이트를 추가\n",
    "qc.draw(output=\"mpl\") #양자 회로 시각화"
   ]
  },
  {
   "cell_type": "code",
   "execution_count": 21,
   "metadata": {},
   "outputs": [
    {
     "name": "stdout",
     "output_type": "stream",
     "text": [
      "Operator([[ 1.+0.j,  0.+0.j,  0.+0.j,  0.+0.j],\n",
      "          [ 0.+0.j,  1.+0.j,  0.+0.j,  0.+0.j],\n",
      "          [ 0.+0.j,  0.+0.j,  1.+0.j,  0.+0.j],\n",
      "          [-0.+0.j, -0.+0.j, -0.+0.j, -1.+0.j]],\n",
      "         input_dims=(2, 2), output_dims=(2, 2))\n"
     ]
    }
   ],
   "source": [
    "backend = Aer.get_backend('unitary_simulator') #unitary_simulator를 사용하여 양자회로를 시뮬레이션하기\n",
    "\n",
    "job = execute(qc, backend) #양자회로를 시뮬레이션하기\n",
    "result = job.result() #시뮬레이션 결과를 가져오기 \n",
    "print(result.get_unitary(qc, decimals=3)) #단위 행렬을 출력하기"
   ]
  },
  {
   "cell_type": "code",
   "execution_count": 22,
   "metadata": {},
   "outputs": [
    {
     "data": {
      "text/latex": [
       "$$ |00\\rangle$$"
      ],
      "text/plain": [
       "<IPython.core.display.Latex object>"
      ]
     },
     "execution_count": 22,
     "metadata": {},
     "output_type": "execute_result"
    }
   ],
   "source": [
    "state6 = execute(qc, StatevectorSimulator()).result().get_statevector() # 시뮬레이션에 양자회로를 넣어 실행시키기\n",
    "state6.draw(output=\"latex\") #시뮬레이션 결과를 latex 형식으로 출력하기"
   ]
  },
  {
   "cell_type": "markdown",
   "metadata": {},
   "source": [
    "###### $|0\\rangle$상태의 control 큐비트에 CZ-게이트 [Q-sphere]\n",
    "\n",
    "![cz-gate](./figure/q-sphere_cz-gate.png)\n",
    "\n",
    "#### target 큐비트의 상태가 $|1\\rangle$일때 $CZ$ 게이트의 작동"
   ]
  },
  {
   "cell_type": "code",
   "execution_count": 23,
   "metadata": {},
   "outputs": [
    {
     "data": {
      "image/png": "[encoded data removed]",
      "text/plain": [
       "<Figure size 206.852x144.48 with 1 Axes>"
      ]
     },
     "execution_count": 23,
     "metadata": {},
     "output_type": "execute_result"
    }
   ],
   "source": [
    "qc=QuantumCircuit(2) #2개의 큐비트를 가진 양자 회로 만들기\n",
    "qc.x(0) #0번 큐비트에 X 게이트 추가하여 |1> 상태 만들기\n",
    "qc.cz(0,1) #0번 큐비트에 control 큐비트로 지정하며 1번 큐비트를 target 큐비트로 지정하는 CZ 게이트를 추가\n",
    "qc.draw(output=\"mpl\") #양자 회로 시각화"
   ]
  },
  {
   "cell_type": "code",
   "execution_count": 24,
   "metadata": {},
   "outputs": [
    {
     "data": {
      "text/latex": [
       "$$ |01\\rangle$$"
      ],
      "text/plain": [
       "<IPython.core.display.Latex object>"
      ]
     },
     "execution_count": 24,
     "metadata": {},
     "output_type": "execute_result"
    }
   ],
   "source": [
    "state7 = execute(qc, StatevectorSimulator()).result().get_statevector() # 시뮬레이션에 양자회로를 넣어 실행시키기\n",
    "state7.draw(output=\"latex\") #시뮬레이션 결과를 latex 형식으로 출력하기"
   ]
  },
  {
   "cell_type": "markdown",
   "metadata": {},
   "source": [
    "###### $|1\\rangle$상태의 control 큐비트에 CZ-게이트 [Q-sphere]\n",
    "\n",
    "![cz-gate2](./figure/q-sphere_cz-gate2.png)\n",
    "\n",
    "#### control 큐비트와 target 큐비트를 바꾸고 초기 큐비트의 상태가 위와 동일할때 $CZ$ 게이트의 작동"
   ]
  },
  {
   "cell_type": "code",
   "execution_count": 25,
   "metadata": {},
   "outputs": [
    {
     "data": {
      "image/png": "[encoded data removed]",
      "text/plain": [
       "<Figure size 206.852x144.48 with 1 Axes>"
      ]
     },
     "execution_count": 25,
     "metadata": {},
     "output_type": "execute_result"
    }
   ],
   "source": [
    "qc=QuantumCircuit(2) #2개의 큐비트를 가진 양자 회로 만들기\n",
    "qc.x(0) #1번 큐비트에 X 게이트 추가하여 |1> 상태 만들기\n",
    "qc.cz(1,0) #1번 큐비트에 control 큐비트로 지정하며 0번 큐비트를 target 큐비트로 지정하는 CZ 게이트를 추가\n",
    "qc.draw(output=\"mpl\") #양자 회로 시각화"
   ]
  },
  {
   "cell_type": "code",
   "execution_count": 26,
   "metadata": {},
   "outputs": [
    {
     "data": {
      "text/latex": [
       "$$ |01\\rangle$$"
      ],
      "text/plain": [
       "<IPython.core.display.Latex object>"
      ]
     },
     "execution_count": 26,
     "metadata": {},
     "output_type": "execute_result"
    }
   ],
   "source": [
    "state8 = execute(qc, StatevectorSimulator()).result().get_statevector() # 시뮬레이션에 양자회로를 넣어 실행시키기\n",
    "state8.draw(output=\"latex\") #시뮬레이션 결과를 latex 형식으로 출력하기"
   ]
  },
  {
   "cell_type": "markdown",
   "metadata": {},
   "source": [
    "###### control과 target을 바꾸어도 위와 동일한 값을 출력함 [Q-sphere]\n",
    "\n",
    "![cz-gate3](./figure/q-sphere_cz-gate3.png)\n",
    "\n",
    "#### control 큐비트와 target 큐비트의 상태가 모두 $|1\\rangle$인 상태일때의 $CZ$ 게이트의 작동"
   ]
  },
  {
   "cell_type": "code",
   "execution_count": 27,
   "metadata": {},
   "outputs": [
    {
     "data": {
      "image/png": "[encoded data removed]",
      "text/plain": [
       "<Figure size 206.852x144.48 with 1 Axes>"
      ]
     },
     "execution_count": 27,
     "metadata": {},
     "output_type": "execute_result"
    }
   ],
   "source": [
    "qc=QuantumCircuit(2) #2개의 큐비트를 가진 양자 회로 만들기\n",
    "qc.x(0) #0번 큐비트에 X 게이트 추가하여 |1> 상태 만들기\n",
    "qc.x(1) #1번 큐비트에 X 게이트 추가하여 |1> 상태 만들기\n",
    "qc.cz(0,1) #0번 큐비트에 control 큐비트로 지정하며 1번 큐비트를 target 큐비트로 지정하는 CZ 게이트를 추가\n",
    "qc.draw(output=\"mpl\") #양자 회로 시각화"
   ]
  },
  {
   "cell_type": "code",
   "execution_count": 28,
   "metadata": {},
   "outputs": [
    {
     "data": {
      "text/latex": [
       "$$- |11\\rangle$$"
      ],
      "text/plain": [
       "<IPython.core.display.Latex object>"
      ]
     },
     "execution_count": 28,
     "metadata": {},
     "output_type": "execute_result"
    }
   ],
   "source": [
    "state9 = execute(qc, StatevectorSimulator()).result().get_statevector() # 시뮬레이션에 양자회로를 넣어 실행시키기\n",
    "state9.draw(output=\"latex\") #시뮬레이션 결과를 latex 형식으로 출력하기"
   ]
  },
  {
   "cell_type": "markdown",
   "metadata": {},
   "source": [
    "###### $|1\\rangle$상태의 control 큐비트와 target 큐비트에 CZ-게이트 [Q-sphere]\n",
    "\n",
    "![cz-gate4](./figure/q-sphere_cz-gate4.png)\n",
    "\n",
    "#### 수학적 표현\n",
    "\n",
    "$$ CZ_{q_1,q_0} = |0\\rangle\\langle0| \\otimes I + |1\\rangle\\langle1| \\otimes Z  = \\begin{pmatrix} 1 & 0 & 0 & 0 \\\\\n",
    "0 & 1 & 0 & 0 \\\\ 0 & 0 & 1 & 0 \\\\ 0 & 0 & 0 & -1 \\end{pmatrix} $$\n",
    "\n",
    "위의 수학적 표현에 따르면 control 큐비트가 $|1\\rangle$의 상태일때 게이트의 위상을 뒤집습니다.\n",
    "\n",
    "### 4. $CH$ 게이트 - 컨트롤 하다마드 게이트\n",
    "\n",
    "CH 게이트는 $ch(control, target)$과 같은 문법으로 사용이 되며 control 큐비트의 상태에 따라 target 큐비트의 결과값에 영향을 주는 조건부 게이트입니다. control 큐비트의 상태가 $|1\\rangle$이면 target 큐비트에 하다마드 게이트를 실행합니다. 하지만 control 큐비트의 상태가 $|0\\rangle$인 경우에는 target 큐비트에 어떠한 변화도 가하지 않습니다.\n",
    "\n",
    "#### target 큐비트의 상태가 $|0\\rangle$일때 $CH$ 게이트의 작동"
   ]
  },
  {
   "cell_type": "code",
   "execution_count": 29,
   "metadata": {},
   "outputs": [
    {
     "data": {
      "image/png": "[encoded data removed]",
      "text/plain": [
       "<Figure size 146.652x144.48 with 1 Axes>"
      ]
     },
     "execution_count": 29,
     "metadata": {},
     "output_type": "execute_result"
    }
   ],
   "source": [
    "qc=QuantumCircuit(2) #2개의 큐비트를 가진 양자 회로 만들기\n",
    "qc.ch(0,1) #0번 큐비트에 control 큐비트로 지정하며 1번 큐비트를 target 큐비트로 지정하는 CH 게이트를 추가\n",
    "qc.draw(output=\"mpl\") #양자 회로 시각화"
   ]
  },
  {
   "cell_type": "code",
   "execution_count": 30,
   "metadata": {},
   "outputs": [
    {
     "name": "stdout",
     "output_type": "stream",
     "text": [
      "Operator([[ 1.   -0.j,  0.   +0.j, -0.   +0.j,  0.   +0.j],\n",
      "          [ 0.   +0.j,  0.707-0.j,  0.   +0.j,  0.707-0.j],\n",
      "          [ 0.   +0.j,  0.   +0.j,  1.   +0.j,  0.   +0.j],\n",
      "          [ 0.   +0.j,  0.707+0.j,  0.   +0.j, -0.707+0.j]],\n",
      "         input_dims=(2, 2), output_dims=(2, 2))\n"
     ]
    }
   ],
   "source": [
    "backend = Aer.get_backend('unitary_simulator') #unitary_simulator를 사용하여 시뮬레이션하기\n",
    "\n",
    "job = execute(qc, backend) #시뮬레이션 실행\n",
    "result = job.result() #시뮬레이션 결과 가져오기\n",
    "print(result.get_unitary(qc, decimals=3)) #단일 행렬 출력하기"
   ]
  },
  {
   "cell_type": "code",
   "execution_count": 31,
   "metadata": {},
   "outputs": [
    {
     "data": {
      "text/latex": [
       "$$ |00\\rangleNone |10\\rangle$$"
      ],
      "text/plain": [
       "<IPython.core.display.Latex object>"
      ]
     },
     "execution_count": 31,
     "metadata": {},
     "output_type": "execute_result"
    }
   ],
   "source": [
    "state10 = execute(qc, StatevectorSimulator()).result().get_statevector() # 시뮬레이션에 양자회로를 넣어 실행시키기\n",
    "state10.draw(output=\"latex\") #시뮬레이션 결과를 latex 형식으로 출력하기"
   ]
  },
  {
   "cell_type": "markdown",
   "metadata": {},
   "source": [
    "###### $|0\\rangle$상태의 control 큐비트에 CH-게이트 [Q-sphere]\n",
    "\n",
    "![ch-gate](./figure/q-sphere_ch-gate.png)\n",
    "\n",
    "#### target 큐비트의 상태가 $|1\\rangle$일때 $CH$ 게이트의 작동"
   ]
  },
  {
   "cell_type": "code",
   "execution_count": 32,
   "metadata": {},
   "outputs": [
    {
     "data": {
      "image/png": "[encoded data removed]",
      "text/plain": [
       "<Figure size 206.852x144.48 with 1 Axes>"
      ]
     },
     "execution_count": 32,
     "metadata": {},
     "output_type": "execute_result"
    }
   ],
   "source": [
    "qc=QuantumCircuit(2) #2개의 큐비트를 가진 양자 회로 만들기\n",
    "qc.x(0) #0번 큐비트에 X 게이트 추가하여 |1> 상태 만들기\n",
    "qc.ch(0,1) #0번 큐비트에 control 큐비트로 지정하며 1번 큐비트를 target 큐비트로 지정하는 CH 게이트를 추가\n",
    "qc.draw(output=\"mpl\") #양자 회로 시각화"
   ]
  },
  {
   "cell_type": "code",
   "execution_count": 33,
   "metadata": {},
   "outputs": [
    {
     "data": {
      "text/latex": [
       "$$\\frac{\\sqrt{2}}{2} |01\\rangle+\\frac{\\sqrt{2}}{2} |11\\rangle$$"
      ],
      "text/plain": [
       "<IPython.core.display.Latex object>"
      ]
     },
     "execution_count": 33,
     "metadata": {},
     "output_type": "execute_result"
    }
   ],
   "source": [
    "state11 = execute(qc, StatevectorSimulator()).result().get_statevector() # 시뮬레이션에 양자회로를 넣어 실행시키기\n",
    "state11.draw(output=\"latex\") #시뮬레이션 결과를 latex 형식으로 출력하기"
   ]
  },
  {
   "cell_type": "markdown",
   "metadata": {},
   "source": [
    "###### $|1\\rangle$상태의 control 큐비트와 target 큐비트에 CH-게이트 [Q-sphere]\n",
    "\n",
    "![ch-gate2](./figure/q-sphere_ch-gate2.png)\n",
    "\n",
    "#### 수학적 표현\n",
    "\n",
    "$$ CH_{q_0,q_1} = I \\otimes |0\\rangle\\langle0| + H \\otimes |1\\rangle\\langle1| = \\begin{pmatrix} 1 & 0 & 0 & 0 \\\\\n",
    "0 & \\frac{1}{\\sqrt{2}} & 0 & \\frac{1}{\\sqrt{2}} \\\\ 0 & 0 & 1 & 0 \\\\ 0 & \\frac{1}{\\sqrt{2}} & 0 & -\\frac{1}{\\sqrt{2}} \\end{pmatrix} $$\n",
    "\n",
    "$$ CH_{q_1,q_0} = |0\\rangle\\langle0| \\otimes I + |1\\rangle\\langle1| \\otimes H  = \\begin{pmatrix} 1 & 0 & 0 & 0 \\\\\n",
    "0 & 1 & 0 & 0 \\\\ 0 & 0 & \\frac{1}{\\sqrt{2}} & \\frac{1}{\\sqrt{2}} \\\\ 0 & 0 & \\frac{1}{\\sqrt{2}} & -\\frac{1}{\\sqrt{2}} \\end{pmatrix} $$\n",
    "\n",
    "### 5. $CP$ 게이트 - 컨트롤 위상 게이트\n",
    "\n",
    "CP 게이트는 $cp(control, target)$과 같은 문법으로 사용이 되며 control 큐비트의 상태에 따라 target 큐비트의 결과값에 영향을 주는 조건부 게이트입니다. control 큐비트의 상태가 $|1\\rangle$이면 target 큐비트에 $P$ 게이트를 실행합니다. 하지만 control 큐비트의 상태가 $|0\\rangle$인 경우에는 target 큐비트에 어떠한 변화도 가하지 않습니다.\n",
    "\n",
    "#### target 큐비트의 상태가 $|0\\rangle$일때 $CP$ 게이트의 작동"
   ]
  },
  {
   "cell_type": "code",
   "execution_count": null,
   "metadata": {},
   "outputs": [],
   "source": []
  }
 ],
 "metadata": {
  "kernelspec": {
   "display_name": "Python 3.10.5 ('qiskit')",
   "language": "python",
   "name": "python3"
  },
  "language_info": {
   "codemirror_mode": {
    "name": "ipython",
    "version": 3
   },
   "file_extension": ".py",
   "mimetype": "text/x-python",
   "name": "python",
   "nbconvert_exporter": "python",
   "pygments_lexer": "ipython3",
   "version": "3.10.5"
  },
  "orig_nbformat": 4,
  "vscode": {
   "interpreter": {
    "hash": "61e38d38e362baf74507d5f9568815ca017052702bd5356c9e3eea1ad7c412ff"
   }
  }
 },
 "nbformat": 4,
 "nbformat_minor": 2
}
