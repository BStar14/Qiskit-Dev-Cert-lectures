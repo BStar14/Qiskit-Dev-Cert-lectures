{
 "cells": [
  {
   "cell_type": "markdown",
   "metadata": {},
   "source": [
    "# Lecture 1 - 게이트와 양자 회로\n",
    "# 1-2 배리어와 양자회로의 특성\n",
    "## 1. 배리어\n",
    "\n",
    "<iframe width=\"640\" height=\"360\" src=\"https://www.youtube.com/embed/tS2CMOyWFMQ\" title=\"What is Qiskit's Barrier Operation? 1 Minute Qiskit\" frameborder=\"0\" allow=\"accelerometer; autoplay; clipboard-write; encrypted-media; gyroscope; picture-in-picture\" allowfullscreen></iframe>\n",
    "\n",
    "배리어는 트랜스파일러에게 게이트를 합치지 않게 나눠주는 역활을 해주며 또한 더욱 원활한 시각화 효과를 도와줍니다.\n",
    "\n",
    "### 배리어 사용법"
   ]
  },
  {
   "cell_type": "code",
   "execution_count": 2,
   "metadata": {},
   "outputs": [],
   "source": [
    "from qiskit import * #qiskit 전체 라이브러리 불러오기\n",
    "from qiskit.quantum_info import Statevector #상태벡터 라이브러리 불러오기\n",
    "from math import pi #math 라이브러리에서 pi 불러오기"
   ]
  },
  {
   "cell_type": "markdown",
   "metadata": {},
   "source": [
    "배리어 없는 게이트 만들기"
   ]
  },
  {
   "cell_type": "code",
   "execution_count": 3,
   "metadata": {},
   "outputs": [
    {
     "data": {
      "image/png": "[encoded data removed]",
      "text/plain": [
       "<Figure size 146.797x204.68 with 1 Axes>"
      ]
     },
     "execution_count": 3,
     "metadata": {},
     "output_type": "execute_result"
    }
   ],
   "source": [
    "qc=QuantumCircuit(3) #3개의 qubit을 가진 양자 회로 만들기\n",
    "qc.h(range(2)) #0번째 큐비트부터 1번째 큐비트까지 하다마드 게이트 추가\n",
    "qc.x(2) #2번째 큐비트에 큐비트 X 게이트 추가\n",
    "qc.draw(output=\"mpl\") #양자 회로 시각화"
   ]
  },
  {
   "cell_type": "markdown",
   "metadata": {},
   "source": [
    "원하는 위치에 배리어 추가하기"
   ]
  },
  {
   "cell_type": "code",
   "execution_count": 4,
   "metadata": {},
   "outputs": [
    {
     "data": {
      "image/png": "[encoded data removed]",
      "text/plain": [
       "<Figure size 314.126x84.28 with 1 Axes>"
      ]
     },
     "execution_count": 4,
     "metadata": {},
     "output_type": "execute_result"
    }
   ],
   "source": [
    "qc=QuantumCircuit(1) #1개의 qubit을 가진 양자 회로 만들기\n",
    "qc.h(0) #0번째 큐비트에 하다마드 게이트 추가\n",
    "qc.h(0) #0번째 큐비트에 하다마드 게이트 추가\n",
    "qc.barrier()  #배리어 추가\n",
    "qc.y(0) #0번째 큐비트에 큐비트 Y 게이트 추가\n",
    "qc.draw(output=\"mpl\") #양자 회로 시각화"
   ]
  },
  {
   "cell_type": "markdown",
   "metadata": {},
   "source": [
    "배리어에 인수를 지정해주지 않으면 모든 큐비트에 배리어를 추가합니다."
   ]
  },
  {
   "cell_type": "code",
   "execution_count": 5,
   "metadata": {},
   "outputs": [
    {
     "data": {
      "image/png": "[encoded data removed]",
      "text/plain": [
       "<Figure size 267.197x204.68 with 1 Axes>"
      ]
     },
     "execution_count": 5,
     "metadata": {},
     "output_type": "execute_result"
    }
   ],
   "source": [
    "qc=QuantumCircuit(3) #3개의 qubit을 가진 양자 회로 만들기\n",
    "qc.h(range(2)) #0번째 큐비트부터 1번째 큐비트까지 하다마드 게이트 추가\n",
    "qc.barrier() #인수 없이 배리어 추가\n",
    "qc.x(2) #2번째 큐비트에 큐비트 X 게이트 추가\n",
    "qc.draw(output=\"mpl\") #양자 회로 시각화"
   ]
  },
  {
   "cell_type": "markdown",
   "metadata": {},
   "source": [
    "배리어에 인수를 지정하여 큐비트에 추가하기"
   ]
  },
  {
   "cell_type": "code",
   "execution_count": 6,
   "metadata": {},
   "outputs": [
    {
     "data": {
      "image/png": "[encoded data removed]",
      "text/plain": [
       "<Figure size 206.997x204.68 with 1 Axes>"
      ]
     },
     "execution_count": 6,
     "metadata": {},
     "output_type": "execute_result"
    }
   ],
   "source": [
    "qc=QuantumCircuit(3) #3개의 qubit을 가진 양자 회로 만들기\n",
    "qc.h(range(2)) #0번째 큐비트부터 1번째 큐비트까지 하다마드 게이트 추가\n",
    "qc.barrier(0) #0번째 큐비트에 배리어 추가\n",
    "qc.x(2) #2번째 큐비트에 큐비트 X 게이트 추가\n",
    "qc.draw(output=\"mpl\") #양자 회로 시각화"
   ]
  },
  {
   "cell_type": "code",
   "execution_count": 7,
   "metadata": {},
   "outputs": [
    {
     "data": {
      "image/png": "[encoded data removed]",
      "text/plain": [
       "<Figure size 206.997x204.68 with 1 Axes>"
      ]
     },
     "execution_count": 7,
     "metadata": {},
     "output_type": "execute_result"
    }
   ],
   "source": [
    "qc=QuantumCircuit(3) #3개의 qubit을 가진 양자 회로 만들기\n",
    "qc.h(range(2)) #0번째 큐비트부터 1번째 큐비트까지 하다마드 게이트 추가\n",
    "qc.barrier(0,1) #0번째 큐비트와 1번째 큐비트에 배리어 추가\n",
    "qc.x(2) #2번째 큐비트에 큐비트 X 게이트 추가\n",
    "qc.draw(output=\"mpl\") #양자 회로 시각화\n"
   ]
  },
  {
   "cell_type": "code",
   "execution_count": 8,
   "metadata": {},
   "outputs": [
    {
     "data": {
      "image/png": "[encoded data removed]",
      "text/plain": [
       "<Figure size 267.197x204.68 with 1 Axes>"
      ]
     },
     "execution_count": 8,
     "metadata": {},
     "output_type": "execute_result"
    }
   ],
   "source": [
    "qc=QuantumCircuit(3) #3개의 qubit을 가진 양자 회로 만들기\n",
    "qc.h(range(2)) #0번째 큐비트부터 1번째 큐비트까지 하다마드 게이트 추가\n",
    "qc.barrier(0,1,2) #0번째 큐비트와 1번째 큐비트와 2번째 큐비트에 배리어 추가 \n",
    "qc.x(2) #2번째 큐비트에 큐비트 X 게이트 추가\n",
    "qc.draw(output=\"mpl\") #양자 회로 시각화"
   ]
  },
  {
   "cell_type": "markdown",
   "metadata": {},
   "source": [
    "양자회로를 참고하게 되면 ```barrier()```와 ```barrier(0,1,2)```의 기능은 동일합니다."
   ]
  },
  {
   "cell_type": "markdown",
   "metadata": {},
   "source": [
    "### 원활한 시각화\n",
    "배리어를 사용하여 게이트를 나누어 더 나은 시각화 효과를 나타냅니다\n",
    "\n",
    "#### 예제:\n",
    "배리어 없는 양자회로"
   ]
  },
  {
   "cell_type": "code",
   "execution_count": 9,
   "metadata": {},
   "outputs": [
    {
     "data": {
      "image/png": "[encoded data removed]",
      "text/plain": [
       "<Figure size 327.397x204.68 with 1 Axes>"
      ]
     },
     "execution_count": 9,
     "metadata": {},
     "output_type": "execute_result"
    }
   ],
   "source": [
    "qc=QuantumCircuit(3) #3개의 qubit을 가진 양자 회로 만들기\n",
    "qc.h(range(2)) #0번째 큐비트부터 1번째 큐비트까지 하다마드 게이트 추가\n",
    "qc.x(2) #2번째 큐비트에 큐비트 X 게이트 추가\n",
    "qc.ccx(0,1,2) #0번 큐비트에 control_0 큐비트로, 1번 큐비트에 control_1 큐비트로 지정하며 2번 큐비트를 target 큐비트로 지정하는 CCX 게이트를 추가하기\n",
    "qc.ry(pi,0) #0번 큐비트에 pi만큼 회전하는 Ry 게이트를 추가하기\n",
    "qc.ch(1,2) #1번 큐비트에 control 큐비트로 지정하며 2번 큐비트를 target 큐비트로 지정하는 CH 게이트를 추가\n",
    "qc.tdg(2) #2번 큐비트에 tdg 게이트를 추가\n",
    "qc.cx(1,0) #1번 큐비트에 control 큐비트로 지정하며 0번 큐비트를 target 큐비트로 지정하는 CX 게이트를 추가\n",
    "qc.draw(output=\"mpl\") #양자 회로 시각화"
   ]
  },
  {
   "cell_type": "markdown",
   "metadata": {},
   "source": [
    "배리어 있는 양자회로"
   ]
  },
  {
   "cell_type": "code",
   "execution_count": 10,
   "metadata": {},
   "outputs": [
    {
     "data": {
      "image/png": "[encoded data removed]",
      "text/plain": [
       "<Figure size 748.797x204.68 with 1 Axes>"
      ]
     },
     "execution_count": 10,
     "metadata": {},
     "output_type": "execute_result"
    }
   ],
   "source": [
    "qc=QuantumCircuit(3) #3개의 qubit을 가진 양자 회로 만들기\n",
    "qc.h(range(2)) #0번째 큐비트부터 1번째 큐비트까지 하다마드 게이트 추가\n",
    "qc.barrier() #배리어 추가\n",
    "qc.x(2) #2번째 큐비트에 큐비트 X 게이트 추가\n",
    "qc.barrier() #배리어 추가\n",
    "qc.ccx(0,1,2) #0번 큐비트에 control_0 큐비트로, 1번 큐비트에 control_1 큐비트로 지정하며 2번 큐비트를 target 큐비트로 지정하는 CCX 게이트를 추가하기\n",
    "qc.barrier() #배리어 추가\n",
    "qc.ry(pi,0) #0번 큐비트에 pi만큼 회전하는 Ry 게이트를 추가하기\n",
    "qc.ch(1,2) #1번 큐비트에 control 큐비트로 지정하며 2번 큐비트를 target 큐비트로 지정하는 CH 게이트를 추가\n",
    "qc.barrier() #배리어 추가\n",
    "qc.tdg(2) #2번 큐비트에 tdg 게이트를 추가\n",
    "qc.barrier() #배리어 추가\n",
    "qc.cx(1,0) #1번 큐비트에 control 큐비트로 지정하며 0번 큐비트를 target 큐비트로 지정하는 CX 게이트를 추가\n",
    "qc.draw(output=\"mpl\") #양자 회로 시각화"
   ]
  },
  {
   "cell_type": "markdown",
   "metadata": {},
   "source": [
    "## 2. 양자회로의 특성\n",
    "양자회로의 특성은 주로 아래와 같이 표현하며 나타낼 수 있다.\n",
    "1. Size (규모)\n",
    "2. Width (넓이)\n",
    "3. Depth (깊이)\n",
    "4. 큐비트의 수\n",
    "5. Operation의 종류 갯수\n",
    "\n",
    "우선 예제를 통해서 각 특성이 어떤 의미를 가지고 있는지 알아봅시다.\n",
    "\n",
    "### 예제"
   ]
  },
  {
   "cell_type": "code",
   "execution_count": 11,
   "metadata": {},
   "outputs": [
    {
     "data": {
      "image/png": "[encoded data removed]",
      "text/plain": [
       "<Figure size 598.479x264.88 with 1 Axes>"
      ]
     },
     "execution_count": 11,
     "metadata": {},
     "output_type": "execute_result"
    }
   ],
   "source": [
    "qc=QuantumCircuit(3)\n",
    "qc.h(range(2))\n",
    "qc.x(2)\n",
    "qc.ccx(0,1,2)\n",
    "qc.ry(pi,0)\n",
    "qc.ch(1,2)\n",
    "qc.tdg(2)\n",
    "qc.cx(1,0)\n",
    "qc.measure_all()\n",
    "qc.draw(output=\"mpl\")\n"
   ]
  },
  {
   "cell_type": "markdown",
   "metadata": {},
   "source": [
    "양자회로의 Size 출력하기"
   ]
  },
  {
   "cell_type": "code",
   "execution_count": 12,
   "metadata": {},
   "outputs": [
    {
     "data": {
      "text/plain": [
       "11"
      ]
     },
     "execution_count": 12,
     "metadata": {},
     "output_type": "execute_result"
    }
   ],
   "source": [
    "qc.size()"
   ]
  },
  {
   "cell_type": "markdown",
   "metadata": {},
   "source": [
    "양자회로의 Width 출력하기"
   ]
  },
  {
   "cell_type": "code",
   "execution_count": 13,
   "metadata": {},
   "outputs": [
    {
     "data": {
      "text/plain": [
       "6"
      ]
     },
     "execution_count": 13,
     "metadata": {},
     "output_type": "execute_result"
    }
   ],
   "source": [
    "qc.width()"
   ]
  },
  {
   "cell_type": "markdown",
   "metadata": {},
   "source": [
    "양자회로의 Depth 출력하기"
   ]
  },
  {
   "cell_type": "code",
   "execution_count": 14,
   "metadata": {},
   "outputs": [
    {
     "data": {
      "text/plain": [
       "5"
      ]
     },
     "execution_count": 14,
     "metadata": {},
     "output_type": "execute_result"
    }
   ],
   "source": [
    "qc.depth()"
   ]
  },
  {
   "cell_type": "markdown",
   "metadata": {},
   "source": [
    "양자회로의 큐비트 갯수 출력하기"
   ]
  },
  {
   "cell_type": "code",
   "execution_count": 15,
   "metadata": {},
   "outputs": [
    {
     "data": {
      "text/plain": [
       "3"
      ]
     },
     "execution_count": 15,
     "metadata": {},
     "output_type": "execute_result"
    }
   ],
   "source": [
    "qc.num_qubits"
   ]
  },
  {
   "cell_type": "markdown",
   "metadata": {},
   "source": [
    "양자회로의 operation의 종류 갯수 출력하기"
   ]
  },
  {
   "cell_type": "code",
   "execution_count": 16,
   "metadata": {},
   "outputs": [
    {
     "data": {
      "text/plain": [
       "OrderedDict([('measure', 3),\n",
       "             ('h', 2),\n",
       "             ('x', 1),\n",
       "             ('ccx', 1),\n",
       "             ('ry', 1),\n",
       "             ('ch', 1),\n",
       "             ('tdg', 1),\n",
       "             ('cx', 1),\n",
       "             ('barrier', 1)])"
      ]
     },
     "execution_count": 16,
     "metadata": {},
     "output_type": "execute_result"
    }
   ],
   "source": [
    "qc.count_ops()"
   ]
  },
  {
   "cell_type": "markdown",
   "metadata": {},
   "source": [
    "### 양자 회로의 Size\n",
    "\n",
    "양자회로의 Size는 회로에서 지시(instruction) 갯수를 출력합니다. 다만 이때 배리어는 갯수에서 제외합니다."
   ]
  },
  {
   "cell_type": "code",
   "execution_count": 17,
   "metadata": {},
   "outputs": [
    {
     "data": {
      "image/png": "[encoded data removed]",
      "text/plain": [
       "<Figure size 598.479x264.88 with 1 Axes>"
      ]
     },
     "execution_count": 17,
     "metadata": {},
     "output_type": "execute_result"
    }
   ],
   "source": [
    "qc=QuantumCircuit(3)\n",
    "qc.h(range(2))\n",
    "qc.x(2)\n",
    "qc.ccx(0,1,2)\n",
    "qc.ry(pi,0)\n",
    "qc.ch(1,2)\n",
    "qc.tdg(2)\n",
    "qc.cx(1,0)\n",
    "qc.measure_all()\n",
    "qc.draw(output=\"mpl\")"
   ]
  },
  {
   "cell_type": "markdown",
   "metadata": {},
   "source": [
    "이 양자 회로에서는 지시의 갯수는 아래와 같습니다.\n",
    "- 하다마드 게이트 (2개)\n",
    "- X 게이트 (1개)\n",
    "- CCX 게이트 (1개)\n",
    "- Ry 게이트 (1개)\n",
    "- CH 게이트 (1개)\n",
    "- CX 게이트 (1개)\n",
    "- Tdg 게이트 (1개)\n",
    "- Measurement (3개)\n",
    "\n",
    "총 11개의 지시를 가지고 있습니다."
   ]
  },
  {
   "cell_type": "code",
   "execution_count": 18,
   "metadata": {},
   "outputs": [
    {
     "data": {
      "text/plain": [
       "11"
      ]
     },
     "execution_count": 18,
     "metadata": {},
     "output_type": "execute_result"
    }
   ],
   "source": [
    "qc.size()"
   ]
  },
  {
   "cell_type": "markdown",
   "metadata": {},
   "source": [
    "### 양자 회로의 Width\n",
    "\n",
    "회로의 양자와 고전 비트의 갯수를 출력합니다."
   ]
  },
  {
   "cell_type": "code",
   "execution_count": 19,
   "metadata": {},
   "outputs": [
    {
     "data": {
      "image/png": "[encoded data removed]",
      "text/plain": [
       "<Figure size 598.479x264.88 with 1 Axes>"
      ]
     },
     "execution_count": 19,
     "metadata": {},
     "output_type": "execute_result"
    }
   ],
   "source": [
    "qc=QuantumCircuit(3)\n",
    "qc.h(range(2))\n",
    "qc.x(2)\n",
    "qc.ccx(0,1,2)\n",
    "qc.ry(pi,0)\n",
    "qc.ch(1,2)\n",
    "qc.tdg(2)\n",
    "qc.cx(1,0)\n",
    "qc.measure_all()\n",
    "qc.draw(output=\"mpl\")"
   ]
  },
  {
   "cell_type": "markdown",
   "metadata": {},
   "source": [
    "이 양자 회로에서는 3개의 양자 비트와 3개의 고전 비트를 가지고 있으며 총 6개의 비트를 가지고 있는것을 확인할 수 있습니다."
   ]
  },
  {
   "cell_type": "code",
   "execution_count": 20,
   "metadata": {},
   "outputs": [
    {
     "data": {
      "text/plain": [
       "6"
      ]
     },
     "execution_count": 20,
     "metadata": {},
     "output_type": "execute_result"
    }
   ],
   "source": [
    "qc.width()"
   ]
  },
  {
   "cell_type": "markdown",
   "metadata": {},
   "source": [
    "#### 양자 회로의 양자 비트에 대한 정보"
   ]
  },
  {
   "cell_type": "markdown",
   "metadata": {},
   "source": [
    "이 회로에서 총 3개의 양자 비트가 있는것을 확인 할 수 있으며 아래의 명령어를 이용하여 양자 레지스터, 큐비트 그리고 양자 비트의 갯수를 출력할 수 있습니다."
   ]
  },
  {
   "cell_type": "code",
   "execution_count": 21,
   "metadata": {},
   "outputs": [
    {
     "data": {
      "text/plain": [
       "[QuantumRegister(3, 'q')]"
      ]
     },
     "execution_count": 21,
     "metadata": {},
     "output_type": "execute_result"
    }
   ],
   "source": [
    "qc.qregs"
   ]
  },
  {
   "cell_type": "code",
   "execution_count": 22,
   "metadata": {},
   "outputs": [
    {
     "data": {
      "text/plain": [
       "[Qubit(QuantumRegister(3, 'q'), 0),\n",
       " Qubit(QuantumRegister(3, 'q'), 1),\n",
       " Qubit(QuantumRegister(3, 'q'), 2)]"
      ]
     },
     "execution_count": 22,
     "metadata": {},
     "output_type": "execute_result"
    }
   ],
   "source": [
    "qc.qubits"
   ]
  },
  {
   "cell_type": "code",
   "execution_count": 23,
   "metadata": {},
   "outputs": [
    {
     "data": {
      "text/plain": [
       "3"
      ]
     },
     "execution_count": 23,
     "metadata": {},
     "output_type": "execute_result"
    }
   ],
   "source": [
    "qc.num_qubits"
   ]
  },
  {
   "cell_type": "markdown",
   "metadata": {},
   "source": [
    "#### 양자 회로의 고전 비트에 대한 정보\n",
    "\n",
    "이 회로에서 총 3개의 고전 비트가 있는것을 확인 할 수 있으며 아래의 명령어를 이용하여 고전 레지스터, 고전 비트 그리고 고전 비트의 갯수를 출력할 수 있습니다."
   ]
  },
  {
   "cell_type": "code",
   "execution_count": 24,
   "metadata": {},
   "outputs": [
    {
     "data": {
      "text/plain": [
       "[ClassicalRegister(3, 'meas')]"
      ]
     },
     "execution_count": 24,
     "metadata": {},
     "output_type": "execute_result"
    }
   ],
   "source": [
    "qc.cregs"
   ]
  },
  {
   "cell_type": "code",
   "execution_count": 25,
   "metadata": {},
   "outputs": [
    {
     "data": {
      "text/plain": [
       "[Clbit(ClassicalRegister(3, 'meas'), 0),\n",
       " Clbit(ClassicalRegister(3, 'meas'), 1),\n",
       " Clbit(ClassicalRegister(3, 'meas'), 2)]"
      ]
     },
     "execution_count": 25,
     "metadata": {},
     "output_type": "execute_result"
    }
   ],
   "source": [
    "qc.clbits"
   ]
  },
  {
   "cell_type": "code",
   "execution_count": 26,
   "metadata": {},
   "outputs": [
    {
     "data": {
      "text/plain": [
       "3"
      ]
     },
     "execution_count": 26,
     "metadata": {},
     "output_type": "execute_result"
    }
   ],
   "source": [
    "qc.num_clbits"
   ]
  },
  {
   "cell_type": "markdown",
   "metadata": {},
   "source": [
    "### 양자회로의 Depth\n",
    "\n",
    "양자회로의 Depth는 양자 회로의 깊이이며 양자 게이트를 병렬로 실행 할 수 횟수를 의미합니다. 다만 배리어는 갯수에서 제외됩니다.\n",
    "\n",
    "#### 예제 1"
   ]
  },
  {
   "cell_type": "code",
   "execution_count": 27,
   "metadata": {},
   "outputs": [
    {
     "data": {
      "image/png": "[encoded data removed]",
      "text/plain": [
       "<Figure size 133.526x84.28 with 1 Axes>"
      ]
     },
     "execution_count": 27,
     "metadata": {},
     "output_type": "execute_result"
    }
   ],
   "source": [
    "qc=QuantumCircuit(1)\n",
    "qc.h(0)\n",
    "qc.draw(output=\"mpl\")"
   ]
  },
  {
   "cell_type": "code",
   "execution_count": 28,
   "metadata": {},
   "outputs": [
    {
     "data": {
      "text/plain": [
       "1"
      ]
     },
     "execution_count": 28,
     "metadata": {},
     "output_type": "execute_result"
    }
   ],
   "source": [
    "qc.depth()"
   ]
  },
  {
   "cell_type": "markdown",
   "metadata": {},
   "source": [
    "#### 예제 2"
   ]
  },
  {
   "cell_type": "code",
   "execution_count": 29,
   "metadata": {},
   "outputs": [
    {
     "data": {
      "image/png": "[encoded data removed]",
      "text/plain": [
       "<Figure size 193.726x84.28 with 1 Axes>"
      ]
     },
     "execution_count": 29,
     "metadata": {},
     "output_type": "execute_result"
    }
   ],
   "source": [
    "qc=QuantumCircuit(1)\n",
    "qc.h(0)\n",
    "qc.y(0)\n",
    "qc.draw(output=\"mpl\")"
   ]
  },
  {
   "cell_type": "code",
   "execution_count": 30,
   "metadata": {},
   "outputs": [
    {
     "data": {
      "text/plain": [
       "2"
      ]
     },
     "execution_count": 30,
     "metadata": {},
     "output_type": "execute_result"
    }
   ],
   "source": [
    "qc.depth()"
   ]
  },
  {
   "cell_type": "markdown",
   "metadata": {},
   "source": [
    "#### 예제 3: 배리어는 Depth에 카운트 되지 않습니다."
   ]
  },
  {
   "cell_type": "code",
   "execution_count": 31,
   "metadata": {},
   "outputs": [
    {
     "data": {
      "image/png": "[encoded data removed]",
      "text/plain": [
       "<Figure size 314.126x84.28 with 1 Axes>"
      ]
     },
     "execution_count": 31,
     "metadata": {},
     "output_type": "execute_result"
    }
   ],
   "source": [
    "qc=QuantumCircuit(1)\n",
    "qc.h(0)\n",
    "qc.h(0)\n",
    "qc.barrier()\n",
    "qc.y(0)\n",
    "qc.draw(output=\"mpl\")\n"
   ]
  },
  {
   "cell_type": "code",
   "execution_count": 32,
   "metadata": {},
   "outputs": [
    {
     "data": {
      "text/plain": [
       "3"
      ]
     },
     "execution_count": 32,
     "metadata": {},
     "output_type": "execute_result"
    }
   ],
   "source": [
    "qc.depth()"
   ]
  },
  {
   "cell_type": "markdown",
   "metadata": {},
   "source": [
    "#### 예제 4: 3개 큐비트의 양자 회로"
   ]
  },
  {
   "cell_type": "code",
   "execution_count": 33,
   "metadata": {},
   "outputs": [
    {
     "data": {
      "image/png": "[encoded data removed]",
      "text/plain": [
       "<Figure size 146.797x204.68 with 1 Axes>"
      ]
     },
     "execution_count": 33,
     "metadata": {},
     "output_type": "execute_result"
    }
   ],
   "source": [
    "qc=QuantumCircuit(3)\n",
    "qc.h(range(2))\n",
    "qc.x(2)\n",
    "qc.draw(output=\"mpl\")"
   ]
  },
  {
   "cell_type": "code",
   "execution_count": 34,
   "metadata": {},
   "outputs": [
    {
     "data": {
      "text/plain": [
       "1"
      ]
     },
     "execution_count": 34,
     "metadata": {},
     "output_type": "execute_result"
    }
   ],
   "source": [
    "qc.depth()"
   ]
  },
  {
   "cell_type": "markdown",
   "metadata": {},
   "source": [
    "#### 예제 5"
   ]
  },
  {
   "cell_type": "code",
   "execution_count": 35,
   "metadata": {},
   "outputs": [
    {
     "data": {
      "image/png": "[encoded data removed]",
      "text/plain": [
       "<Figure size 206.997x204.68 with 1 Axes>"
      ]
     },
     "execution_count": 35,
     "metadata": {},
     "output_type": "execute_result"
    }
   ],
   "source": [
    "qc=QuantumCircuit(3)\n",
    "qc.h(range(2))\n",
    "qc.x(2)\n",
    "qc.ccx(0,1,2)\n",
    "qc.draw(output=\"mpl\")"
   ]
  },
  {
   "cell_type": "code",
   "execution_count": 36,
   "metadata": {},
   "outputs": [
    {
     "data": {
      "text/plain": [
       "2"
      ]
     },
     "execution_count": 36,
     "metadata": {},
     "output_type": "execute_result"
    }
   ],
   "source": [
    "qc.depth()"
   ]
  },
  {
   "cell_type": "markdown",
   "metadata": {},
   "source": [
    "#### 예제 6"
   ]
  },
  {
   "cell_type": "code",
   "execution_count": 37,
   "metadata": {},
   "outputs": [
    {
     "data": {
      "image/png": "[encoded data removed]",
      "text/plain": [
       "<Figure size 267.197x204.68 with 1 Axes>"
      ]
     },
     "execution_count": 37,
     "metadata": {},
     "output_type": "execute_result"
    }
   ],
   "source": [
    "qc=QuantumCircuit(3)\n",
    "qc.h(range(2))\n",
    "qc.x(2)\n",
    "qc.ccx(0,1,2)\n",
    "qc.ry(pi,0)\n",
    "qc.ch(1,2)\n",
    "qc.draw(output=\"mpl\")"
   ]
  },
  {
   "cell_type": "code",
   "execution_count": 38,
   "metadata": {},
   "outputs": [
    {
     "data": {
      "text/plain": [
       "3"
      ]
     },
     "execution_count": 38,
     "metadata": {},
     "output_type": "execute_result"
    }
   ],
   "source": [
    "qc.depth()"
   ]
  },
  {
   "cell_type": "markdown",
   "metadata": {},
   "source": [
    "#### 예제 7"
   ]
  },
  {
   "cell_type": "code",
   "execution_count": 39,
   "metadata": {},
   "outputs": [
    {
     "data": {
      "image/png": "[encoded data removed]",
      "text/plain": [
       "<Figure size 327.397x204.68 with 1 Axes>"
      ]
     },
     "execution_count": 39,
     "metadata": {},
     "output_type": "execute_result"
    }
   ],
   "source": [
    "qc=QuantumCircuit(3)\n",
    "qc.h(range(2))\n",
    "qc.x(2)\n",
    "qc.ccx(0,1,2)\n",
    "qc.ry(pi,0)\n",
    "qc.ch(1,2)\n",
    "qc.tdg(2)\n",
    "qc.draw(output=\"mpl\")"
   ]
  },
  {
   "cell_type": "code",
   "execution_count": 40,
   "metadata": {},
   "outputs": [
    {
     "data": {
      "text/plain": [
       "4"
      ]
     },
     "execution_count": 40,
     "metadata": {},
     "output_type": "execute_result"
    }
   ],
   "source": [
    "qc.depth()\n"
   ]
  },
  {
   "cell_type": "markdown",
   "metadata": {},
   "source": [
    "#### 예제 8"
   ]
  },
  {
   "cell_type": "code",
   "execution_count": 41,
   "metadata": {},
   "outputs": [
    {
     "data": {
      "image/png": "[encoded data removed]",
      "text/plain": [
       "<Figure size 327.397x204.68 with 1 Axes>"
      ]
     },
     "execution_count": 41,
     "metadata": {},
     "output_type": "execute_result"
    }
   ],
   "source": [
    "qc=QuantumCircuit(3)\n",
    "qc.h(range(2))\n",
    "qc.x(2)\n",
    "qc.ccx(0,1,2)\n",
    "qc.ry(pi,0)\n",
    "qc.ch(1,2)\n",
    "qc.tdg(2)\n",
    "qc.cx(1,0)\n",
    "qc.draw(output=\"mpl\")"
   ]
  },
  {
   "cell_type": "code",
   "execution_count": 42,
   "metadata": {},
   "outputs": [
    {
     "data": {
      "text/plain": [
       "4"
      ]
     },
     "execution_count": 42,
     "metadata": {},
     "output_type": "execute_result"
    }
   ],
   "source": [
    "qc.depth()"
   ]
  },
  {
   "cell_type": "markdown",
   "metadata": {},
   "source": [
    "#### 예제 9: 배리어는 양자 회로의 Depth에 카운트 되지 않습니다."
   ]
  },
  {
   "cell_type": "code",
   "execution_count": 43,
   "metadata": {},
   "outputs": [
    {
     "data": {
      "image/png": "[encoded data removed]",
      "text/plain": [
       "<Figure size 507.997x204.68 with 1 Axes>"
      ]
     },
     "execution_count": 43,
     "metadata": {},
     "output_type": "execute_result"
    }
   ],
   "source": [
    "qc=QuantumCircuit(3)\n",
    "qc.h(range(2))\n",
    "qc.x(2)\n",
    "qc.barrier()\n",
    "qc.ccx(0,1,2)\n",
    "qc.barrier()\n",
    "qc.ry(pi,0)\n",
    "qc.ch(1,2)\n",
    "qc.barrier()\n",
    "qc.tdg(2)\n",
    "qc.cx(1,0)\n",
    "qc.draw(output=\"mpl\")"
   ]
  },
  {
   "cell_type": "code",
   "execution_count": 44,
   "metadata": {},
   "outputs": [
    {
     "data": {
      "text/plain": [
       "4"
      ]
     },
     "execution_count": 44,
     "metadata": {},
     "output_type": "execute_result"
    }
   ],
   "source": [
    "qc.depth()"
   ]
  },
  {
   "cell_type": "markdown",
   "metadata": {},
   "source": [
    "#### 예제 10: 배리어로 인해 게이트의 열(column)이 늘어났다면 양자 회로의 Depth 또한 늘어납니다."
   ]
  },
  {
   "cell_type": "code",
   "execution_count": 45,
   "metadata": {},
   "outputs": [
    {
     "data": {
      "image/png": "[encoded data removed]",
      "text/plain": [
       "<Figure size 628.397x204.68 with 1 Axes>"
      ]
     },
     "execution_count": 45,
     "metadata": {},
     "output_type": "execute_result"
    }
   ],
   "source": [
    "qc=QuantumCircuit(3)\n",
    "qc.h(range(2))\n",
    "qc.x(2)\n",
    "qc.barrier()\n",
    "qc.ccx(0,1,2)\n",
    "qc.barrier()\n",
    "qc.ry(pi,0)\n",
    "qc.ch(1,2)\n",
    "qc.barrier()\n",
    "qc.tdg(2)\n",
    "qc.barrier()\n",
    "qc.cx(1,0)\n",
    "qc.draw(output=\"mpl\")"
   ]
  },
  {
   "cell_type": "code",
   "execution_count": 46,
   "metadata": {},
   "outputs": [
    {
     "data": {
      "text/plain": [
       "5"
      ]
     },
     "execution_count": 46,
     "metadata": {},
     "output_type": "execute_result"
    }
   ],
   "source": [
    "qc.depth()"
   ]
  },
  {
   "cell_type": "markdown",
   "metadata": {},
   "source": [
    "#### 예제 11: Measurement또한 Depth에 카운트가 되지만 아래와 같이 카운트 됩니다."
   ]
  },
  {
   "cell_type": "code",
   "execution_count": 47,
   "metadata": {},
   "outputs": [
    {
     "data": {
      "image/png": "[encoded data removed]",
      "text/plain": [
       "<Figure size 779.079x264.88 with 1 Axes>"
      ]
     },
     "execution_count": 47,
     "metadata": {},
     "output_type": "execute_result"
    }
   ],
   "source": [
    "qc=QuantumCircuit(3)\n",
    "qc.h(range(2))\n",
    "qc.x(2)\n",
    "qc.barrier()\n",
    "qc.ccx(0,1,2)\n",
    "qc.barrier()\n",
    "qc.ry(pi,0)\n",
    "qc.ch(1,2)\n",
    "qc.barrier()\n",
    "qc.tdg(2)\n",
    "qc.cx(1,0)\n",
    "qc.measure_all()\n",
    "qc.draw(output=\"mpl\")"
   ]
  },
  {
   "cell_type": "code",
   "execution_count": 48,
   "metadata": {},
   "outputs": [
    {
     "data": {
      "text/plain": [
       "5"
      ]
     },
     "execution_count": 48,
     "metadata": {},
     "output_type": "execute_result"
    }
   ],
   "source": [
    "qc.depth()"
   ]
  },
  {
   "cell_type": "markdown",
   "metadata": {},
   "source": [
    "### 양자 회로의 큐비트 갯수\n",
    "\n",
    "양자 회로의 큐비트 갯수를 출력하며 이를 위한 두가지의 명령 방법이 있습니다.\n",
    "- `qubits`\n",
    "- `num_qubits`"
   ]
  },
  {
   "cell_type": "code",
   "execution_count": 49,
   "metadata": {},
   "outputs": [
    {
     "data": {
      "image/png": "[encoded data removed]",
      "text/plain": [
       "<Figure size 779.079x264.88 with 1 Axes>"
      ]
     },
     "execution_count": 49,
     "metadata": {},
     "output_type": "execute_result"
    }
   ],
   "source": [
    "qc=QuantumCircuit(3)\n",
    "qc.h(range(2))\n",
    "qc.x(2)\n",
    "qc.barrier()\n",
    "qc.ccx(0,1,2)\n",
    "qc.barrier()\n",
    "qc.ry(pi,0)\n",
    "qc.ch(1,2)\n",
    "qc.barrier()\n",
    "qc.tdg(2)\n",
    "qc.cx(1,0)\n",
    "qc.measure_all()\n",
    "qc.draw(output=\"mpl\")"
   ]
  },
  {
   "cell_type": "markdown",
   "metadata": {},
   "source": [
    "qubits는 양자 레지스터에 있는 큐비트의 목록을 출력합니다."
   ]
  },
  {
   "cell_type": "code",
   "execution_count": 50,
   "metadata": {},
   "outputs": [
    {
     "data": {
      "text/plain": [
       "[Qubit(QuantumRegister(3, 'q'), 0),\n",
       " Qubit(QuantumRegister(3, 'q'), 1),\n",
       " Qubit(QuantumRegister(3, 'q'), 2)]"
      ]
     },
     "execution_count": 50,
     "metadata": {},
     "output_type": "execute_result"
    }
   ],
   "source": [
    "qc.qubits"
   ]
  },
  {
   "cell_type": "markdown",
   "metadata": {},
   "source": [
    "num_qubits는 총 큐비트의 갯수를 정수로 출력합니다."
   ]
  },
  {
   "cell_type": "code",
   "execution_count": 51,
   "metadata": {},
   "outputs": [
    {
     "data": {
      "text/plain": [
       "3"
      ]
     },
     "execution_count": 51,
     "metadata": {},
     "output_type": "execute_result"
    }
   ],
   "source": [
    "qc.num_qubits\n"
   ]
  },
  {
   "cell_type": "markdown",
   "metadata": {},
   "source": [
    "### 양자 회로의 Operations의 갯수\n",
    "\n",
    "각 지시또는 Operations의 종류와 갯수를 출력합니다. 출력되는 종류는 아래와 같습니다.\n",
    "- 각 게이트의 갯수\n",
    "- Measurement의 갯수\n",
    "- 배리어의 갯수"
   ]
  },
  {
   "cell_type": "code",
   "execution_count": 52,
   "metadata": {},
   "outputs": [
    {
     "data": {
      "image/png": "[encoded data removed]",
      "text/plain": [
       "<Figure size 779.079x264.88 with 1 Axes>"
      ]
     },
     "execution_count": 52,
     "metadata": {},
     "output_type": "execute_result"
    }
   ],
   "source": [
    "qc=QuantumCircuit(3)\n",
    "qc.h(range(2))\n",
    "qc.x(2)\n",
    "qc.barrier()\n",
    "qc.ccx(0,1,2)\n",
    "qc.barrier()\n",
    "qc.ry(pi,0)\n",
    "qc.ch(1,2)\n",
    "qc.barrier()\n",
    "qc.tdg(2)\n",
    "qc.cx(1,0)\n",
    "qc.measure_all()\n",
    "qc.draw(output=\"mpl\")"
   ]
  },
  {
   "cell_type": "code",
   "execution_count": 53,
   "metadata": {},
   "outputs": [
    {
     "data": {
      "text/plain": [
       "OrderedDict([('barrier', 4),\n",
       "             ('measure', 3),\n",
       "             ('h', 2),\n",
       "             ('x', 1),\n",
       "             ('ccx', 1),\n",
       "             ('ry', 1),\n",
       "             ('ch', 1),\n",
       "             ('tdg', 1),\n",
       "             ('cx', 1)])"
      ]
     },
     "execution_count": 53,
     "metadata": {},
     "output_type": "execute_result"
    }
   ],
   "source": [
    "qc.count_ops()"
   ]
  },
  {
   "cell_type": "code",
   "execution_count": 54,
   "metadata": {},
   "outputs": [
    {
     "data": {
      "text/html": [
       "<h3>Version Information</h3><table><tr><th>Qiskit Software</th><th>Version</th></tr><tr><td><code>qiskit-terra</code></td><td>0.21.0</td></tr><tr><td><code>qiskit-aer</code></td><td>0.10.4</td></tr><tr><td><code>qiskit-ibmq-provider</code></td><td>0.19.2</td></tr><tr><td><code>qiskit</code></td><td>0.37.0</td></tr><tr><th>System information</th></tr><tr><td>Python version</td><td>3.10.5</td></tr><tr><td>Python compiler</td><td>Clang 13.0.1 </td></tr><tr><td>Python build</td><td>main, Jun 14 2022 07:03:09</td></tr><tr><td>OS</td><td>Darwin</td></tr><tr><td>CPUs</td><td>8</td></tr><tr><td>Memory (Gb)</td><td>16.0</td></tr><tr><td colspan='2'>Sun Aug 14 04:48:15 2022 KST</td></tr></table>"
      ],
      "text/plain": [
       "<IPython.core.display.HTML object>"
      ]
     },
     "metadata": {},
     "output_type": "display_data"
    }
   ],
   "source": [
    "import qiskit.tools.jupyter\n",
    "%qiskit_version_table #qiskit 버전 표시하기"
   ]
  },
  {
   "cell_type": "code",
   "execution_count": null,
   "metadata": {},
   "outputs": [],
   "source": []
  }
 ],
 "metadata": {
  "kernelspec": {
   "display_name": "Python 3.10.5 ('qiskit')",
   "language": "python",
   "name": "python3"
  },
  "language_info": {
   "codemirror_mode": {
    "name": "ipython",
    "version": 3
   },
   "file_extension": ".py",
   "mimetype": "text/x-python",
   "name": "python",
   "nbconvert_exporter": "python",
   "pygments_lexer": "ipython3",
   "version": "3.10.5"
  },
  "orig_nbformat": 4,
  "vscode": {
   "interpreter": {
    "hash": "61e38d38e362baf74507d5f9568815ca017052702bd5356c9e3eea1ad7c412ff"
   }
  }
 },
 "nbformat": 4,
 "nbformat_minor": 2
}
