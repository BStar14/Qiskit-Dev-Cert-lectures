{
 "cells": [
  {
   "cell_type": "markdown",
   "metadata": {},
   "source": [
    "# Lecture 3 - 양자 회로의 실행과 백엔드\n",
    "\n",
    "1. 양자 회로의 실행\n",
    "2. 백엔드\n",
    "\n",
    "## 1. 양자 회로의 실행\n",
    "\n",
    "큐비트와 연산자를 추가하여 양자 회로를 만들었다면 시뮬레이션이나 실제 양자 컴퓨터에 실행에 작업을 보내 실행시켜 결과값을 얻을 수 있습니다. 우선은 하나의 양자 회로를 만들어 양자 회로를 실행해 봅시다."
   ]
  },
  {
   "cell_type": "code",
   "execution_count": 43,
   "metadata": {},
   "outputs": [],
   "source": [
    "from qiskit import * # qiskit이라는 라이브러리를 모두 불러옵니다.\n",
    "from qiskit.visualization import plot_histogram, plot_circuit_layout # plot_histogram과 plot_circuit_layout 라이브러리를 불러옵니다."
   ]
  },
  {
   "cell_type": "code",
   "execution_count": 2,
   "metadata": {},
   "outputs": [
    {
     "data": {
      "image/png": "[encoded data removed]",
      "text/plain": [
       "<Figure size 447.797x264.88 with 1 Axes>"
      ]
     },
     "execution_count": 2,
     "metadata": {},
     "output_type": "execute_result"
    }
   ],
   "source": [
    "qc=QuantumCircuit(3,3) # 3개의 큐비트와 3개의 고전 비트를 가진 양자 회로를 만듭니다.\n",
    "qc.h(0) # 0번 큐비트에 하다마드 게이트를 적용합니다.\n",
    "qc.cx(0,1) # 0번 큐비트를 control 1번 큐비트에 target으로 지정해 CX 게이트를 적용합니다.\n",
    "qc.cx(1,2) # 1번 큐비트를 control 2번 큐비트에 target으로 지정해 CX 게이트를 적용합니다.\n",
    "qc.measure([0,1,2],[0,1,2]) # 0,1,2번 큐비트를 0,1,2번 고전 비트에 측정합니다.\n",
    "qc.draw(output='mpl') # 양자 회로를 그립니다."
   ]
  },
  {
   "cell_type": "markdown",
   "metadata": {},
   "source": [
    "양자 회로를 만들었으므로 이 양자회로를 양자 회로를 시뮬레이션이나 실제 양자 컴퓨터에 보내 결과값을 불러오겠습니다. 양자 회로를 실행하기 위해선 아래와 같은 단계가 필요합니다.\n",
    "1. 백엔드 불러오기\n",
    "2. 실행 함수 사용하여 양자회로, 백엔드, 샷의 갯수를 지정해주기\n",
    "3. 결과값 불러오기\n",
    "4. 결과값에서 사용하는 값을 추출하기\n",
    "\n",
    "### 시뮬레이션을 이용해 양자 회로 실행하기\n",
    "\n",
    "이번 예제에서는 `qasm_simulator`을 사용하여 실행해 봅시다. `qasm_simulator`은 노이즈가 없는 시뮬레이션이며 양자 회로를 실행할때 노이즈가 없는 결과값을 내보냅니다."
   ]
  },
  {
   "cell_type": "code",
   "execution_count": 3,
   "metadata": {},
   "outputs": [
    {
     "name": "stdout",
     "output_type": "stream",
     "text": [
      "{'111': 525, '000': 499}\n"
     ]
    }
   ],
   "source": [
    "backend = Aer.get_backend('qasm_simulator') # 시뮬레이터를 불러옵니다.\n",
    "job = execute(qc, backend, shots=1024) # 시뮬레이터에 qc 양자 회로를 1024번 실행합니다.\n",
    "result = job.result() # 결과를 result에 저장합니다.\n",
    "counts = result.get_counts(qc) # result에서 1024번의 qc 양자 회로 결과를 counts에 저장합니다.\n",
    "print(counts) # counts를 출력합니다."
   ]
  },
  {
   "cell_type": "code",
   "execution_count": 4,
   "metadata": {},
   "outputs": [
    {
     "data": {
      "image/png": "[encoded data removed]",
      "text/plain": [
       "<Figure size 504x360 with 1 Axes>"
      ]
     },
     "execution_count": 4,
     "metadata": {},
     "output_type": "execute_result"
    }
   ],
   "source": [
    "plot_histogram(counts, title=\"GHZ State in qasm_simulator\")"
   ]
  },
  {
   "cell_type": "markdown",
   "metadata": {},
   "source": [
    "### 실제 양자 장치를 이용해 양자 회로 실행햐기\n",
    "\n",
    "실제 양자 장치에는 발열, 주변 환경과 같은 여러 노이즈에 노출이 되어 있으며 양자 회로를 실행할때 결과값에 노이즈가 영향을 주게 되어 노이즈와 같이 출력됩니다.\n",
    "\n",
    "우선은 실제 양자 장치에 양자 회로를 실행하기 위해선 아래 단계를 따라 실행해야 합니다.\n",
    "1. IBMQ 계정 로드 하기\n",
    "2. 백엔드 불러오기\n",
    "3. 실행 함수 사용하여 양자회로, 백엔드, 샷의 갯수를 지정해주기\n",
    "4. 결과값 불러오기\n",
    "5. 결과값에서 사용하는 값을 추출하기\n",
    "\n",
    "만약 IBM Quantum Lab을 사용하거나 이미 커널을 실행한 상태에서 IBMQ 계정을 로드한적이 있다면 1번째 단계는 무시하고 2단계로 넘어갈 수 있습니다.\n",
    "\n",
    "본인의 IBM 계정 토큰은 IBM Quantum 홈페이지에 들어가 아래 사진과 같이 확인 할 수 있으며 복사하기를 눌러 클립보드에 복사 할 수 있습니다.\n",
    "\n",
    "![ibm_token](./figure/ibm_token.png)\n",
    "\n",
    "이번 예제에서는 `ibmq_lima`라는 실제 양자 장치를 사용하여 양자 회로를 실행해 보겠습니다. 우선 실제 양자 장치는 제한적이고 이미 다른 사용자에 의해 보내진 작업을 미리 처리 해야 할 수도 있기 때문에 시간이 오래 걸릴 수 있습니다."
   ]
  },
  {
   "cell_type": "code",
   "execution_count": 7,
   "metadata": {},
   "outputs": [
    {
     "data": {
      "application/vnd.jupyter.widget-view+json": {
       "model_id": "22919fa807834719afb6d7be0c6b0354",
       "version_major": 2,
       "version_minor": 0
      },
      "text/plain": [
       "Accordion(children=(VBox(layout=Layout(max_width='710px', min_width='710px')),), layout=Layout(max_height='500…"
      ]
     },
     "metadata": {},
     "output_type": "display_data"
    },
    {
     "data": {
      "application/javascript": "\n        const isLab = window['Jupyter'] === undefined;\n        const notebook = document.querySelector( isLab ? 'div.jp-Notebook' : '#site');\n        const jobWidget = document.querySelector('div.job_widget');\n        notebook.prepend(jobWidget);\n        jobWidget.style.zIndex = '999';\n        jobWidget.style.position = isLab ? 'sticky' : 'fixed';\n        jobWidget.style.boxShadow = '5px 5px 5px -3px black';\n        jobWidget.style.opacity = '0.95';\n        if (isLab) {\n            jobWidget.style.top = '0';\n            jobWidget.style.left = '0';\n        }\n        ",
      "text/plain": [
       "<IPython.core.display.Javascript object>"
      ]
     },
     "metadata": {},
     "output_type": "display_data"
    }
   ],
   "source": [
    "# 양자 회로를 보냈을때 실제 양자 장치에 대기열을 실시간으로 볼 수 있는 코드입니다.\n",
    "from qiskit.tools import jupyter\n",
    "%qiskit_job_watcher"
   ]
  },
  {
   "cell_type": "code",
   "execution_count": 23,
   "metadata": {},
   "outputs": [],
   "source": [
    "#본인 IBM 계정의 토큰을 여기에 넣어주세요.\n",
    "TOKEN = \"YOUR_TOKEN\"\n",
    "\n",
    "# IBM 계정을 불러온적이 없다면 아래의 코드를 주석을 없애 한번만 실행해주세요\n",
    "# IBMQ.save_account(TOKEN)\n"
   ]
  },
  {
   "cell_type": "code",
   "execution_count": 24,
   "metadata": {},
   "outputs": [
    {
     "name": "stderr",
     "output_type": "stream",
     "text": [
      "ibmqfactory.load_account:WARNING:2022-08-31 14:06:12,564: Credentials are already in use. The existing account in the session will be replaced.\n"
     ]
    }
   ],
   "source": [
    "provider = IBMQ.load_account() # IBM 계정을 로드 합니다."
   ]
  },
  {
   "cell_type": "code",
   "execution_count": 25,
   "metadata": {},
   "outputs": [],
   "source": [
    "# IBM 백엔드를 불러옵니다.\n",
    "backend=provider.get_backend('ibmq_lima')\n",
    "\n",
    "# 양자 회로 백엔드에 실행합니다.\n",
    "job = execute(qc, backend, shots=1024)"
   ]
  },
  {
   "cell_type": "markdown",
   "metadata": {},
   "source": [
    "`job.cancel()`을 사용하여 보낸 양자 회로 작업을 취소 할 수 있습니다.\n",
    "\n",
    "`job.status()`를 사용하여 작업의 상태를 볼 수 있습니다.\n",
    "\n",
    "`job_monitor(job)`을 사용하여 보내진 작업을 실시간으로 모니터링 할 수 있습니다.\n",
    "\n",
    "`job.job_id()`를 사용하면 보낸 작업의 id를 출력합니다."
   ]
  },
  {
   "cell_type": "code",
   "execution_count": 26,
   "metadata": {},
   "outputs": [
    {
     "data": {
      "text/plain": [
       "<JobStatus.QUEUED: 'job is queued'>"
      ]
     },
     "execution_count": 26,
     "metadata": {},
     "output_type": "execute_result"
    }
   ],
   "source": [
    "job.status()"
   ]
  },
  {
   "cell_type": "code",
   "execution_count": 29,
   "metadata": {},
   "outputs": [
    {
     "data": {
      "text/plain": [
       "'630eecb56d081053a3db5b38'"
      ]
     },
     "execution_count": 29,
     "metadata": {},
     "output_type": "execute_result"
    }
   ],
   "source": [
    "job.job_id()"
   ]
  },
  {
   "cell_type": "code",
   "execution_count": 28,
   "metadata": {},
   "outputs": [
    {
     "name": "stdout",
     "output_type": "stream",
     "text": [
      "Job Status: job has successfully run\n"
     ]
    }
   ],
   "source": [
    "from qiskit.tools import job_monitor # job_monitor 라이브러리를 불러옵니다.\n",
    "\n",
    "job_monitor(job)"
   ]
  },
  {
   "cell_type": "code",
   "execution_count": 30,
   "metadata": {},
   "outputs": [
    {
     "name": "stdout",
     "output_type": "stream",
     "text": [
      "{'000': 480, '001': 14, '010': 2, '011': 19, '100': 10, '101': 15, '110': 22, '111': 462}\n"
     ]
    }
   ],
   "source": [
    "result = job.result() # 결과를 result에 저장합니다.\n",
    "counts = result.get_counts(qc) # result에서 1024번의 qc 양자 회로 결과를 counts에 저장합니다.\n",
    "print(counts)"
   ]
  },
  {
   "cell_type": "code",
   "execution_count": 31,
   "metadata": {},
   "outputs": [
    {
     "data": {
      "image/png": "[encoded data removed]",
      "text/plain": [
       "<Figure size 504x360 with 1 Axes>"
      ]
     },
     "execution_count": 31,
     "metadata": {},
     "output_type": "execute_result"
    }
   ],
   "source": [
    "plot_histogram(counts, title=\"GHZ State in ibmq_lima\") # counts를 그립니다."
   ]
  },
  {
   "cell_type": "markdown",
   "metadata": {},
   "source": [
    "실제 양자 장치에는 노이즈의 영향을 받아 예상했던 값인 $|000\\rangle$ 과 $|111\\rangle$이 아닌 그 외의 상태들도 낮은 확률로 출력된것을 확인 할 수 있습니다.\n",
    "\n",
    "***\n",
    "양자 회로 트랜스파일 이후에 실행하기\n",
    "***\n",
    "\n",
    "양자 회로를 시뮬레이션이나 실제 양자 장치에 실행시키는 또다른 방법으로 장치에 보내기전 양자 회로를 먼저 트랜스파일 하는 방법이 있습니다. 양자 회로를 백엔드에 실행하기 위해서는 각 백엔드에 맞는 기본 게이트에 맞게 트랜스파일 해줘야 합니다. 백엔드에 맞는 기본 게이트는 `backend.configuration().basis_gates`를 사용하여 볼 수 있으며 해당 백엔드로 양자 회로를 트랜스 파일을 하게 되면 기본 게이트로 트랜스파일 되며 변경된것을 볼 수 있습니다. 이후에 이러한 트랜스 파일된 양자 회로를 `run()`을 사용하여 해당 백엔드에 실행셔줍니다."
   ]
  },
  {
   "cell_type": "code",
   "execution_count": 32,
   "metadata": {},
   "outputs": [],
   "source": [
    "from qiskit.compiler import transpile, assemble # transpile과 assemble 라이브러리를 불러옵니다."
   ]
  },
  {
   "cell_type": "code",
   "execution_count": 33,
   "metadata": {},
   "outputs": [
    {
     "data": {
      "image/png": "[encoded data removed]",
      "text/plain": [
       "<Figure size 447.797x264.88 with 1 Axes>"
      ]
     },
     "execution_count": 33,
     "metadata": {},
     "output_type": "execute_result"
    }
   ],
   "source": [
    "qc.draw(output='mpl') # 양자 회로를 그립니다."
   ]
  },
  {
   "cell_type": "markdown",
   "metadata": {},
   "source": [
    "양자 회로를 트랜스파일 해주기 전에 `ibmq_lima` 백엔드가 어떠한 기본 게이트로 구성되어 있는지 확인해 봅시다."
   ]
  },
  {
   "cell_type": "code",
   "execution_count": 34,
   "metadata": {},
   "outputs": [
    {
     "data": {
      "text/plain": [
       "['id', 'rz', 'sx', 'x', 'cx', 'reset']"
      ]
     },
     "execution_count": 34,
     "metadata": {},
     "output_type": "execute_result"
    }
   ],
   "source": [
    "backend = provider.get_backend('ibmq_lima') # ibmq_lima 백엔드를 불러옵니다.\n",
    "\n",
    "backend.configuration().basis_gates # 백엔드의 기본 게이트를 출력합니다."
   ]
  },
  {
   "cell_type": "markdown",
   "metadata": {},
   "source": [
    "`ibmq_lima` 백엔드에는 기본 게이트인 $CX, I, RZ, SX, X$ 게이트로 구성되있는것을 알 수 있습니다. `transpile`의 정도는 최적화의 단계를 설정해줌에 따라 달라지지만 이것에 대해서는 밑에서 자세히 다루겠습니다."
   ]
  },
  {
   "cell_type": "code",
   "execution_count": 35,
   "metadata": {},
   "outputs": [
    {
     "data": {
      "image/png": "[encoded data removed]",
      "text/plain": [
       "<Figure size 660.786x385.28 with 1 Axes>"
      ]
     },
     "execution_count": 35,
     "metadata": {},
     "output_type": "execute_result"
    }
   ],
   "source": [
    "backend = provider.get_backend('ibmq_lima') # ibmq_lima 백엔드를 불러옵니다.\n",
    "\n",
    "transpile_circuit = transpile(qc,backend) #backend에 맞게 qc 양자 회로를 transpile합니다.\n",
    "\n",
    "transpile_circuit.draw(output=\"mpl\") # transpile한 qc 양자 회로를 그립니다."
   ]
  },
  {
   "cell_type": "markdown",
   "metadata": {},
   "source": [
    "이제 트랜스파일 한 양자 회로를 실행해 봅시다."
   ]
  },
  {
   "cell_type": "code",
   "execution_count": 36,
   "metadata": {},
   "outputs": [],
   "source": [
    "job = backend.run(transpile_circuit) # transpile한 qc 양자 회로를 ibmq_lima 백엔드에 실행합니다."
   ]
  },
  {
   "cell_type": "code",
   "execution_count": 37,
   "metadata": {},
   "outputs": [
    {
     "name": "stdout",
     "output_type": "stream",
     "text": [
      "Job Status: job has successfully run\n"
     ]
    }
   ],
   "source": [
    "job_monitor(job) # 작업 상태를 실시간으로 확인합니다."
   ]
  },
  {
   "cell_type": "code",
   "execution_count": 38,
   "metadata": {},
   "outputs": [
    {
     "name": "stdout",
     "output_type": "stream",
     "text": [
      "{'000': 1903, '001': 31, '010': 11, '011': 82, '100': 26, '101': 72, '110': 96, '111': 1779}\n"
     ]
    }
   ],
   "source": [
    "result = job.result() # 결과를 result에 저장합니다.\n",
    "counts = result.get_counts(qc) # result에서 1024번의 qc 양자 회로 결과를 counts에 저장합니다.\n",
    "print(counts) # counts를 출력합니다."
   ]
  },
  {
   "cell_type": "code",
   "execution_count": 39,
   "metadata": {},
   "outputs": [
    {
     "name": "stderr",
     "output_type": "stream",
     "text": [
      "/Users/choi/opt/anaconda3/envs/qiskit/lib/python3.10/site-packages/IPython/core/pylabtools.py:151: UserWarning: Glyph 50577 (\\N{HANGUL SYLLABLE YANG}) missing from current font.\n",
      "  fig.canvas.print_figure(bytes_io, **kw)\n",
      "/Users/choi/opt/anaconda3/envs/qiskit/lib/python3.10/site-packages/IPython/core/pylabtools.py:151: UserWarning: Glyph 51088 (\\N{HANGUL SYLLABLE JA}) missing from current font.\n",
      "  fig.canvas.print_figure(bytes_io, **kw)\n",
      "/Users/choi/opt/anaconda3/envs/qiskit/lib/python3.10/site-packages/IPython/core/pylabtools.py:151: UserWarning: Glyph 54924 (\\N{HANGUL SYLLABLE HOE}) missing from current font.\n",
      "  fig.canvas.print_figure(bytes_io, **kw)\n",
      "/Users/choi/opt/anaconda3/envs/qiskit/lib/python3.10/site-packages/IPython/core/pylabtools.py:151: UserWarning: Glyph 47196 (\\N{HANGUL SYLLABLE RO}) missing from current font.\n",
      "  fig.canvas.print_figure(bytes_io, **kw)\n",
      "/Users/choi/opt/anaconda3/envs/qiskit/lib/python3.10/site-packages/IPython/core/pylabtools.py:151: UserWarning: Glyph 47484 (\\N{HANGUL SYLLABLE REUL}) missing from current font.\n",
      "  fig.canvas.print_figure(bytes_io, **kw)\n",
      "/Users/choi/opt/anaconda3/envs/qiskit/lib/python3.10/site-packages/IPython/core/pylabtools.py:151: UserWarning: Glyph 53944 (\\N{HANGUL SYLLABLE TEU}) missing from current font.\n",
      "  fig.canvas.print_figure(bytes_io, **kw)\n",
      "/Users/choi/opt/anaconda3/envs/qiskit/lib/python3.10/site-packages/IPython/core/pylabtools.py:151: UserWarning: Glyph 47004 (\\N{HANGUL SYLLABLE RAEN}) missing from current font.\n",
      "  fig.canvas.print_figure(bytes_io, **kw)\n",
      "/Users/choi/opt/anaconda3/envs/qiskit/lib/python3.10/site-packages/IPython/core/pylabtools.py:151: UserWarning: Glyph 49828 (\\N{HANGUL SYLLABLE SEU}) missing from current font.\n",
      "  fig.canvas.print_figure(bytes_io, **kw)\n",
      "/Users/choi/opt/anaconda3/envs/qiskit/lib/python3.10/site-packages/IPython/core/pylabtools.py:151: UserWarning: Glyph 54028 (\\N{HANGUL SYLLABLE PA}) missing from current font.\n",
      "  fig.canvas.print_figure(bytes_io, **kw)\n",
      "/Users/choi/opt/anaconda3/envs/qiskit/lib/python3.10/site-packages/IPython/core/pylabtools.py:151: UserWarning: Glyph 51068 (\\N{HANGUL SYLLABLE IL}) missing from current font.\n",
      "  fig.canvas.print_figure(bytes_io, **kw)\n",
      "/Users/choi/opt/anaconda3/envs/qiskit/lib/python3.10/site-packages/IPython/core/pylabtools.py:151: UserWarning: Glyph 54616 (\\N{HANGUL SYLLABLE HA}) missing from current font.\n",
      "  fig.canvas.print_figure(bytes_io, **kw)\n",
      "/Users/choi/opt/anaconda3/envs/qiskit/lib/python3.10/site-packages/IPython/core/pylabtools.py:151: UserWarning: Glyph 50668 (\\N{HANGUL SYLLABLE YEO}) missing from current font.\n",
      "  fig.canvas.print_figure(bytes_io, **kw)\n",
      "/Users/choi/opt/anaconda3/envs/qiskit/lib/python3.10/site-packages/IPython/core/pylabtools.py:151: UserWarning: Glyph 49892 (\\N{HANGUL SYLLABLE SIL}) missing from current font.\n",
      "  fig.canvas.print_figure(bytes_io, **kw)\n",
      "/Users/choi/opt/anaconda3/envs/qiskit/lib/python3.10/site-packages/IPython/core/pylabtools.py:151: UserWarning: Glyph 54665 (\\N{HANGUL SYLLABLE HAENG}) missing from current font.\n",
      "  fig.canvas.print_figure(bytes_io, **kw)\n",
      "/Users/choi/opt/anaconda3/envs/qiskit/lib/python3.10/site-packages/IPython/core/pylabtools.py:151: UserWarning: Glyph 54620 (\\N{HANGUL SYLLABLE HAN}) missing from current font.\n",
      "  fig.canvas.print_figure(bytes_io, **kw)\n",
      "/Users/choi/opt/anaconda3/envs/qiskit/lib/python3.10/site-packages/IPython/core/pylabtools.py:151: UserWarning: Glyph 44208 (\\N{HANGUL SYLLABLE GYEOL}) missing from current font.\n",
      "  fig.canvas.print_figure(bytes_io, **kw)\n",
      "/Users/choi/opt/anaconda3/envs/qiskit/lib/python3.10/site-packages/IPython/core/pylabtools.py:151: UserWarning: Glyph 44284 (\\N{HANGUL SYLLABLE GWA}) missing from current font.\n",
      "  fig.canvas.print_figure(bytes_io, **kw)\n"
     ]
    },
    {
     "data": {
      "image/png": "[encoded data removed]",
      "text/plain": [
       "<Figure size 504x360 with 1 Axes>"
      ]
     },
     "execution_count": 39,
     "metadata": {},
     "output_type": "execute_result"
    }
   ],
   "source": [
    "plot_histogram(counts, title=\"양자 회로를 트랜스파일 하여 실행한 결과\") # counts를 그립니다."
   ]
  },
  {
   "cell_type": "markdown",
   "metadata": {},
   "source": [
    "결과값을 보게 되면 역시 노이즈에 의해 낮은 확률로 원하지 않은 결과값도 같이 나온것을 볼 수 있습니다.\n",
    "\n",
    "***\n",
    "트랜스파일\n",
    "***\n",
    "\n",
    "위에서 사용한 트랜스파일 기능은 최적화의 단계를 설정하여 시스템에서 최적화된 양자 회로를 만들 수 있습니다. 또한 회로의 layout 그려 시각화 하여 더욱 많은 정보를 얻을 수 있습니다.\n",
    "- `plot_circuit_layout(circuit, backend)`를 사용하여 양자 회로의 layout을 그릴 수 있습니다. 양자 회로의 layout은 각 큐비트가 어떠한 큐비트와 연결이 되어 있는지 그리고 실제 장치에서 어떠한 큐비트를 사용을 위해 지정했는지 시각화 하여 보여줍니다.\n",
    "\n",
    "- `transpile(qc,backend,optimization_level=optional,initial_layout=optional)`을 사용하여 qc라는 양자 회로를 백엔드의 기준 게이트에 맞게 트랜스파일 해줍니다. `optimization_level`를 설정 해준다면 지정해준 단계만큼 최적화 시켜줍니다. 또한 `initial_layout`을 설정 해준다면 원하는 큐비트를 어떠한 실제 큐비트에 지정해주고 싶은지 설정할 수 있습니다.\n",
    "\n",
    "- `depth()`을 사용하여 트랜스파일된 양자 회로의 깊이를 출력하여 어느정도의 최적화가 효과적인지 비교하며 확인 할 수 있습니다. \n",
    "\n",
    "#### 트랜스 파일할 `qc_trans` 양자 회로"
   ]
  },
  {
   "cell_type": "code",
   "execution_count": 83,
   "metadata": {},
   "outputs": [
    {
     "data": {
      "image/png": "[encoded data removed]",
      "text/plain": [
       "<Figure size 327.397x204.68 with 1 Axes>"
      ]
     },
     "execution_count": 83,
     "metadata": {},
     "output_type": "execute_result"
    }
   ],
   "source": [
    "from math import pi\n",
    "\n",
    "qc_trans=QuantumCircuit(3)\n",
    "qc_trans.h(range(2))\n",
    "qc_trans.x(2)\n",
    "qc_trans.ccx(0,1,2)\n",
    "qc_trans.ry(pi,0)\n",
    "qc_trans.ch(1,2)\n",
    "qc_trans.tdg(2)\n",
    "qc_trans.cx(1,0)\n",
    "qc_trans.draw(output='mpl')"
   ]
  },
  {
   "cell_type": "markdown",
   "metadata": {},
   "source": [
    "#### 최적화 0단계 트랜스파일러"
   ]
  },
  {
   "cell_type": "code",
   "execution_count": 84,
   "metadata": {},
   "outputs": [
    {
     "data": {
      "image/png": "[encoded data removed]",
      "text/plain": [
       "<Figure size 1684.19x686.28 with 1 Axes>"
      ]
     },
     "execution_count": 84,
     "metadata": {},
     "output_type": "execute_result"
    }
   ],
   "source": [
    "transpile_circuit_0 = transpile(qc_trans,backend, optimization_level=0) # optimization_level을 0으로 설정하여 qc_trans 양자 회로를 트랜스파일 합니다.\n",
    "transpile_circuit_0.draw(output=\"mpl\") # 트랜스파일한 qc_trans 양자 회로를 그립니다."
   ]
  },
  {
   "cell_type": "code",
   "execution_count": 85,
   "metadata": {},
   "outputs": [
    {
     "data": {
      "image/png": "[encoded data removed]",
      "text/plain": [
       "<Figure size 360x360 with 1 Axes>"
      ]
     },
     "execution_count": 85,
     "metadata": {},
     "output_type": "execute_result"
    }
   ],
   "source": [
    "plot_circuit_layout(transpile_circuit_0, backend) # 트랜스파일한 qc_trans 양자 회로의 레이아웃을 그립니다."
   ]
  },
  {
   "cell_type": "code",
   "execution_count": 86,
   "metadata": {},
   "outputs": [
    {
     "data": {
      "text/plain": [
       "33"
      ]
     },
     "execution_count": 86,
     "metadata": {},
     "output_type": "execute_result"
    }
   ],
   "source": [
    "transpile_circuit_0.depth() # 트랜스파일한 qc_trans 양자 회로의 깊이를 출력합니다."
   ]
  },
  {
   "cell_type": "markdown",
   "metadata": {},
   "source": [
    "#### 최적화 1단계 트랜스파일러"
   ]
  },
  {
   "cell_type": "code",
   "execution_count": 87,
   "metadata": {},
   "outputs": [
    {
     "data": {
      "image/png": "[encoded data removed]",
      "text/plain": [
       "<Figure size 1684.19x686.28 with 1 Axes>"
      ]
     },
     "execution_count": 87,
     "metadata": {},
     "output_type": "execute_result"
    }
   ],
   "source": [
    "transpile_circuit_1 = transpile(qc_trans,backend, optimization_level=1) # optimization_level을 1로 설정하여 qc_trans 양자 회로를 트랜스파일 합니다.\n",
    "transpile_circuit_1.draw(output=\"mpl\") # 트랜스파일한 qc_trans 양자 회로를 그립니다."
   ]
  },
  {
   "cell_type": "code",
   "execution_count": 88,
   "metadata": {},
   "outputs": [
    {
     "data": {
      "image/png": "[encoded data removed]",
      "text/plain": [
       "<Figure size 360x360 with 1 Axes>"
      ]
     },
     "execution_count": 88,
     "metadata": {},
     "output_type": "execute_result"
    }
   ],
   "source": [
    "plot_circuit_layout(transpile_circuit_1, backend) # 트랜스파일한 qc_trans 양자 회로의 레이아웃을 그립니다."
   ]
  },
  {
   "cell_type": "code",
   "execution_count": 89,
   "metadata": {},
   "outputs": [
    {
     "data": {
      "text/plain": [
       "26"
      ]
     },
     "execution_count": 89,
     "metadata": {},
     "output_type": "execute_result"
    }
   ],
   "source": [
    "transpile_circuit_1.depth() # 트랜스파일한 qc_trans 양자 회로의 깊이를 출력합니다."
   ]
  },
  {
   "cell_type": "markdown",
   "metadata": {},
   "source": [
    "#### 최적화 2단계 트랜스파일러"
   ]
  },
  {
   "cell_type": "code",
   "execution_count": 90,
   "metadata": {},
   "outputs": [
    {
     "data": {
      "image/png": "[encoded data removed]",
      "text/plain": [
       "<Figure size 1684.19x686.28 with 1 Axes>"
      ]
     },
     "execution_count": 90,
     "metadata": {},
     "output_type": "execute_result"
    }
   ],
   "source": [
    "transpile_circuit_2 = transpile(qc_trans,backend, optimization_level=2) # optimization_level을 2로 설정하여 qc_trans 양자 회로를 트랜스파일 합니다.\n",
    "transpile_circuit_2.draw(output=\"mpl\") # 트랜스파일한 qc_trans 양자 회로를 그립니다."
   ]
  },
  {
   "cell_type": "code",
   "execution_count": 91,
   "metadata": {},
   "outputs": [
    {
     "data": {
      "image/png": "[encoded data removed]",
      "text/plain": [
       "<Figure size 360x360 with 1 Axes>"
      ]
     },
     "execution_count": 91,
     "metadata": {},
     "output_type": "execute_result"
    }
   ],
   "source": [
    "plot_circuit_layout(transpile_circuit_2, backend) # 트랜스파일한 qc_trans 양자 회로의 레이아웃을 그립니다."
   ]
  },
  {
   "cell_type": "code",
   "execution_count": 92,
   "metadata": {},
   "outputs": [
    {
     "data": {
      "text/plain": [
       "26"
      ]
     },
     "execution_count": 92,
     "metadata": {},
     "output_type": "execute_result"
    }
   ],
   "source": [
    "transpile_circuit_2.depth() # 트랜스파일한 qc_trans 양자 회로의 깊이를 출력합니다."
   ]
  },
  {
   "cell_type": "markdown",
   "metadata": {},
   "source": [
    "#### 최적화 3단계 트랜스파일러"
   ]
  },
  {
   "cell_type": "code",
   "execution_count": 93,
   "metadata": {},
   "outputs": [
    {
     "data": {
      "image/png": "[encoded data removed]",
      "text/plain": [
       "<Figure size 1563.79x325.08 with 1 Axes>"
      ]
     },
     "execution_count": 93,
     "metadata": {},
     "output_type": "execute_result"
    }
   ],
   "source": [
    "transpile_circuit_3 = transpile(qc_trans,backend, optimization_level=3) # optimization_level을 3으로 설정하여 qc_trans 양자 회로를 트랜스파일 합니다.\n",
    "transpile_circuit_3.draw(output=\"mpl\") # 트랜스파일한 qc_trans 양자 회로를 그립니다."
   ]
  },
  {
   "cell_type": "code",
   "execution_count": 94,
   "metadata": {},
   "outputs": [
    {
     "data": {
      "image/png": "[encoded data removed]",
      "text/plain": [
       "<Figure size 360x360 with 1 Axes>"
      ]
     },
     "execution_count": 94,
     "metadata": {},
     "output_type": "execute_result"
    }
   ],
   "source": [
    "plot_circuit_layout(transpile_circuit_3, backend) # 트랜스파일한 qc_trans 양자 회로의 레이아웃을 그립니다."
   ]
  },
  {
   "cell_type": "code",
   "execution_count": 95,
   "metadata": {},
   "outputs": [
    {
     "data": {
      "text/plain": [
       "23"
      ]
     },
     "execution_count": 95,
     "metadata": {},
     "output_type": "execute_result"
    }
   ],
   "source": [
    "transpile_circuit_3.depth() # 트랜스파일한 qc_trans 양자 회로의 깊이를 출력합니다."
   ]
  },
  {
   "cell_type": "markdown",
   "metadata": {},
   "source": [
    "최적화 단계는 0부터 3까지 이며 최적화 단계가 올라갈 수록 양자 회로의 깊이가 낮아지며 큐비트를 지정하는 실제 물리적 큐비트도 바뀌는것을 확인할 수 있습니다."
   ]
  },
  {
   "cell_type": "markdown",
   "metadata": {},
   "source": [
    "## 2. 백엔드\n",
    "백엔드는 시뮬레이션으로 사용할 수 있으며 실제 양자 장치를 사용할 수 있습니다. 이번 노트북에서는 백엔드를 크게 3가지로 소개하도록 하겠습니다.\n",
    "- Qiskit Aer\n",
    "- Basic Aer\n",
    "- 실제 양자 장치 (Real device)\n",
    "\n",
    "### Qiskit Aer 백엔드\n",
    "Qiskit Aer 시뮬레이터는 양자 회로를 노이즈가 있는 실제 양자 장치처럼 시뮬레이터을 하여 실행하게 해줍니다. 사용 가능한 Aer 백엔드는 `Aer.backends()`를 사용하여 확인해볼 수 있습니다. 여기서 노이즈는 실제 있는 IBMQ 장치에서 가상으로 만든 노이즈 모델을 사용할 수 있습니다."
   ]
  },
  {
   "cell_type": "code",
   "execution_count": 96,
   "metadata": {},
   "outputs": [
    {
     "data": {
      "text/plain": [
       "[AerSimulator('aer_simulator'),\n",
       " AerSimulator('aer_simulator_statevector'),\n",
       " AerSimulator('aer_simulator_density_matrix'),\n",
       " AerSimulator('aer_simulator_stabilizer'),\n",
       " AerSimulator('aer_simulator_matrix_product_state'),\n",
       " AerSimulator('aer_simulator_extended_stabilizer'),\n",
       " AerSimulator('aer_simulator_unitary'),\n",
       " AerSimulator('aer_simulator_superop'),\n",
       " QasmSimulator('qasm_simulator'),\n",
       " StatevectorSimulator('statevector_simulator'),\n",
       " UnitarySimulator('unitary_simulator'),\n",
       " PulseSimulator('pulse_simulator')]"
      ]
     },
     "execution_count": 96,
     "metadata": {},
     "output_type": "execute_result"
    }
   ],
   "source": [
    "Aer.backends() # Aer 백엔드의 목록을 불러옵니다."
   ]
  },
  {
   "cell_type": "markdown",
   "metadata": {},
   "source": [
    "목록중 `AerSimulator`을 실행하기 위해 아래와 같이 백엔드로 지정해줘서 사용해줄 수 있습니다. 만약 AerSimulator에 가상 양자 장치 백엔드를 지정 해주지 않았다면 노이즈가 없는 양자 회로를 실행하게 됩니다.\n",
    "\n",
    "#### 가상 양자 장치를 지정해주지 않은 AerSimulator (노이즈가 없음)"
   ]
  },
  {
   "cell_type": "code",
   "execution_count": 102,
   "metadata": {},
   "outputs": [],
   "source": [
    "from qiskit.providers.aer import AerSimulator #AerSimulator 라이브러리 불러오기"
   ]
  },
  {
   "cell_type": "code",
   "execution_count": 103,
   "metadata": {},
   "outputs": [
    {
     "data": {
      "image/png": "[encoded data removed]",
      "text/plain": [
       "<Figure size 447.797x264.88 with 1 Axes>"
      ]
     },
     "execution_count": 103,
     "metadata": {},
     "output_type": "execute_result"
    }
   ],
   "source": [
    "qc.draw(output='mpl') # qc 양자 회로를 그립니다."
   ]
  },
  {
   "cell_type": "code",
   "execution_count": 104,
   "metadata": {},
   "outputs": [
    {
     "name": "stdout",
     "output_type": "stream",
     "text": [
      "{'000': 490, '111': 534}\n"
     ]
    }
   ],
   "source": [
    "backend = AerSimulator() # AerSimulator 백엔드를 불러옵니다.\n",
    "result = backend.run(qc).result() # qc 양자 회로를 AerSimulator 백엔드에 실행합니다.\n",
    "counts=result.get_counts(qc) # result에서 기본 설정인 1024번의 qc 양자 회로 결과를 counts에 저장합니다.\n",
    "print(counts) # counts를 출력합니다."
   ]
  },
  {
   "cell_type": "code",
   "execution_count": 105,
   "metadata": {},
   "outputs": [
    {
     "name": "stderr",
     "output_type": "stream",
     "text": [
      "/Users/choi/opt/anaconda3/envs/qiskit/lib/python3.10/site-packages/IPython/core/pylabtools.py:151: UserWarning: Glyph 44032 (\\N{HANGUL SYLLABLE GA}) missing from current font.\n",
      "  fig.canvas.print_figure(bytes_io, **kw)\n",
      "/Users/choi/opt/anaconda3/envs/qiskit/lib/python3.10/site-packages/IPython/core/pylabtools.py:151: UserWarning: Glyph 49345 (\\N{HANGUL SYLLABLE SANG}) missing from current font.\n",
      "  fig.canvas.print_figure(bytes_io, **kw)\n",
      "/Users/choi/opt/anaconda3/envs/qiskit/lib/python3.10/site-packages/IPython/core/pylabtools.py:151: UserWarning: Glyph 48177 (\\N{HANGUL SYLLABLE BAEG}) missing from current font.\n",
      "  fig.canvas.print_figure(bytes_io, **kw)\n",
      "/Users/choi/opt/anaconda3/envs/qiskit/lib/python3.10/site-packages/IPython/core/pylabtools.py:151: UserWarning: Glyph 50644 (\\N{HANGUL SYLLABLE EN}) missing from current font.\n",
      "  fig.canvas.print_figure(bytes_io, **kw)\n",
      "/Users/choi/opt/anaconda3/envs/qiskit/lib/python3.10/site-packages/IPython/core/pylabtools.py:151: UserWarning: Glyph 46300 (\\N{HANGUL SYLLABLE DEU}) missing from current font.\n",
      "  fig.canvas.print_figure(bytes_io, **kw)\n",
      "/Users/choi/opt/anaconda3/envs/qiskit/lib/python3.10/site-packages/IPython/core/pylabtools.py:151: UserWarning: Glyph 47484 (\\N{HANGUL SYLLABLE REUL}) missing from current font.\n",
      "  fig.canvas.print_figure(bytes_io, **kw)\n",
      "/Users/choi/opt/anaconda3/envs/qiskit/lib/python3.10/site-packages/IPython/core/pylabtools.py:151: UserWarning: Glyph 51648 (\\N{HANGUL SYLLABLE JI}) missing from current font.\n",
      "  fig.canvas.print_figure(bytes_io, **kw)\n",
      "/Users/choi/opt/anaconda3/envs/qiskit/lib/python3.10/site-packages/IPython/core/pylabtools.py:151: UserWarning: Glyph 51221 (\\N{HANGUL SYLLABLE JEONG}) missing from current font.\n",
      "  fig.canvas.print_figure(bytes_io, **kw)\n",
      "/Users/choi/opt/anaconda3/envs/qiskit/lib/python3.10/site-packages/IPython/core/pylabtools.py:151: UserWarning: Glyph 54616 (\\N{HANGUL SYLLABLE HA}) missing from current font.\n",
      "  fig.canvas.print_figure(bytes_io, **kw)\n",
      "/Users/choi/opt/anaconda3/envs/qiskit/lib/python3.10/site-packages/IPython/core/pylabtools.py:151: UserWarning: Glyph 50506 (\\N{HANGUL SYLLABLE ANH}) missing from current font.\n",
      "  fig.canvas.print_figure(bytes_io, **kw)\n",
      "/Users/choi/opt/anaconda3/envs/qiskit/lib/python3.10/site-packages/IPython/core/pylabtools.py:151: UserWarning: Glyph 51008 (\\N{HANGUL SYLLABLE EUN}) missing from current font.\n",
      "  fig.canvas.print_figure(bytes_io, **kw)\n"
     ]
    },
    {
     "data": {
      "image/png": "[encoded data removed]",
      "text/plain": [
       "<Figure size 504x360 with 1 Axes>"
      ]
     },
     "execution_count": 105,
     "metadata": {},
     "output_type": "execute_result"
    }
   ],
   "source": [
    "plot_histogram(counts, title=\"가상 백엔드를 지정하지 않은 AerSimulator\") # counts를 그립니다."
   ]
  },
  {
   "cell_type": "markdown",
   "metadata": {},
   "source": [
    "#### 가상 양자 장치를 지정해준 AerSimulator (실제 양자 장치 노이즈 모델)\n",
    "\n",
    "사용 가능한 가상 양자 장치는 `qiskit.test.mock`라이브러리에 있는 `FakeProvider().backends()`를 사용하여 목록을 볼 수 있습니다."
   ]
  },
  {
   "cell_type": "code",
   "execution_count": 111,
   "metadata": {},
   "outputs": [
    {
     "name": "stderr",
     "output_type": "stream",
     "text": [
      "/var/folders/bz/9tqsqmh90592y3_wn1lrvm040000gn/T/ipykernel_12877/3557539256.py:1: DeprecationWarning: The module 'qiskit.test.mock' is deprecated since Qiskit Terra 0.21.0, and will be removed 3 months or more later. Instead, you should import the desired object directly 'qiskit.providers.fake_provider'.\n",
      "  from qiskit.test.mock import FakeProvider # FakeProvider 라이브러리를 불러옵니다.\n",
      "/var/folders/bz/9tqsqmh90592y3_wn1lrvm040000gn/T/ipykernel_12877/3557539256.py:2: DeprecationWarning: The module 'qiskit.test.mock' is deprecated since Qiskit Terra 0.21.0, and will be removed 3 months or more later. Instead, you should import the desired object directly 'qiskit.providers.fake_provider'.\n",
      "  from qiskit.test.mock import FakeMontreal # FakeMontreal를 불러옵니다.\n"
     ]
    }
   ],
   "source": [
    "from qiskit.test.mock import FakeProvider # FakeProvider 라이브러리를 불러옵니다.\n",
    "from qiskit.test.mock import FakeMontreal # FakeMontreal를 불러옵니다."
   ]
  },
  {
   "cell_type": "code",
   "execution_count": 112,
   "metadata": {},
   "outputs": [
    {
     "data": {
      "text/plain": [
       "[<FakeAlmaden('fake_almaden')>,\n",
       " <FakeArmonk('fake_armonk')>,\n",
       " <FakeAthens('fake_athens')>,\n",
       " <FakeBelem('fake_belem')>,\n",
       " <FakeBoeblingen('fake_boeblingen')>,\n",
       " <FakeBogota('fake_bogota')>,\n",
       " <FakeBrooklyn('fake_brooklyn')>,\n",
       " <FakeBurlington('fake_burlington')>,\n",
       " <FakeCairo('fake_cairo')>,\n",
       " <FakeCambridge('fake_cambridge')>,\n",
       " <FakeCambridgeAlternativeBasis('fake_cambridge')>,\n",
       " <FakeCasablanca('fake_casablanca')>,\n",
       " <FakeEssex('fake_essex')>,\n",
       " <FakeGuadalupe('fake_guadalupe')>,\n",
       " <FakeHanoi('fake_hanoi')>,\n",
       " <FakeJakarta('fake_jakarta')>,\n",
       " <FakeJohannesburg('fake_johannesburg')>,\n",
       " <FakeKolkata('fake_kolkata')>,\n",
       " <FakeLagos('fake_lagos')>,\n",
       " <FakeLima('fake_lima')>,\n",
       " <FakeLondon('fake_london')>,\n",
       " <FakeManila('fake_manila')>,\n",
       " <FakeManhattan('fake_manhattan')>,\n",
       " <FakeMelbourne('fake_melbourne')>,\n",
       " <FakeMontreal('fake_montreal')>,\n",
       " <FakeMumbai('fake_mumbai')>,\n",
       " <FakeNairobi('fake_nairobi')>,\n",
       " <FakeOpenPulse2Q('fake_openpulse_2q')>,\n",
       " <FakeOpenPulse3Q('fake_openpulse_3q')>,\n",
       " <FakeOurense('fake_ourense')>,\n",
       " <FakeParis('fake_paris')>,\n",
       " <FakePoughkeepsie('fake_poughkeepsie')>,\n",
       " <FakeQasmSimulator('fake_qasm_simulator')>,\n",
       " <FakeQuito('fake_quito')>,\n",
       " <FakeRochester('fake_rochester')>,\n",
       " <FakeRome('fake_rome')>,\n",
       " <FakeRueschlikon('fake_rueschlikon')>,\n",
       " <FakeSantiago('fake_santiago')>,\n",
       " <FakeSingapore('fake_singapore')>,\n",
       " <FakeSydney('fake_sydney')>,\n",
       " <FakeTenerife('fake_tenerife')>,\n",
       " <FakeTokyo('fake_tokyo')>,\n",
       " <FakeToronto('fake_toronto')>,\n",
       " <FakeValencia('fake_valencia')>,\n",
       " <FakeVigo('fake_vigo')>,\n",
       " <FakeWashington('fake_washington')>,\n",
       " <FakeYorktown('fake_yorktown')>]"
      ]
     },
     "execution_count": 112,
     "metadata": {},
     "output_type": "execute_result"
    }
   ],
   "source": [
    "FakeProvider().backends() # FakeProvider 백엔드의 목록을 불러옵니다."
   ]
  },
  {
   "cell_type": "markdown",
   "metadata": {},
   "source": [
    "이번 예제에서는 `ibmq_montreal`의 실제 양자 장치를 노이즈 모델링 하여 사용 하기 위해 `FakeMontreal`을 AerSimulator에 사용하겠습니다."
   ]
  },
  {
   "cell_type": "code",
   "execution_count": 113,
   "metadata": {},
   "outputs": [
    {
     "name": "stdout",
     "output_type": "stream",
     "text": [
      "{'011': 11, '111': 448, '001': 1, '100': 5, '110': 6, '000': 495, '010': 26, '101': 32}\n"
     ]
    }
   ],
   "source": [
    "backend=AerSimulator.from_backend(FakeMontreal()) # FakeMontreal 백엔드를 AerSimulator을 이용하여 불러옵니다.\n",
    "result = backend.run(qc).result() # qc 양자 회로를 FakeMontreal 백엔드에 실행합니다.\n",
    "counts=result.get_counts(qc) # result에서 기본 설정인 1024번의 qc 양자 회로 결과를 counts에 저장합니다.\n",
    "print(counts) # counts를 출력합니다."
   ]
  },
  {
   "cell_type": "code",
   "execution_count": 114,
   "metadata": {},
   "outputs": [
    {
     "name": "stderr",
     "output_type": "stream",
     "text": [
      "/Users/choi/opt/anaconda3/envs/qiskit/lib/python3.10/site-packages/IPython/core/pylabtools.py:151: UserWarning: Glyph 44032 (\\N{HANGUL SYLLABLE GA}) missing from current font.\n",
      "  fig.canvas.print_figure(bytes_io, **kw)\n",
      "/Users/choi/opt/anaconda3/envs/qiskit/lib/python3.10/site-packages/IPython/core/pylabtools.py:151: UserWarning: Glyph 49345 (\\N{HANGUL SYLLABLE SANG}) missing from current font.\n",
      "  fig.canvas.print_figure(bytes_io, **kw)\n",
      "/Users/choi/opt/anaconda3/envs/qiskit/lib/python3.10/site-packages/IPython/core/pylabtools.py:151: UserWarning: Glyph 50577 (\\N{HANGUL SYLLABLE YANG}) missing from current font.\n",
      "  fig.canvas.print_figure(bytes_io, **kw)\n",
      "/Users/choi/opt/anaconda3/envs/qiskit/lib/python3.10/site-packages/IPython/core/pylabtools.py:151: UserWarning: Glyph 51088 (\\N{HANGUL SYLLABLE JA}) missing from current font.\n",
      "  fig.canvas.print_figure(bytes_io, **kw)\n",
      "/Users/choi/opt/anaconda3/envs/qiskit/lib/python3.10/site-packages/IPython/core/pylabtools.py:151: UserWarning: Glyph 51109 (\\N{HANGUL SYLLABLE JANG}) missing from current font.\n",
      "  fig.canvas.print_figure(bytes_io, **kw)\n",
      "/Users/choi/opt/anaconda3/envs/qiskit/lib/python3.10/site-packages/IPython/core/pylabtools.py:151: UserWarning: Glyph 52824 (\\N{HANGUL SYLLABLE CI}) missing from current font.\n",
      "  fig.canvas.print_figure(bytes_io, **kw)\n",
      "/Users/choi/opt/anaconda3/envs/qiskit/lib/python3.10/site-packages/IPython/core/pylabtools.py:151: UserWarning: Glyph 47484 (\\N{HANGUL SYLLABLE REUL}) missing from current font.\n",
      "  fig.canvas.print_figure(bytes_io, **kw)\n",
      "/Users/choi/opt/anaconda3/envs/qiskit/lib/python3.10/site-packages/IPython/core/pylabtools.py:151: UserWarning: Glyph 51060 (\\N{HANGUL SYLLABLE I}) missing from current font.\n",
      "  fig.canvas.print_figure(bytes_io, **kw)\n",
      "/Users/choi/opt/anaconda3/envs/qiskit/lib/python3.10/site-packages/IPython/core/pylabtools.py:151: UserWarning: Glyph 50857 (\\N{HANGUL SYLLABLE YONG}) missing from current font.\n",
      "  fig.canvas.print_figure(bytes_io, **kw)\n",
      "/Users/choi/opt/anaconda3/envs/qiskit/lib/python3.10/site-packages/IPython/core/pylabtools.py:151: UserWarning: Glyph 54620 (\\N{HANGUL SYLLABLE HAN}) missing from current font.\n",
      "  fig.canvas.print_figure(bytes_io, **kw)\n",
      "/Users/choi/opt/anaconda3/envs/qiskit/lib/python3.10/site-packages/IPython/core/pylabtools.py:151: UserWarning: Glyph 44208 (\\N{HANGUL SYLLABLE GYEOL}) missing from current font.\n",
      "  fig.canvas.print_figure(bytes_io, **kw)\n",
      "/Users/choi/opt/anaconda3/envs/qiskit/lib/python3.10/site-packages/IPython/core/pylabtools.py:151: UserWarning: Glyph 44284 (\\N{HANGUL SYLLABLE GWA}) missing from current font.\n",
      "  fig.canvas.print_figure(bytes_io, **kw)\n"
     ]
    },
    {
     "data": {
      "image/png": "[encoded data removed]",
      "text/plain": [
       "<Figure size 504x360 with 1 Axes>"
      ]
     },
     "execution_count": 114,
     "metadata": {},
     "output_type": "execute_result"
    }
   ],
   "source": [
    "plot_histogram(counts, title=\"FakeMontreal 가상 양자 장치를 이용한 AerSimulator 결과\")"
   ]
  },
  {
   "cell_type": "markdown",
   "metadata": {},
   "source": [
    "#### 이러한 aer_simulator을 백엔드로 지정하는 3가지의 방법\n",
    "1. Provider 이용하기\n",
    "2. Aer 이용하기\n",
    "3. AerSimulator 이용하기\n",
    "\n",
    "이러한 다른 방법은 같은 시뮬레이터를 불러오기 때문이 동일한 결과값을 내보냅니다.\n",
    "\n",
    "***\n",
    "Provider를 사용하는 방법\n",
    "***"
   ]
  },
  {
   "cell_type": "code",
   "execution_count": 119,
   "metadata": {},
   "outputs": [
    {
     "data": {
      "text/plain": [
       "[AerSimulator('aer_simulator')]"
      ]
     },
     "execution_count": 119,
     "metadata": {},
     "output_type": "execute_result"
    }
   ],
   "source": [
    "provider = AerProvider() # AerProvider를 provider로 지정해줍니다.\n",
    "backend=provider.backends(name='aer_simulator') # provider에서 aer_simulator 백엔드를 불러옵니다.\n",
    "backend"
   ]
  },
  {
   "cell_type": "markdown",
   "metadata": {},
   "source": [
    "***\n",
    "Aer를 사용하는 방법\n",
    "***"
   ]
  },
  {
   "cell_type": "code",
   "execution_count": 120,
   "metadata": {},
   "outputs": [
    {
     "data": {
      "text/plain": [
       "[AerSimulator('aer_simulator')]"
      ]
     },
     "execution_count": 120,
     "metadata": {},
     "output_type": "execute_result"
    }
   ],
   "source": [
    "backend = Aer.backends(name='aer_simulator') # Aer에서 aer_simulator 백엔드를 불러옵니다.\n",
    "backend"
   ]
  },
  {
   "cell_type": "markdown",
   "metadata": {},
   "source": [
    "***\n",
    "AerSimulator를 사용하는 방법\n",
    "***"
   ]
  },
  {
   "cell_type": "code",
   "execution_count": 122,
   "metadata": {},
   "outputs": [
    {
     "data": {
      "text/plain": [
       "AerSimulator('aer_simulator')"
      ]
     },
     "execution_count": 122,
     "metadata": {},
     "output_type": "execute_result"
    }
   ],
   "source": [
    "backend=AerSimulator() # AerSimulator 백엔드를 불러옵니다.\n",
    "backend"
   ]
  },
  {
   "cell_type": "markdown",
   "metadata": {},
   "source": [
    "### Basic Aer 백엔드\n",
    "\n",
    "Basic Aer은 고전 프로그래밍인 파이썬을 기반으로 둔 양자 시뮬레이터 입니다. 이러한 파이썬 시뮬레이터 Basic Aer은 대표적으로 3가지가 있습니다.\n",
    "- `qasm simulator`\n",
    "- `statevector simulator`\n",
    "- `unitary simulator`\n",
    "\n",
    "이러한 Basic Aer 백엔드는 `BasicAer.backends()`를 통해 목록을 출력 할 수 있습니다."
   ]
  },
  {
   "cell_type": "code",
   "execution_count": 123,
   "metadata": {},
   "outputs": [
    {
     "name": "stdout",
     "output_type": "stream",
     "text": [
      "qasm_simulator\n",
      "statevector_simulator\n",
      "unitary_simulator\n"
     ]
    }
   ],
   "source": [
    "backend_list = BasicAer.backends() # BasicAer 백엔드의 목록을 불러옵니다.\n",
    "\n",
    "for name in backend_list:\n",
    "    print(name) # BasicAer 백엔드의 목록을 출력합니다."
   ]
  },
  {
   "cell_type": "markdown",
   "metadata": {},
   "source": [
    "- `QasmSimulator`\n",
    "\n",
    "\n",
    "QasmSimulator은 파이썬을 활용한 노이즈가 있는 양자 회로의 시뮬레이터 백엔드 입니다. QasmSimulator은 여러 시뮬레이선 방법을 지원 하며 각 시뮬레이션 방법에 설정 가능한 옵션들이 있습니다. QasmSimulator에 대한 자세한 내용은 [링크](https://qiskit.org/documentation/stubs/qiskit.providers.aer.QasmSimulator.html)를 통해 알 수 있습니다.\n",
    "\n",
    "- `StatevectorSimulator`\n",
    "\n",
    "\n",
    "StatevectorSimulator은 노이즈가 없는 이상적인 양자 회로 상태벡터 시뮬레이터 입니다. StatevectorSimulator은 CPU와 GQU 시뮬레이션 방법을 사용하며 추가적으로 설정 할 수 있는 옵션들이 있습니다. StateVectorSimulator에 대한 자세한 내용은 [링크](https://qiskit.org/documentation/stubs/qiskit.providers.aer.StatevectorSimulator.html)를 통해 알 수 있습니다.\n",
    "\n",
    "\n",
    "- `UnitarySimulator`\n",
    "\n",
    "\n",
    "UnitarySimulator은 노이즈가 없는 이상적인 양자 회로 유니터리 시뮬레이터 입니다. UnitarySimulator은 CPU와 GPU 시물레이션 방법을 사용하며 추가적으로 설정 할 수 있는 옵션들이 있습니다. UnitarySimulator에 대한 자세한 내용은 [링크](https://qiskit.org/documentation/stubs/qiskit.providers.aer.UnitarySimulator.html)를 통해 알 수 있습니다.\n",
    "\n",
    "이러한 Basic Aer 시뮬레이터 역세 3가지 방법으로 백엔드로 지정해줄 수 있습니다.\n",
    "1. BasicAer 사용하기\n",
    "2. BasicAerProvider 사용하기\n",
    "3. QasmSimulatorPy 사용하기\n",
    "\n",
    "***\n",
    "BasicAer을 이용하여 백엔드로 설정하기\n",
    "***"
   ]
  },
  {
   "cell_type": "code",
   "execution_count": 124,
   "metadata": {},
   "outputs": [
    {
     "data": {
      "text/plain": [
       "[<QasmSimulatorPy('qasm_simulator')>]"
      ]
     },
     "execution_count": 124,
     "metadata": {},
     "output_type": "execute_result"
    }
   ],
   "source": [
    "backend=BasicAer.backends(name='qasm_simulator')\n",
    "backend"
   ]
  },
  {
   "cell_type": "markdown",
   "metadata": {},
   "source": [
    "***\n",
    "BasicAerProvider을 이용하여 백엔드로 설정하기\n",
    "***"
   ]
  },
  {
   "cell_type": "code",
   "execution_count": 125,
   "metadata": {},
   "outputs": [],
   "source": [
    "from qiskit.providers.basicaer import BasicAerProvider"
   ]
  },
  {
   "cell_type": "code",
   "execution_count": 126,
   "metadata": {},
   "outputs": [
    {
     "data": {
      "text/plain": [
       "[QasmSimulator('qasm_simulator')]"
      ]
     },
     "execution_count": 126,
     "metadata": {},
     "output_type": "execute_result"
    }
   ],
   "source": [
    "provder = BasicAerProvider() # BasicAerProvider를 provider로 지정해줍니다.\n",
    "backend=provider.backends(name='qasm_simulator') # provider에서 qasm_simulator 백엔드를 불러옵니다.\n",
    "backend"
   ]
  },
  {
   "cell_type": "markdown",
   "metadata": {},
   "source": [
    "***\n",
    "QasmSimulatorPy를 이용하여 백엔드로 설정하기\n",
    "***"
   ]
  },
  {
   "cell_type": "code",
   "execution_count": 128,
   "metadata": {},
   "outputs": [],
   "source": [
    "from qiskit.providers.basicaer import QasmSimulatorPy # QasmSimulatorPy 라이브러리를 불러옵니다."
   ]
  },
  {
   "cell_type": "code",
   "execution_count": 129,
   "metadata": {},
   "outputs": [
    {
     "data": {
      "text/plain": [
       "<QasmSimulatorPy('qasm_simulator')>"
      ]
     },
     "execution_count": 129,
     "metadata": {},
     "output_type": "execute_result"
    }
   ],
   "source": [
    "backend = QasmSimulatorPy() # QasmSimulatorPy 백엔드를 불러옵니다.\n",
    "backend"
   ]
  },
  {
   "cell_type": "markdown",
   "metadata": {},
   "source": [
    "### 실제 양자 장치\n",
    "\n",
    "실제 양자 장치에 양자 회로의 작업을 보내 실행 시킬 수 있습니다. 하지만 실제 양자 장치에 작업을 보내게 될 경우 기다린 대기열을 기다릴 필요가 있으며 시간이 생각보다 오래 걸릴 수 있습니다. 우선은 실제 양자 장치에 작업을 보내기 위해 계정을 로드 해줘야 합니다."
   ]
  },
  {
   "cell_type": "code",
   "execution_count": 133,
   "metadata": {},
   "outputs": [
    {
     "name": "stderr",
     "output_type": "stream",
     "text": [
      "ibmqfactory.load_account:WARNING:2022-08-31 18:11:09,115: Credentials are already in use. The existing account in the session will be replaced.\n"
     ]
    }
   ],
   "source": [
    "ibmq_account = IBMQ.load_account() # IBMQ 계정을 불러옵니다."
   ]
  },
  {
   "cell_type": "code",
   "execution_count": 134,
   "metadata": {},
   "outputs": [
    {
     "data": {
      "text/plain": [
       "[<AccountProvider for IBMQ(hub='ibm-q', group='open', project='main')>,\n",
       " <AccountProvider for IBMQ(hub='ibm-q-education', group='ibm-4', project='qiskit-hackathon')>,\n",
       " <AccountProvider for IBMQ(hub='strangeworks-hub', group='qc-com', project='runtime')>,\n",
       " <AccountProvider for IBMQ(hub='q-summer-school', group='main', project='project-3')>]"
      ]
     },
     "execution_count": 134,
     "metadata": {},
     "output_type": "execute_result"
    }
   ],
   "source": [
    "IBMQ.providers() # IBMQ에서 권한을 가지고 사용 할 수 있는 백엔드의 공급자(Provider) 목록을 불러옵니다."
   ]
  },
  {
   "cell_type": "markdown",
   "metadata": {},
   "source": [
    "사용 할 수 있는 백엔드의 목록을 불러오기 위해 `backends()`를 사용합니다."
   ]
  },
  {
   "cell_type": "code",
   "execution_count": 136,
   "metadata": {},
   "outputs": [
    {
     "data": {
      "text/plain": [
       "[<IBMQSimulator('ibmq_qasm_simulator') from IBMQ(hub='ibm-q', group='open', project='main')>,\n",
       " <IBMQBackend('ibmq_lima') from IBMQ(hub='ibm-q', group='open', project='main')>,\n",
       " <IBMQBackend('ibmq_belem') from IBMQ(hub='ibm-q', group='open', project='main')>,\n",
       " <IBMQBackend('ibmq_quito') from IBMQ(hub='ibm-q', group='open', project='main')>,\n",
       " <IBMQSimulator('simulator_statevector') from IBMQ(hub='ibm-q', group='open', project='main')>,\n",
       " <IBMQSimulator('simulator_mps') from IBMQ(hub='ibm-q', group='open', project='main')>,\n",
       " <IBMQSimulator('simulator_extended_stabilizer') from IBMQ(hub='ibm-q', group='open', project='main')>,\n",
       " <IBMQSimulator('simulator_stabilizer') from IBMQ(hub='ibm-q', group='open', project='main')>,\n",
       " <IBMQBackend('ibmq_manila') from IBMQ(hub='ibm-q', group='open', project='main')>,\n",
       " <IBMQBackend('ibm_nairobi') from IBMQ(hub='ibm-q', group='open', project='main')>,\n",
       " <IBMQBackend('ibm_oslo') from IBMQ(hub='ibm-q', group='open', project='main')>]"
      ]
     },
     "execution_count": 136,
     "metadata": {},
     "output_type": "execute_result"
    }
   ],
   "source": [
    "backends = ibmq_account.backends() # ibmq_accounts에서 사용 가능한 백엔드의 목록을 불러옵니다.\n",
    "backends"
   ]
  },
  {
   "cell_type": "markdown",
   "metadata": {},
   "source": [
    "특정한 백엔드를 지정해주기 위해 `get_backend('backend')`를 사용합니다."
   ]
  },
  {
   "cell_type": "code",
   "execution_count": 147,
   "metadata": {},
   "outputs": [
    {
     "data": {
      "application/vnd.jupyter.widget-view+json": {
       "model_id": "9696a13f7bca4ac1b4365342e37d0549",
       "version_major": 2,
       "version_minor": 0
      },
      "text/plain": [
       "VBox(children=(HTML(value=\"<h1 style='color:#ffffff;background-color:#000000;padding-top: 1%;padding-bottom: 1…"
      ]
     },
     "metadata": {},
     "output_type": "display_data"
    },
    {
     "data": {
      "text/plain": [
       "<IBMQBackend('ibmq_belem') from IBMQ(hub='ibm-q', group='open', project='main')>"
      ]
     },
     "execution_count": 147,
     "metadata": {},
     "output_type": "execute_result"
    }
   ],
   "source": [
    "backend = ibmq_account.get_backend('ibmq_belem')\n",
    "backend"
   ]
  },
  {
   "cell_type": "markdown",
   "metadata": {},
   "source": [
    "또 다른 방법으로는 `get_backend`를 사용 하지 않고 직접 불러올 수 있습니다."
   ]
  },
  {
   "cell_type": "code",
   "execution_count": 148,
   "metadata": {},
   "outputs": [
    {
     "data": {
      "application/vnd.jupyter.widget-view+json": {
       "model_id": "b32a41a948bf44ec815058ab36635ef6",
       "version_major": 2,
       "version_minor": 0
      },
      "text/plain": [
       "VBox(children=(HTML(value=\"<h1 style='color:#ffffff;background-color:#000000;padding-top: 1%;padding-bottom: 1…"
      ]
     },
     "metadata": {},
     "output_type": "display_data"
    },
    {
     "data": {
      "text/plain": [
       "<IBMQBackend('ibmq_belem') from IBMQ(hub='ibm-q', group='open', project='main')>"
      ]
     },
     "execution_count": 148,
     "metadata": {},
     "output_type": "execute_result"
    }
   ],
   "source": [
    "backend = ibmq_account.backend.ibmq_belem\n",
    "backend"
   ]
  },
  {
   "cell_type": "markdown",
   "metadata": {},
   "source": [
    "권한이 많을 수록 더욱 많은 백엔드를 지정 할 수 있으며 이러한 많은 백엔드 중 원하는 백엔드를 찾기 도와주는 옵션들도 있습니다.\n",
    "\n",
    "***\n",
    "5 큐비트가 넘는 백엔드에 접근하기\n",
    "***\n",
    "\n",
    "우선 허브를 provider을 지정해 필요한 백엔드의 공급자를 지정해줍시다. 여기서는 `hub='ibm-q'`라는 허브를 지정해줄 것이며 지정 해준 허브 안에서 재공되는 백엔드 한에서 백엔드를 찾게 됩니다."
   ]
  },
  {
   "cell_type": "code",
   "execution_count": 140,
   "metadata": {},
   "outputs": [
    {
     "data": {
      "text/plain": [
       "[<IBMQSimulator('ibmq_qasm_simulator') from IBMQ(hub='ibm-q', group='open', project='main')>,\n",
       " <IBMQBackend('ibmq_lima') from IBMQ(hub='ibm-q', group='open', project='main')>,\n",
       " <IBMQBackend('ibmq_belem') from IBMQ(hub='ibm-q', group='open', project='main')>,\n",
       " <IBMQBackend('ibmq_quito') from IBMQ(hub='ibm-q', group='open', project='main')>,\n",
       " <IBMQSimulator('simulator_statevector') from IBMQ(hub='ibm-q', group='open', project='main')>,\n",
       " <IBMQSimulator('simulator_mps') from IBMQ(hub='ibm-q', group='open', project='main')>,\n",
       " <IBMQSimulator('simulator_extended_stabilizer') from IBMQ(hub='ibm-q', group='open', project='main')>,\n",
       " <IBMQSimulator('simulator_stabilizer') from IBMQ(hub='ibm-q', group='open', project='main')>,\n",
       " <IBMQBackend('ibmq_manila') from IBMQ(hub='ibm-q', group='open', project='main')>,\n",
       " <IBMQBackend('ibm_nairobi') from IBMQ(hub='ibm-q', group='open', project='main')>,\n",
       " <IBMQBackend('ibm_oslo') from IBMQ(hub='ibm-q', group='open', project='main')>]"
      ]
     },
     "execution_count": 140,
     "metadata": {},
     "output_type": "execute_result"
    }
   ],
   "source": [
    "ibmq_provider = IBMQ.get_provider(hub='ibm-q') # ibm-q hub를 불러옵니다.\n",
    "\n",
    "ibmq_provider.backends() # ibm-q hub에서 사용 가능한 백엔드의 목록을 불러옵니다."
   ]
  },
  {
   "cell_type": "code",
   "execution_count": 141,
   "metadata": {},
   "outputs": [
    {
     "data": {
      "text/plain": [
       "[<IBMQSimulator('ibmq_qasm_simulator') from IBMQ(hub='ibm-q', group='open', project='main')>,\n",
       " <IBMQSimulator('simulator_statevector') from IBMQ(hub='ibm-q', group='open', project='main')>,\n",
       " <IBMQSimulator('simulator_mps') from IBMQ(hub='ibm-q', group='open', project='main')>,\n",
       " <IBMQSimulator('simulator_extended_stabilizer') from IBMQ(hub='ibm-q', group='open', project='main')>,\n",
       " <IBMQSimulator('simulator_stabilizer') from IBMQ(hub='ibm-q', group='open', project='main')>,\n",
       " <IBMQBackend('ibm_nairobi') from IBMQ(hub='ibm-q', group='open', project='main')>,\n",
       " <IBMQBackend('ibm_oslo') from IBMQ(hub='ibm-q', group='open', project='main')>]"
      ]
     },
     "execution_count": 141,
     "metadata": {},
     "output_type": "execute_result"
    }
   ],
   "source": [
    "ibmq_provider.backends(filters=lambda b: b.configuration().n_qubits > 5)"
   ]
  },
  {
   "cell_type": "markdown",
   "metadata": {},
   "source": [
    "***\n",
    "정확히 5 큐비트를 가지고 있는 백엔드 찾기\n",
    "***"
   ]
  },
  {
   "cell_type": "code",
   "execution_count": 142,
   "metadata": {},
   "outputs": [
    {
     "data": {
      "text/plain": [
       "[<IBMQBackend('ibmq_lima') from IBMQ(hub='ibm-q', group='open', project='main')>,\n",
       " <IBMQBackend('ibmq_belem') from IBMQ(hub='ibm-q', group='open', project='main')>,\n",
       " <IBMQBackend('ibmq_quito') from IBMQ(hub='ibm-q', group='open', project='main')>,\n",
       " <IBMQBackend('ibmq_manila') from IBMQ(hub='ibm-q', group='open', project='main')>]"
      ]
     },
     "execution_count": 142,
     "metadata": {},
     "output_type": "execute_result"
    }
   ],
   "source": [
    "ibmq_provider.backends(n_qubits=5, operational=True)"
   ]
  },
  {
   "cell_type": "markdown",
   "metadata": {},
   "source": [
    "***\n",
    "사용 가능한 백엔드 중 시뮬레이터를 제외하고 실제 양자 장치만 찾기\n",
    "***"
   ]
  },
  {
   "cell_type": "code",
   "execution_count": 143,
   "metadata": {},
   "outputs": [
    {
     "data": {
      "text/plain": [
       "[<IBMQBackend('ibmq_lima') from IBMQ(hub='ibm-q', group='open', project='main')>,\n",
       " <IBMQBackend('ibmq_belem') from IBMQ(hub='ibm-q', group='open', project='main')>,\n",
       " <IBMQBackend('ibmq_quito') from IBMQ(hub='ibm-q', group='open', project='main')>,\n",
       " <IBMQBackend('ibmq_manila') from IBMQ(hub='ibm-q', group='open', project='main')>,\n",
       " <IBMQBackend('ibm_nairobi') from IBMQ(hub='ibm-q', group='open', project='main')>,\n",
       " <IBMQBackend('ibm_oslo') from IBMQ(hub='ibm-q', group='open', project='main')>]"
      ]
     },
     "execution_count": 143,
     "metadata": {},
     "output_type": "execute_result"
    }
   ],
   "source": [
    "ibmq_provider.backends(simulator=False, operational=True)"
   ]
  },
  {
   "cell_type": "markdown",
   "metadata": {},
   "source": [
    "***\n",
    "사용 가능한 백엔드 중 시뮬레이터만 찾기\n",
    "***"
   ]
  },
  {
   "cell_type": "code",
   "execution_count": 144,
   "metadata": {},
   "outputs": [
    {
     "data": {
      "text/plain": [
       "[<IBMQSimulator('ibmq_qasm_simulator') from IBMQ(hub='ibm-q', group='open', project='main')>,\n",
       " <IBMQSimulator('simulator_statevector') from IBMQ(hub='ibm-q', group='open', project='main')>,\n",
       " <IBMQSimulator('simulator_mps') from IBMQ(hub='ibm-q', group='open', project='main')>,\n",
       " <IBMQSimulator('simulator_extended_stabilizer') from IBMQ(hub='ibm-q', group='open', project='main')>,\n",
       " <IBMQSimulator('simulator_stabilizer') from IBMQ(hub='ibm-q', group='open', project='main')>]"
      ]
     },
     "execution_count": 144,
     "metadata": {},
     "output_type": "execute_result"
    }
   ],
   "source": [
    "\n",
    "ibmq_provider.backends(simulator=True)"
   ]
  },
  {
   "cell_type": "markdown",
   "metadata": {},
   "source": [
    "***\n",
    "실제 양자 장치중에서 가장 대기열이 낮은 백엔드 찾기\n",
    "***\n",
    "\n",
    "가장 대기열이 낮은 백엔드는 `least_busy`를 사용하여 불러올 수 있습니다. `least_busy`를 사용하기 위해선 라이브러리를 먼저 불러와야 합니다."
   ]
  },
  {
   "cell_type": "code",
   "execution_count": 145,
   "metadata": {},
   "outputs": [],
   "source": [
    "from qiskit.providers.ibmq import least_busy # least_busy 라이브러리를 불러옵니다."
   ]
  },
  {
   "cell_type": "code",
   "execution_count": 146,
   "metadata": {},
   "outputs": [
    {
     "data": {
      "application/vnd.jupyter.widget-view+json": {
       "model_id": "34cc5e7650694c58a4eb6563bb32c46a",
       "version_major": 2,
       "version_minor": 0
      },
      "text/plain": [
       "VBox(children=(HTML(value=\"<h1 style='color:#ffffff;background-color:#000000;padding-top: 1%;padding-bottom: 1…"
      ]
     },
     "metadata": {},
     "output_type": "display_data"
    },
    {
     "data": {
      "text/plain": [
       "<IBMQBackend('ibmq_quito') from IBMQ(hub='ibm-q', group='open', project='main')>"
      ]
     },
     "execution_count": 146,
     "metadata": {},
     "output_type": "execute_result"
    }
   ],
   "source": [
    "least_busy(ibmq_provider.backends(simulator=False, operational=True))"
   ]
  },
  {
   "cell_type": "markdown",
   "metadata": {},
   "source": [
    "#### 백엔드의 정보 불러오기\n",
    "\n",
    "백엔드의 정보를 불러올 수 있는 모듈이 있습니다.\n",
    "- `name()`: 백엔드의 이름을 불러옵니다\n",
    "- `provider()`: 백엔드의 제공자를 불러옵니다.\n",
    "- `configuration()`: 백엔드의 환경 정보를 불러옵니다.\n",
    "- `status()`: 백엔드의 상태를 불러옵니다.\n",
    "- `properties()`: 백엔드의 구성을 불러옵니다.\n",
    "- `jobs`: 백엔드에 보내진 작업들을 불러옵니다."
   ]
  },
  {
   "cell_type": "code",
   "execution_count": 149,
   "metadata": {},
   "outputs": [
    {
     "data": {
      "text/plain": [
       "'ibmq_belem'"
      ]
     },
     "execution_count": 149,
     "metadata": {},
     "output_type": "execute_result"
    }
   ],
   "source": [
    "backend.name()\n"
   ]
  },
  {
   "cell_type": "code",
   "execution_count": 150,
   "metadata": {},
   "outputs": [
    {
     "data": {
      "text/plain": [
       "<AccountProvider for IBMQ(hub='ibm-q', group='open', project='main')>"
      ]
     },
     "execution_count": 150,
     "metadata": {},
     "output_type": "execute_result"
    }
   ],
   "source": [
    "backend.provider()\n"
   ]
  },
  {
   "cell_type": "code",
   "execution_count": 155,
   "metadata": {},
   "outputs": [
    {
     "data": {
      "text/plain": [
       "<qiskit.providers.models.backendconfiguration.PulseBackendConfiguration at 0x16115b0a0>"
      ]
     },
     "execution_count": 155,
     "metadata": {},
     "output_type": "execute_result"
    }
   ],
   "source": [
    "backend.configuration()"
   ]
  },
  {
   "cell_type": "code",
   "execution_count": 152,
   "metadata": {},
   "outputs": [
    {
     "data": {
      "text/html": [
       "<pre>&lt;qiskit.providers.models.backendstatus.BackendStatus object at 0x1601d98d0&gt;</pre><b>name</b>: ibmq_belem<br/><b>version</b>: 1.0.48, <b>pending jobs</b>: 159<br/><b>status</b>: active<br/>"
      ],
      "text/plain": [
       "<qiskit.providers.models.backendstatus.BackendStatus at 0x1601d98d0>"
      ]
     },
     "execution_count": 152,
     "metadata": {},
     "output_type": "execute_result"
    }
   ],
   "source": [
    "backend.status()"
   ]
  },
  {
   "cell_type": "code",
   "execution_count": 153,
   "metadata": {},
   "outputs": [
    {
     "data": {
      "text/plain": [
       "<qiskit.providers.models.backendproperties.BackendProperties at 0x160ccf430>"
      ]
     },
     "execution_count": 153,
     "metadata": {},
     "output_type": "execute_result"
    }
   ],
   "source": [
    "backend.properties()\n"
   ]
  },
  {
   "cell_type": "code",
   "execution_count": 156,
   "metadata": {},
   "outputs": [
    {
     "data": {
      "text/plain": [
       "[<qiskit.providers.ibmq.job.ibmqjob.IBMQJob at 0x162496d10>,\n",
       " <qiskit.providers.ibmq.job.ibmqjob.IBMQJob at 0x1624965f0>,\n",
       " <qiskit.providers.ibmq.job.ibmqjob.IBMQJob at 0x1624969e0>,\n",
       " <qiskit.providers.ibmq.job.ibmqjob.IBMQJob at 0x1624969b0>,\n",
       " <qiskit.providers.ibmq.job.ibmqjob.IBMQJob at 0x16227e6e0>,\n",
       " <qiskit.providers.ibmq.job.ibmqjob.IBMQJob at 0x16227c8e0>,\n",
       " <qiskit.providers.ibmq.job.ibmqjob.IBMQJob at 0x16227d8d0>]"
      ]
     },
     "execution_count": 156,
     "metadata": {},
     "output_type": "execute_result"
    }
   ],
   "source": [
    "backend.jobs()"
   ]
  },
  {
   "cell_type": "markdown",
   "metadata": {},
   "source": [
    "여러가지의 모듈을 통해 백엔드의 정보를 추출하여 출력할 수 있는것을 확인할 수 있습니다."
   ]
  },
  {
   "cell_type": "code",
   "execution_count": 157,
   "metadata": {},
   "outputs": [
    {
     "data": {
      "text/html": [
       "<h3>Version Information</h3><table><tr><th>Qiskit Software</th><th>Version</th></tr><tr><td><code>qiskit-terra</code></td><td>0.21.0</td></tr><tr><td><code>qiskit-aer</code></td><td>0.10.4</td></tr><tr><td><code>qiskit-ibmq-provider</code></td><td>0.19.2</td></tr><tr><td><code>qiskit</code></td><td>0.37.0</td></tr><tr><th>System information</th></tr><tr><td>Python version</td><td>3.10.5</td></tr><tr><td>Python compiler</td><td>Clang 13.0.1 </td></tr><tr><td>Python build</td><td>main, Jun 14 2022 07:03:09</td></tr><tr><td>OS</td><td>Darwin</td></tr><tr><td>CPUs</td><td>8</td></tr><tr><td>Memory (Gb)</td><td>16.0</td></tr><tr><td colspan='2'>Wed Aug 31 18:29:13 2022 KST</td></tr></table>"
      ],
      "text/plain": [
       "<IPython.core.display.HTML object>"
      ]
     },
     "metadata": {},
     "output_type": "display_data"
    }
   ],
   "source": [
    "import qiskit.tools.jupyter\n",
    "%qiskit_version_table #qiskit 버전 표시하기"
   ]
  },
  {
   "cell_type": "code",
   "execution_count": null,
   "metadata": {},
   "outputs": [],
   "source": []
  }
 ],
 "metadata": {
  "kernelspec": {
   "display_name": "Python 3.10.5 ('qiskit')",
   "language": "python",
   "name": "python3"
  },
  "language_info": {
   "codemirror_mode": {
    "name": "ipython",
    "version": 3
   },
   "file_extension": ".py",
   "mimetype": "text/x-python",
   "name": "python",
   "nbconvert_exporter": "python",
   "pygments_lexer": "ipython3",
   "version": "3.10.5"
  },
  "orig_nbformat": 4,
  "vscode": {
   "interpreter": {
    "hash": "61e38d38e362baf74507d5f9568815ca017052702bd5356c9e3eea1ad7c412ff"
   }
  }
 },
 "nbformat": 4,
 "nbformat_minor": 2
}
