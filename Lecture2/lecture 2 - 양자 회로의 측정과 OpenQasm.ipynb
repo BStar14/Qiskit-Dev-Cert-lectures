{
 "cells": [
  {
   "cell_type": "markdown",
   "metadata": {},
   "source": [
    "# Lecture 2 - 양자 회로의 측정과 OpenQasm\n",
    "\n",
    "1. 양자 회로의 측정과 비단일 연산자\n",
    "2. 양자 회로와 레지스터\n",
    "3. OpenQasm\n",
    "\n",
    "## 1. 양자 회로의 측정과 비단일 연산자 (non-unitary operator)\n",
    "\n",
    "양자 회로에 단일 큐비트 게이트와 다중 큐비트 게이트와 같이 양자 회로에 직접 큐비트에 적용을 시키는 단일 연산자 (unitary oepration)이 있는 반면 비단일 연산자에도 접근을 할 수 있습니다. 비단일 연산자는 주로 아래와 같이 있습니다.\n",
    "- 측정\n",
    "- 큐비트의 초기화\n",
    "- 고전적 조건부 연산자\n"
   ]
  },
  {
   "cell_type": "code",
   "execution_count": 1,
   "metadata": {},
   "outputs": [],
   "source": [
    "from qiskit import * # qiskit 라이브러리를 모두 불러옵니다.\n",
    "from qiskit.quantum_info import Statevector # 양자 상태벡터를 계산하기 위해 qiskit.quantum_info 모듈을 불러옵니다."
   ]
  },
  {
   "cell_type": "markdown",
   "metadata": {},
   "source": [
    "\n",
    "***\n",
    "측정\n",
    "***\n",
    "\n",
    "양자 컴퓨터를 측정하기 위해서 모든 정보를 접근할 필요는 없습니다. 양자 상태는 표준 기준으로 나타나게 됩니다. Qiskit에서는 두가지의 방법으로 양자상태를 측정할 수 있으며 양자 비트를 고전 비트로 측정한다 라고 표현할 수 있습니다.\n",
    "- `QuantumCircuit.measrue(qubit,cbit)`\n",
    "- `QuantumCircuit.measure_all`\n",
    "\n",
    "우선은 예를 들기 위해 상태가 1개의 큐비트를 가진 양자 회로를 준비를 해주고 상태가 0인 큐비트를 측정해줍시다."
   ]
  },
  {
   "cell_type": "code",
   "execution_count": 2,
   "metadata": {},
   "outputs": [
    {
     "data": {
      "image/png": "[encoded data removed]",
      "text/plain": [
       "<Figure size 133.526x144.48 with 1 Axes>"
      ]
     },
     "execution_count": 2,
     "metadata": {},
     "output_type": "execute_result"
    }
   ],
   "source": [
    "qc = QuantumCircuit(1,1) # qc라는 양자회로를 생성합니다. 1개의 큐비트와 1개의 고전적 비트를 가집니다.\n",
    "qc.measure(0,0) # 양자 회로에 측정 게이트를 추가합니다. 큐비트 0번을 고전적 비트 0번에 측정합니다.\n",
    "qc.draw('mpl') # 양자 회로를 그립니다."
   ]
  },
  {
   "cell_type": "code",
   "execution_count": 3,
   "metadata": {},
   "outputs": [
    {
     "data": {
      "text/plain": [
       "{'0': 1024}"
      ]
     },
     "execution_count": 3,
     "metadata": {},
     "output_type": "execute_result"
    }
   ],
   "source": [
    "backend = BasicAer.get_backend('qasm_simulator') # qasm_simulator를 backend로 설정합니다.\n",
    "job = backend.run(transpile(qc, backend)) # transpile을 통해 양자회로를 backend에 맞게 변환합니다.\n",
    "job.result().get_counts(qc) # 양자 회로에서 측정한 결과를 출력합니다."
   ]
  },
  {
   "cell_type": "markdown",
   "metadata": {},
   "source": [
    "백엔드에 어떠한 추가적인 설정을 해주지 않는다면 기본적으로 1024번 샷을 보내 측정하여 결과를 불러옵니다. 위의 양자 회로의 같은 경우 1024번 측정을 했을때 100퍼센트의 확률로 1024번 상태가 0인 큐비트의 결과를 얻었습니다. 예상과 동일하게 큐비트에 어떠한 게이트를 넣어주지 않았기 때문에 측정결과 역시 0인 상태가 1024번 나온것을 볼 수 있습니다.\n",
    "\n",
    "이번에는 큐비트에 하다마드 게이트를 넣어 중첩상태를 만들어 준 다음 양자 회로를 측정해봅시다."
   ]
  },
  {
   "cell_type": "code",
   "execution_count": 4,
   "metadata": {},
   "outputs": [
    {
     "data": {
      "image/png": "[encoded data removed]",
      "text/plain": [
       "<Figure size 193.726x144.48 with 1 Axes>"
      ]
     },
     "execution_count": 4,
     "metadata": {},
     "output_type": "execute_result"
    }
   ],
   "source": [
    "qc = QuantumCircuit(1,1) # qc라는 양자회로를 생성합니다. 1개의 큐비트와 1개의 고전적 비트를 가집니다.\n",
    "qc.h(0) # 양자 회로에 하다마드 게이트를 큐비트 0번에 추가합니다.\n",
    "qc.measure(0,0) # 양자 회로에 측정 게이트를 추가합니다. 큐비트 0번을 고전적 비트 0번에 측정합니다.\n",
    "qc.draw('mpl') # 양자 회로를 그립니다."
   ]
  },
  {
   "cell_type": "code",
   "execution_count": 5,
   "metadata": {},
   "outputs": [
    {
     "data": {
      "text/plain": [
       "{'0': 487, '1': 537}"
      ]
     },
     "execution_count": 5,
     "metadata": {},
     "output_type": "execute_result"
    }
   ],
   "source": [
    "job = backend.run(transpile(qc, backend)) # transpile을 통해 양자회로를 backend에 맞게 변환합니다.\n",
    "job.result().get_counts(qc) # 양자 회로에서 측정한 결과를 출력합니다."
   ]
  },
  {
   "cell_type": "markdown",
   "metadata": {},
   "source": [
    "이번 양자 회로는 0번째 큐비트가 하다마드 게이트에 의하여 중첩 상태가 되었기 때문에 측정을 했을때 거의 50퍼센트와 가까운 확률로 상태가 0인 결과값과 상태가 1인 결과값을 시뮬레이션을 통해 얻을 수 있습니다.\n",
    "\n",
    "### measure\n",
    "\n",
    "`measure` 모듈을 통해 큐비트와 고전비트를 지정하여 원하는 큐비트를 고전 비트에 측정할 수 있습니다."
   ]
  },
  {
   "cell_type": "code",
   "execution_count": 6,
   "metadata": {},
   "outputs": [
    {
     "data": {
      "image/png": "[encoded data removed]",
      "text/plain": [
       "<Figure size 267.052x204.68 with 1 Axes>"
      ]
     },
     "execution_count": 6,
     "metadata": {},
     "output_type": "execute_result"
    }
   ],
   "source": [
    "qc=QuantumCircuit(2,2) # qc라는 양자회로를 생성합니다. 2개의 큐비트와 2개의 고전적 비트를 가집니다.\n",
    "qc.x(0) # 양자 회로에 x 게이트를 큐비트 0번에 추가합니다.\n",
    "qc.h(1) # 양자 회로에 하다마드 게이트를 큐비트 1번에 추가합니다.\n",
    "qc.measure(0,0) # 양자 회로에 측정 게이트를 추가합니다. 큐비트 0번을 고전적 비트 0번에 측정합니다.\n",
    "qc.measure(1,1) # 양자 회로에 측정 게이트를 추가합니다. 큐비트 1번을 고전적 비트 1번에 측정합니다.\n",
    "qc.draw(output='mpl') # 양자 회로를 그립니다."
   ]
  },
  {
   "cell_type": "code",
   "execution_count": 7,
   "metadata": {},
   "outputs": [
    {
     "data": {
      "text/plain": [
       "{'11': 526, '01': 498}"
      ]
     },
     "execution_count": 7,
     "metadata": {},
     "output_type": "execute_result"
    }
   ],
   "source": [
    "job = backend.run(transpile(qc, backend)) # transpile을 통해 양자회로를 backend에 맞게 변환합니다.\n",
    "job.result().get_counts(qc) # 양자 회로에서 측정한 결과를 출력합니다."
   ]
  },
  {
   "cell_type": "markdown",
   "metadata": {},
   "source": [
    "### measure_all\n",
    "\n",
    "`measure_all` 모듈을 통해 양자 회로에 있는 모든 큐비트를 측정합니다. 만약 측정을 위한 고전 비트가 지정되어 있지 않다면 양자회로에 새로운 양자 비트를 추가합니다."
   ]
  },
  {
   "cell_type": "code",
   "execution_count": 8,
   "metadata": {},
   "outputs": [
    {
     "data": {
      "image/png": "[encoded data removed]",
      "text/plain": [
       "<Figure size 357.679x264.88 with 1 Axes>"
      ]
     },
     "execution_count": 8,
     "metadata": {},
     "output_type": "execute_result"
    }
   ],
   "source": [
    "qc=QuantumCircuit(2,2) # qc라는 양자회로를 생성합니다. 2개의 큐비트와 2개의 고전적 비트를 가집니다.\n",
    "qc.x(0) # 양자 회로에 x 게이트를 큐비트 0번에 추가합니다.\n",
    "qc.h(1) # 양자 회로에 하다마드 게이트를 큐비트 1번에 추가합니다.\n",
    "qc.measure_all() # 양자 회로에 측정 게이트를 추가합니다. 모든 큐비트를 고전적 비트에 측정합니다.\n",
    "qc.draw(output='mpl') # 양자 회로를 그립니다."
   ]
  },
  {
   "cell_type": "code",
   "execution_count": 9,
   "metadata": {},
   "outputs": [
    {
     "data": {
      "text/plain": [
       "{'01 00': 533, '11 00': 491}"
      ]
     },
     "execution_count": 9,
     "metadata": {},
     "output_type": "execute_result"
    }
   ],
   "source": [
    "job = backend.run(transpile(qc, backend)) # transpile을 통해 양자회로를 backend에 맞게 변환합니다.\n",
    "job.result().get_counts(qc) # 양자 회로에서 측정한 결과를 출력합니다."
   ]
  },
  {
   "cell_type": "markdown",
   "metadata": {},
   "source": [
    "위 회로에서는 양자 회로에 측정을 위하 고전 비트를 지정해주지 않았기 때문에 meas라는 이름의 고전 비트가 자동으로 생성되었습니다.\n",
    "\n",
    "### measure_all과 measure의 차이\n",
    "\n",
    "만약 양자 회로에 측정을 위한 고전 비트를 지정 해준다면 두개의 큐비트를 가진 qc라는 양자 회로에서 `qc.measure_all()`와 `qc.measure([0,1],[0,1])`을 측정을 위해 사용하게 면 동일한 양자 회로를 만들 수 있습니다. 이 두가지의 양자회로 측정 방법은 고전 비트에 차이점이 있습니다. `measure_all`의 방법은 만약 고전비트가 없거나 측정을 위해 지정되어 있지 않으면 기본적으로 고전비트를 양자회로에 추가 해줍니다. 하지만 반대로 `measure`은 모듈을 사용할때 큐비트와 고전비트를 지정해줘야 하기 때문에 측정 하기전에 미리 양자 회로가 고전 비트를 가지고 있어야 합니다.\n",
    "\n",
    "***\n",
    "큐비트의 초기화\n",
    "***\n",
    "\n",
    "특정 큐비트를 $|0\\rangle$의 상태로 회로 계산 중간에 초기화를 시켜주고 싶다면 `reset`이라는 모듈을 이용할 수 있습니다. 큐비트를 초기화 하게 되면 어떠한 상태의 큐비트를 상태 $|0\\rangle$로 만들어 줄 수 있습니다. 참고로 `reset`은 게이트가 아니며 비가역적(irreversible) 입니다."
   ]
  },
  {
   "cell_type": "code",
   "execution_count": 10,
   "metadata": {},
   "outputs": [
    {
     "data": {
      "image/png": "[encoded data removed]",
      "text/plain": [
       "<Figure size 146.652x204.68 with 1 Axes>"
      ]
     },
     "execution_count": 10,
     "metadata": {},
     "output_type": "execute_result"
    }
   ],
   "source": [
    "qc=QuantumCircuit(2,2) # qc라는 양자회로를 생성합니다. 2개의 큐비트와 2개의 고전적 비트를 가집니다.\n",
    "qc.x(0) # 양자 회로에 x 게이트를 큐비트 0번에 추가합니다.\n",
    "qc.h(1) # 양자 회로에 하다마드 게이트를 큐비트 1번에 추가합니다.\n",
    "qc.draw(output='mpl') # 양자 회로를 그립니다."
   ]
  },
  {
   "cell_type": "code",
   "execution_count": 11,
   "metadata": {},
   "outputs": [
    {
     "data": {
      "text/latex": [
       "$$\\frac{\\sqrt{2}}{2} |01\\rangle+\\frac{\\sqrt{2}}{2} |11\\rangle$$"
      ],
      "text/plain": [
       "<IPython.core.display.Latex object>"
      ]
     },
     "execution_count": 11,
     "metadata": {},
     "output_type": "execute_result"
    }
   ],
   "source": [
    "state = Statevector.from_instruction(qc) # Statevector을 이용해 양자 회로에서 얻은 상태를 state에 저장합니다.\n",
    "state.draw(output='latex') # state를 latex로 그립니다."
   ]
  },
  {
   "cell_type": "markdown",
   "metadata": {},
   "source": [
    "만약 이러한 상태의 양자 회로의 큐비트에 `reset`을 1번째 큐비트에 사용하게 되면 이렇게 상태가 바뀐것을 확인할 수 있습니다."
   ]
  },
  {
   "cell_type": "code",
   "execution_count": 12,
   "metadata": {},
   "outputs": [
    {
     "data": {
      "text/plain": [
       "<qiskit.circuit.instructionset.InstructionSet at 0x1537d65c0>"
      ]
     },
     "execution_count": 12,
     "metadata": {},
     "output_type": "execute_result"
    }
   ],
   "source": [
    "qc.reset(1) # 양자 회로의 1번째 큐비트의 상태를 초기화 시킵니다."
   ]
  },
  {
   "cell_type": "code",
   "execution_count": 13,
   "metadata": {},
   "outputs": [
    {
     "data": {
      "image/png": "[encoded data removed]",
      "text/plain": [
       "<Figure size 206.852x204.68 with 1 Axes>"
      ]
     },
     "execution_count": 13,
     "metadata": {},
     "output_type": "execute_result"
    }
   ],
   "source": [
    "qc.draw(output='mpl') # 양자 회로를 그립니다."
   ]
  },
  {
   "cell_type": "code",
   "execution_count": 14,
   "metadata": {},
   "outputs": [
    {
     "data": {
      "text/latex": [
       "$$ |01\\rangle$$"
      ],
      "text/plain": [
       "<IPython.core.display.Latex object>"
      ]
     },
     "execution_count": 14,
     "metadata": {},
     "output_type": "execute_result"
    }
   ],
   "source": [
    "state = Statevector.from_instruction(qc) # Statevector을 이용해 양자 회로에서 얻은 상태를 state에 저장합니다.\n",
    "state.draw(output='latex') # state를 latex로 그립니다."
   ]
  },
  {
   "cell_type": "markdown",
   "metadata": {},
   "source": [
    "`reset`에 의하여 중첩 상태였던 1번째 큐비트가 0이 된것을 확인할 수 있습니다.\n",
    "\n",
    "이러한 초기화 기능은 양자회로 마지막이 아닌 중간에서도 사용할 수 있습니다."
   ]
  },
  {
   "cell_type": "code",
   "execution_count": 15,
   "metadata": {},
   "outputs": [
    {
     "data": {
      "image/png": "[encoded data removed]",
      "text/plain": [
       "<Figure size 193.726x144.48 with 1 Axes>"
      ]
     },
     "execution_count": 15,
     "metadata": {},
     "output_type": "execute_result"
    }
   ],
   "source": [
    "qc=QuantumCircuit(1,1) # qc라는 양자회로를 생성합니다. 1개의 큐비트와 1개의 고전적 비트를 가집니다.\n",
    "qc.x(0)  # 양자 회로에 x 게이트를 큐비트 0번에 추가합니다.\n",
    "qc.h(0)  # 양자 회로에 하다마드 게이트를 큐비트 0번에 추가합니다.\n",
    "qc.draw(output='mpl') # 양자 회로를 그립니다."
   ]
  },
  {
   "cell_type": "code",
   "execution_count": 16,
   "metadata": {},
   "outputs": [
    {
     "data": {
      "text/latex": [
       "$$\\frac{\\sqrt{2}}{2} |0\\rangle- \\frac{\\sqrt{2}}{2} |1\\rangle$$"
      ],
      "text/plain": [
       "<IPython.core.display.Latex object>"
      ]
     },
     "execution_count": 16,
     "metadata": {},
     "output_type": "execute_result"
    }
   ],
   "source": [
    "state = Statevector.from_instruction(qc) # Statevector을 이용해 양자 회로에서 얻은 상태를 state에 저장합니다.\n",
    "state.draw(output='latex') # state를 latex로 그립니다."
   ]
  },
  {
   "cell_type": "markdown",
   "metadata": {},
   "source": [
    "만약 초기화를 X 게이트 다음에 사용하게 된다면 회로의 결과값이 아래와 같이 변화게 됩니다."
   ]
  },
  {
   "cell_type": "code",
   "execution_count": 17,
   "metadata": {},
   "outputs": [
    {
     "data": {
      "image/png": "[encoded data removed]",
      "text/plain": [
       "<Figure size 253.926x144.48 with 1 Axes>"
      ]
     },
     "execution_count": 17,
     "metadata": {},
     "output_type": "execute_result"
    }
   ],
   "source": [
    "qc=QuantumCircuit(1,1) # qc라는 양자회로를 생성합니다. 1개의 큐비트와 1개의 고전적 비트를 가집니다.\n",
    "qc.x(0)  # 양자 회로에 x 게이트를 큐비트 0번에 추가합니다.\n",
    "qc.reset(0) # 양자 회로의 0번째 큐비트의 상태를 초기화 시킵니다.\n",
    "qc.h(0)  # 양자 회로에 하다마드 게이트를 큐비트 0번에 추가합니다.\n",
    "qc.draw(output='mpl') # 양자 회로를 그립니다."
   ]
  },
  {
   "cell_type": "code",
   "execution_count": 18,
   "metadata": {},
   "outputs": [
    {
     "data": {
      "text/latex": [
       "$$\\frac{\\sqrt{2}}{2} |0\\rangle+\\frac{\\sqrt{2}}{2} |1\\rangle$$"
      ],
      "text/plain": [
       "<IPython.core.display.Latex object>"
      ]
     },
     "execution_count": 18,
     "metadata": {},
     "output_type": "execute_result"
    }
   ],
   "source": [
    "state = Statevector.from_instruction(qc) # Statevector을 이용해 양자 회로에서 얻은 상태를 state에 저장합니다.\n",
    "state.draw(output='latex') # state를 latex로 그립니다."
   ]
  },
  {
   "cell_type": "markdown",
   "metadata": {},
   "source": [
    "결과 값을 보게 되면 마지막 결과가 상태가 0이 였던 큐비트에 하다마드 게이트를 적용한 것과 동일한 결과를 내보낸것을 볼 수 있습니다.\n",
    "\n",
    "\n",
    "***\n",
    "고전적 조건부 연산자\n",
    "***\n",
    "\n",
    "고전적 조건부 연산자 `c_if`을 사용하여 특정 고전 비트의 상태였을때 연산자를 실행 할 수 있게 할 수 있습니다. 고전적 조건부 연산자는 `c_if(classical bit, value)`를 사용하여 고전적 비트를 지정하고 그 비트가 `value` 상태 일때 연산자를 실행 할 수 있게 조건부 연산자를 만듭니다."
   ]
  },
  {
   "cell_type": "code",
   "execution_count": 19,
   "metadata": {},
   "outputs": [
    {
     "data": {
      "image/png": "[encoded data removed]",
      "text/plain": [
       "<Figure size 155.306x204.68 with 1 Axes>"
      ]
     },
     "execution_count": 19,
     "metadata": {},
     "output_type": "execute_result"
    }
   ],
   "source": [
    "qr=QuantumRegister(2,'qr') # qr이라는 양자 레지스터를 생성합니다. 큐비트 2개를 가집니다.\n",
    "cr=ClassicalRegister(2,'cr') # cr이라는 고전적 레지스터를 생성합니다. 고전적 비트 2개를 가집니다.\n",
    "\n",
    "qc=QuantumCircuit(qr,cr) # qc라는 양자회로를 생성합니다. qr과 cr을 이용해 양자회로를 생성합니다.\n",
    "qc.x(0) # 양자 회로에 x 게이트를 큐비트 0번에 추가합니다.\n",
    "qc.x(1) # 양자 회로에 x 게이트를 큐비트 1번에 추가합니다.\n",
    "qc.draw(output=\"mpl\") # 양자 회로를 그립니다."
   ]
  },
  {
   "cell_type": "code",
   "execution_count": 20,
   "metadata": {},
   "outputs": [
    {
     "data": {
      "text/latex": [
       "$$ |11\\rangle$$"
      ],
      "text/plain": [
       "<IPython.core.display.Latex object>"
      ]
     },
     "execution_count": 20,
     "metadata": {},
     "output_type": "execute_result"
    }
   ],
   "source": [
    "state = Statevector.from_instruction(qc) # Statevector을 이용해 양자 회로에서 얻은 상태를 state에 저장합니다.\n",
    "state.draw(output='latex') # state를 latex로 그립니다."
   ]
  },
  {
   "cell_type": "markdown",
   "metadata": {},
   "source": [
    "이러한 양자 회로에 고전 조건부 연산자 `c_if`를 추가하여 1번째 큐비트의 상태가 0일떼 S 게이트를 실행 할 수 있게 만들어 줍시다."
   ]
  },
  {
   "cell_type": "code",
   "execution_count": 21,
   "metadata": {},
   "outputs": [
    {
     "data": {
      "text/plain": [
       "<qiskit.circuit.instructionset.InstructionSet at 0x153ccf9a0>"
      ]
     },
     "execution_count": 21,
     "metadata": {},
     "output_type": "execute_result"
    }
   ],
   "source": [
    "qc.s(qr[1]).c_if(cr,0) # 양자 회로에 s 게이트를 qr 양자 레지스터의 큐비트 1번에 추가합니다. cr 고전 레지스터의 0번째 비트가 0일 때만 실행됩니다."
   ]
  },
  {
   "cell_type": "code",
   "execution_count": 22,
   "metadata": {},
   "outputs": [
    {
     "data": {
      "image/png": "[encoded data removed]",
      "text/plain": [
       "<Figure size 215.506x204.68 with 1 Axes>"
      ]
     },
     "execution_count": 22,
     "metadata": {},
     "output_type": "execute_result"
    }
   ],
   "source": [
    "qc.draw(output=\"mpl\") # 양자 회로를 그립니다."
   ]
  },
  {
   "cell_type": "code",
   "execution_count": 23,
   "metadata": {},
   "outputs": [
    {
     "data": {
      "text/latex": [
       "$$i |11\\rangle$$"
      ],
      "text/plain": [
       "<IPython.core.display.Latex object>"
      ]
     },
     "execution_count": 23,
     "metadata": {},
     "output_type": "execute_result"
    }
   ],
   "source": [
    "state = Statevector.from_instruction(qc) # Statevector을 이용해 양자 회로에서 얻은 상태를 state에 저장합니다.\n",
    "state.draw(output='latex') # state를 latex로 그립니다."
   ]
  },
  {
   "cell_type": "markdown",
   "metadata": {},
   "source": [
    "이번에는 또 다른 양자 회로를 만들어 고전 조건부 연산자를 사용해 봅시다. 이번 양자 회로에서는 먼저 하다마드 게이트를 이용해 중첩 상태로 만들어 줍니다. 만약 중첩된 큐비트의 상태가 0이라면 X 게이트를 실행시키는 양자 회로를 만들어봅시다."
   ]
  },
  {
   "cell_type": "code",
   "execution_count": 24,
   "metadata": {},
   "outputs": [
    {
     "data": {
      "image/png": "[encoded data removed]",
      "text/plain": [
       "<Figure size 340.378x144.48 with 1 Axes>"
      ]
     },
     "execution_count": 24,
     "metadata": {},
     "output_type": "execute_result"
    }
   ],
   "source": [
    "q = QuantumRegister(1) # q라는 양자 레지스터를 생성합니다. 큐비트 1개를 가집니다.\n",
    "c = ClassicalRegister(1) # c라는 고전적 레지스터를 생성합니다. 고전적 비트 1개를 가집니다.\n",
    "\n",
    "qc = QuantumCircuit(q, c) # qc라는 양자회로를 생성합니다. q와 c를 이용해 양자회로를 생성합니다.\n",
    "qc.h(q) # 양자 회로에 하다마드 게이트를 q 양자 레지스터의 큐비트 0번에 추가합니다.\n",
    "qc.measure(q,c) # 양자 회로에 측정 게이트를 q 양자 레지스터의 큐비트 0번에 추가합니다. c 고전 레지스터의 비트 0번에 측정 결과를 저장합니다.\n",
    "qc.x(q[0]).c_if(c, 0) # 양자 회로에 x 게이트를 q 양자 레지스터의 큐비트 0번에 추가합니다. c 고전 레지스터의 0번째 비트가 0일 때만 실행됩니다.\n",
    "qc.measure(q,c) # 양자 회로에 측정 게이트를 q 양자 레지스터의 큐비트 0번에 추가합니다. c 고전 레지스터의 비트 0번에 측정 결과를 저장합니다.\n",
    "qc.draw(output='mpl') # 양자 회로를 그립니다."
   ]
  },
  {
   "cell_type": "code",
   "execution_count": 25,
   "metadata": {},
   "outputs": [
    {
     "data": {
      "text/plain": [
       "{'1': 1024}"
      ]
     },
     "execution_count": 25,
     "metadata": {},
     "output_type": "execute_result"
    }
   ],
   "source": [
    "job = backend.run(transpile(qc, backend)) # backend를 이용해 qc를 실행합니다.\n",
    "job.result().get_counts(qc) # qc의 실행 결과를 출력합니다."
   ]
  },
  {
   "cell_type": "markdown",
   "metadata": {},
   "source": [
    "결과값을 보게 되면 만약 중첩된 상태를 측정했을때 상태가 0이 되면 조건부 연산자로 인해 X 게이트가 적용되여 최종 상태가 1이 됩니다. 만약 중첩 상태의 측정값이 1이라면 조건부 연산자가 작동 하지 않게 되어 최종 상태가 1이 되어 결과적으로 양자 회로는 모두 상태가 $|1\\rangle$인 결과 값을 내보내게 됩니다.\n",
    "\n",
    "## 2. 양자 회로와 레지스터\n",
    "\n",
    "<iframe width=\"727\" height=\"409\" src=\"https://www.youtube.com/embed/IvhqbvsSrjU?list=PLOFEBzvs-VvpOCmJ9BonUhf7NYB4d1p0e\" title=\"What are registers? 1 Minute Qiskit\" frameborder=\"0\" allow=\"accelerometer; autoplay; clipboard-write; encrypted-media; gyroscope; picture-in-picture\" allowfullscreen></iframe>\n",
    "\n",
    "[Youtube](https://www.youtube.com/embed/IvhqbvsSrjU?list=PLOFEBzvs-VvpOCmJ9BonUhf7NYB4d1p0e)\n",
    "\n",
    "- 양자 레지스터\n",
    "- 고전 레지스터\n",
    "- 양자 회로\n",
    "    - compose\n",
    "    - decompose\n",
    "\n",
    "***\n",
    "양자 레지스터\n",
    "***\n",
    "\n",
    "양자 레지스터는 `QuantumRegister`을 이용하여 양자 레지스터를 지정해 줄 수 있습니다. 사용법은 `QuantumRegister(number of qubits, name=optional)`의 문법을 따라 사용할 수 있습니다.\n",
    "\n",
    "만약 `name`을 지정해주지 않는다면 기본 이름이 주어집니다."
   ]
  },
  {
   "cell_type": "code",
   "execution_count": 26,
   "metadata": {},
   "outputs": [
    {
     "data": {
      "text/plain": [
       "QuantumRegister(2, 'q27')"
      ]
     },
     "execution_count": 26,
     "metadata": {},
     "output_type": "execute_result"
    }
   ],
   "source": [
    "q=QuantumRegister(2) # q라는 양자 레지스터를 생성합니다. 큐비트 2개를 가집니다.\n",
    "q"
   ]
  },
  {
   "cell_type": "markdown",
   "metadata": {},
   "source": [
    "`name`을 지정해줘서 양자 레지스터의 이름을 만들어 지정해줄 수 있습니다."
   ]
  },
  {
   "cell_type": "code",
   "execution_count": 27,
   "metadata": {},
   "outputs": [
    {
     "data": {
      "text/plain": [
       "QuantumRegister(2, 'qr')"
      ]
     },
     "execution_count": 27,
     "metadata": {},
     "output_type": "execute_result"
    }
   ],
   "source": [
    "q=QuantumRegister(2, 'qr') # q라는 qr이라는 이름을 가진 양자 레지스터를 생성합니다. 큐비트 2개를 가집니다.\n",
    "q"
   ]
  },
  {
   "cell_type": "markdown",
   "metadata": {},
   "source": [
    "***\n",
    "고전 레지스터\n",
    "***\n",
    "\n",
    "고전 레지스터는 `ClassicalRegister`을 이용하여 고전 레지스터를 만들 수 있습니다. 사용법은 `ClassicalRegister(number of classical bits, name=optional)`의 문법을 따라 사용할 수 있습니다."
   ]
  },
  {
   "cell_type": "code",
   "execution_count": 28,
   "metadata": {},
   "outputs": [
    {
     "data": {
      "text/plain": [
       "ClassicalRegister(2, 'c1')"
      ]
     },
     "execution_count": 28,
     "metadata": {},
     "output_type": "execute_result"
    }
   ],
   "source": [
    "c=ClassicalRegister(2)\n",
    "c"
   ]
  },
  {
   "cell_type": "code",
   "execution_count": 29,
   "metadata": {},
   "outputs": [
    {
     "data": {
      "text/plain": [
       "ClassicalRegister(2, 'cr')"
      ]
     },
     "execution_count": 29,
     "metadata": {},
     "output_type": "execute_result"
    }
   ],
   "source": [
    "c=ClassicalRegister(2,'cr')\n",
    "c"
   ]
  },
  {
   "cell_type": "markdown",
   "metadata": {},
   "source": [
    "***\n",
    "양자 회로\n",
    "***\n",
    "\n",
    "양자 회로는 `QuantumCircuit(registers, name=optional)`을 이용하여 만들 수 있습니다. 만약 2개의 큐비트와 2개의 고전 비트를 가진 양자 회로를 만들려면 여러가지의 방법이 있습니다.\n",
    "\n",
    "#### 방법 1"
   ]
  },
  {
   "cell_type": "code",
   "execution_count": 30,
   "metadata": {},
   "outputs": [
    {
     "data": {
      "image/png": "[encoded data removed]",
      "text/plain": [
       "<Figure size 125.206x204.68 with 1 Axes>"
      ]
     },
     "execution_count": 30,
     "metadata": {},
     "output_type": "execute_result"
    }
   ],
   "source": [
    "q=QuantumRegister(2,'qr') # q라는 qr이라는 이름을 가진 양자 레지스터를 생성합니다. 큐비트 2개를 가집니다.\n",
    "c=ClassicalRegister(2,'cr') # c라는 cr이라는 이름을 가진 고전적 레지스터를 생성합니다. 고전적 비트 2개를 가집니다.\n",
    "qc=QuantumCircuit(q,c) # qc라는 양자회로를 생성합니다. q와 c를 이용해 양자회로를 생성합니다.\n",
    "qc.draw(output='mpl') # 양자 회로를 그립니다."
   ]
  },
  {
   "cell_type": "markdown",
   "metadata": {},
   "source": [
    "#### 방법 2"
   ]
  },
  {
   "cell_type": "code",
   "execution_count": 31,
   "metadata": {},
   "outputs": [
    {
     "data": {
      "image/png": "[encoded data removed]",
      "text/plain": [
       "<Figure size 125.206x204.68 with 1 Axes>"
      ]
     },
     "execution_count": 31,
     "metadata": {},
     "output_type": "execute_result"
    }
   ],
   "source": [
    "qc=QuantumCircuit(QuantumRegister(2,'qr'),ClassicalRegister(2,'cr')) # qc라는 양자회로를 생성합니다. 큐비트 2개를 가진 qr이라는 이름을 가진 양자 레지스터와 고전적 비트 2개를 가진 cr이라는 이름을 가진 고전적 레지스터를 이용해 양자회로를 생성합니다.\n",
    "qc.draw(output='mpl') # 양자 회로를 그립니다."
   ]
  },
  {
   "cell_type": "markdown",
   "metadata": {},
   "source": [
    "#### 방법 3"
   ]
  },
  {
   "cell_type": "code",
   "execution_count": 32,
   "metadata": {},
   "outputs": [
    {
     "data": {
      "image/png": "[encoded data removed]",
      "text/plain": [
       "<Figure size 142.949x204.68 with 1 Axes>"
      ]
     },
     "execution_count": 32,
     "metadata": {},
     "output_type": "execute_result"
    }
   ],
   "source": [
    "qc=QuantumCircuit(QuantumRegister(2),ClassicalRegister(2)) # qc라는 양자회로를 생성합니다. 큐비트 2개를 가진 양자 레지스터와 고전적 비트 2개를 가진 고전적 레지스터를 이용해 양자회로를 생성합니다.\n",
    "qc.draw(output='mpl') # 양자 회로를 그립니다."
   ]
  },
  {
   "cell_type": "markdown",
   "metadata": {},
   "source": [
    "#### 방법 4"
   ]
  },
  {
   "cell_type": "code",
   "execution_count": 33,
   "metadata": {},
   "outputs": [
    {
     "data": {
      "image/png": "[encoded data removed]",
      "text/plain": [
       "<Figure size 116.552x204.68 with 1 Axes>"
      ]
     },
     "execution_count": 33,
     "metadata": {},
     "output_type": "execute_result"
    }
   ],
   "source": [
    "qc=QuantumCircuit(2,2) # qc라는 양자회로를 생성합니다. 큐비트 2개와 고전적 비트 2개를 가진 양자회로를 생성합니다.\n",
    "qc.draw(output='mpl') # 양자 회로를 그립니다."
   ]
  },
  {
   "cell_type": "markdown",
   "metadata": {},
   "source": [
    "### compose\n",
    "\n",
    "여러가지의 양자 회로를 합쳐 하나의 회로로 만들어 줄 수 있습니다. "
   ]
  },
  {
   "cell_type": "code",
   "execution_count": 34,
   "metadata": {},
   "outputs": [
    {
     "data": {
      "image/png": "[encoded data removed]",
      "text/plain": [
       "<Figure size 146.652x204.68 with 1 Axes>"
      ]
     },
     "execution_count": 34,
     "metadata": {},
     "output_type": "execute_result"
    }
   ],
   "source": [
    "qc1=QuantumCircuit(2,2) # qc1이라는 양자회로를 생성합니다. 큐비트 2개와 고전적 비트 2개를 가진 양자회로를 생성합니다.\n",
    "qc1.h(0) # qc1의 0번째 큐비트에 하다마드 게이트를 적용합니다.\n",
    "qc1.s(1) # qc1의 1번째 큐비트에 s 게이트를 적용합니다.\n",
    "qc1.draw(output='mpl') # 양자 회로를 그립니다."
   ]
  },
  {
   "cell_type": "code",
   "execution_count": 35,
   "metadata": {},
   "outputs": [
    {
     "data": {
      "image/png": "[encoded data removed]",
      "text/plain": [
       "<Figure size 206.852x204.68 with 1 Axes>"
      ]
     },
     "execution_count": 35,
     "metadata": {},
     "output_type": "execute_result"
    }
   ],
   "source": [
    "qc2=QuantumCircuit(2,2) # qc2라는 양자회로를 생성합니다. 큐비트 2개와 고전적 비트 2개를 가진 양자회로를 생성합니다.\n",
    "qc2.x(1) # qc2의 1번째 큐비트에 x 게이트를 적용합니다.\n",
    "qc2.cx(0,1) # qc2의 0번째 큐비트와 1번째 큐비트에 제어x 게이트를 적용합니다.\n",
    "qc2.draw(output='mpl') # 양자 회로를 그립니다."
   ]
  },
  {
   "cell_type": "markdown",
   "metadata": {},
   "source": [
    "\n",
    "`+`를 이용하여 양자 회로 합치기"
   ]
  },
  {
   "cell_type": "code",
   "execution_count": 36,
   "metadata": {},
   "outputs": [
    {
     "name": "stderr",
     "output_type": "stream",
     "text": [
      "/var/folders/bz/9tqsqmh90592y3_wn1lrvm040000gn/T/ipykernel_10726/1362999139.py:1: DeprecationWarning: The QuantumCircuit.__add__() method is being deprecated.Use the compose() method which is more flexible w.r.t circuit register compatibility.\n",
      "  qc=qc1+qc2 # qc1 양자회로와 qc2 양자회로를 합쳐 qc라는 양자회로를 만듭니다.\n"
     ]
    },
    {
     "data": {
      "image/png": "[encoded data removed]",
      "text/plain": [
       "<Figure size 267.052x204.68 with 1 Axes>"
      ]
     },
     "execution_count": 36,
     "metadata": {},
     "output_type": "execute_result"
    }
   ],
   "source": [
    "qc=qc1+qc2 # qc1 양자회로와 qc2 양자회로를 합쳐 qc라는 양자회로를 만듭니다.\n",
    "qc.draw(output='mpl') # 양자 회로를 그립니다.\n"
   ]
  },
  {
   "cell_type": "markdown",
   "metadata": {},
   "source": [
    "`compose()`를 이용하여 양자 회로를 합칠 수 있습니다."
   ]
  },
  {
   "cell_type": "code",
   "execution_count": 37,
   "metadata": {},
   "outputs": [
    {
     "data": {
      "image/png": "[encoded data removed]",
      "text/plain": [
       "<Figure size 267.052x204.68 with 1 Axes>"
      ]
     },
     "execution_count": 37,
     "metadata": {},
     "output_type": "execute_result"
    }
   ],
   "source": [
    "qc=qc2.compose(qc1) # qc2 양자회로를 왼쪽에 qc1 양자회로 오른쪽에 합쳐 qc라는 양자회로를 만듭니다.\n",
    "qc.draw(output='mpl') # 양자 회로를 그립니다."
   ]
  },
  {
   "cell_type": "markdown",
   "metadata": {},
   "source": [
    "반대로 `qc1`과 `qc2`의 양자 회로를 반대로 적용하여 실행하면 아래와 같은 양자 회로를 만들 수 있습니다."
   ]
  },
  {
   "cell_type": "code",
   "execution_count": 38,
   "metadata": {},
   "outputs": [
    {
     "data": {
      "image/png": "[encoded data removed]",
      "text/plain": [
       "<Figure size 267.052x204.68 with 1 Axes>"
      ]
     },
     "execution_count": 38,
     "metadata": {},
     "output_type": "execute_result"
    }
   ],
   "source": [
    "qc=qc1.compose(qc2) # qc1 양자회로를 왼쪽에 qc2 양자회로 오른쪽에 합쳐 qc라는 양자회로를 만듭니다.\n",
    "qc.draw(output='mpl') # 양자 회로를 그립니다."
   ]
  },
  {
   "cell_type": "markdown",
   "metadata": {},
   "source": [
    "### decompose\n",
    "\n",
    "`decompose`를 이용하여 양자 회로를 한단계 아래로 분해할 수 있습니다. "
   ]
  },
  {
   "cell_type": "code",
   "execution_count": 39,
   "metadata": {},
   "outputs": [
    {
     "data": {
      "image/png": "[encoded data removed]",
      "text/plain": [
       "<Figure size 146.797x204.68 with 1 Axes>"
      ]
     },
     "execution_count": 39,
     "metadata": {},
     "output_type": "execute_result"
    }
   ],
   "source": [
    "qc = QuantumCircuit(3) # qc라는 양자회로를 생성합니다. 큐비트 3개를 가진 양자회로를 생성합니다.\n",
    "qc.ccx(0,1,2) # qc의 0번째 큐비트와 1번째 큐비트를 제어로 하는 2번째 큐비트에 토폴리 게이트를 적용합니다.\n",
    "qc.draw(output=\"mpl\") # 양자 회로를 그립니다."
   ]
  },
  {
   "cell_type": "code",
   "execution_count": 40,
   "metadata": {},
   "outputs": [
    {
     "data": {
      "image/png": "[encoded data removed]",
      "text/plain": [
       "<Figure size 748.797x204.68 with 1 Axes>"
      ]
     },
     "execution_count": 40,
     "metadata": {},
     "output_type": "execute_result"
    }
   ],
   "source": [
    "qc.decompose().draw(output=\"mpl\") # 양자 회로를 1단계 분해하여 그립니다."
   ]
  },
  {
   "cell_type": "code",
   "execution_count": 41,
   "metadata": {},
   "outputs": [
    {
     "data": {
      "image/png": "[encoded data removed]",
      "text/plain": [
       "<Figure size 748.797x204.68 with 1 Axes>"
      ]
     },
     "execution_count": 41,
     "metadata": {},
     "output_type": "execute_result"
    }
   ],
   "source": [
    "qc.decompose().decompose().draw(output=\"mpl\") # 양자 회로를 2단계 분해하여 그립니다."
   ]
  },
  {
   "cell_type": "code",
   "execution_count": 42,
   "metadata": {},
   "outputs": [
    {
     "data": {
      "image/png": "[encoded data removed]",
      "text/plain": [
       "<Figure size 748.797x204.68 with 1 Axes>"
      ]
     },
     "execution_count": 42,
     "metadata": {},
     "output_type": "execute_result"
    }
   ],
   "source": [
    "qc.decompose().decompose().decompose().draw(output=\"mpl\") # 양자 회로를 3단계 분해하여 그립니다."
   ]
  },
  {
   "cell_type": "code",
   "execution_count": 43,
   "metadata": {},
   "outputs": [
    {
     "data": {
      "image/png": "[encoded data removed]",
      "text/plain": [
       "<Figure size 748.797x204.68 with 1 Axes>"
      ]
     },
     "execution_count": 43,
     "metadata": {},
     "output_type": "execute_result"
    }
   ],
   "source": [
    "qc.decompose().decompose().decompose().decompose().draw(output=\"mpl\") # 양자 회로를 4단계 분해하여 그립니다."
   ]
  },
  {
   "cell_type": "markdown",
   "metadata": {},
   "source": [
    "## 3. OpenQasm\n",
    "\n",
    "<iframe width=\"727\" height=\"409\" src=\"https://www.youtube.com/embed/wG94YHKDIxc?list=PLOFEBzvs-VvpOCmJ9BonUhf7NYB4d1p0e\" title=\"How can I convert a quantum circuit to and from QASM? 1 Minute Qiskit\" frameborder=\"0\" allow=\"accelerometer; autoplay; clipboard-write; encrypted-media; gyroscope; picture-in-picture\" allowfullscreen></iframe>\n",
    "\n",
    "\n",
    "[Youtube](https://www.youtube.com/embed/wG94YHKDIxc?list=PLOFEBzvs-VvpOCmJ9BonUhf7NYB4d1p0e)\n",
    "\n",
    "OpenQasm이란 Open Quantum Assembly Language의 약자이며 양자 지시의 중간 표현 입니다. 어셈블리어 인만큼 Verilog와 비슷하게 더욱 하드웨어 친화적인 언어 입니다. Qiskit에서 만든 양자 회로를 `qasm` 모듈을 이용하여 더욱 하드웨어 친화적인 OpenQasm으로 바꿔줄 수 있습니다. \n",
    "\n",
    "우선 qc라는 양자 회로를 만들어 줍시다."
   ]
  },
  {
   "cell_type": "code",
   "execution_count": 44,
   "metadata": {},
   "outputs": [
    {
     "data": {
      "image/png": "[encoded data removed]",
      "text/plain": [
       "<Figure size 327.252x204.68 with 1 Axes>"
      ]
     },
     "execution_count": 44,
     "metadata": {},
     "output_type": "execute_result"
    }
   ],
   "source": [
    "qc = QuantumCircuit(2,2) # qc라는 양자회로를 생성합니다. 큐비트 2개와 고전적 비트 2개를 가진 양자회로를 생성합니다.\n",
    "qc.h(0) # qc의 0번째 큐비트에 하다마드 게이트를 적용합니다.\n",
    "qc.cx(0,1) # qc의 0번째 큐비트를 control 큐비트로 1번째 큐비트를 target 게이트로 적용하여 CX 게이트를 추가합니다.\n",
    "qc.measure(0,0) # qc의 0번째 큐비트를 0번째 고전 비트에 측정합니다.\n",
    "qc.measure(1,1) # qc의 1번째 큐비트를 1번째 고전 비트에 측정합니다.\n",
    "qc.draw(output=\"mpl\") # 양자 회로를 그립니다."
   ]
  },
  {
   "cell_type": "markdown",
   "metadata": {},
   "source": [
    "`qasm`을 이용해서 qasm형태로 양자 회로를 만들어 줍시다."
   ]
  },
  {
   "cell_type": "code",
   "execution_count": 45,
   "metadata": {},
   "outputs": [
    {
     "data": {
      "text/plain": [
       "'OPENQASM 2.0;\\ninclude \"qelib1.inc\";\\nqreg q[2];\\ncreg c[2];\\nh q[0];\\ncx q[0],q[1];\\nmeasure q[0] -> c[0];\\nmeasure q[1] -> c[1];\\n'"
      ]
     },
     "execution_count": 45,
     "metadata": {},
     "output_type": "execute_result"
    }
   ],
   "source": [
    "qc.qasm() # 양자 회로를 QASM 코드로 출력합니다."
   ]
  },
  {
   "cell_type": "code",
   "execution_count": 46,
   "metadata": {},
   "outputs": [
    {
     "name": "stdout",
     "output_type": "stream",
     "text": [
      "OPENQASM 2.0;\n",
      "include \"qelib1.inc\";\n",
      "qreg q[2];\n",
      "creg c[2];\n",
      "h q[0];\n",
      "cx q[0],q[1];\n",
      "measure q[0] -> c[0];\n",
      "measure q[1] -> c[1];\n",
      "\n"
     ]
    }
   ],
   "source": [
    "print(qc.qasm()) # 양자 회로를 QASM 코드로 더욱 정리 된 형태로 출력합니다."
   ]
  },
  {
   "cell_type": "code",
   "execution_count": 47,
   "metadata": {},
   "outputs": [
    {
     "name": "stdout",
     "output_type": "stream",
     "text": [
      "\u001b[92mOPENQASM\u001b[39m \u001b[96m2\u001b[39m.\u001b[96m0\u001b[39m;\n",
      "\u001b[92minclude\u001b[39m\u001b[91m \"qelib1.inc\"\u001b[39m;\n",
      "\u001b[92mqreg\u001b[39m q[\u001b[96m2\u001b[39m];\n",
      "\u001b[92mcreg\u001b[39m c[\u001b[96m2\u001b[39m];\n",
      "\u001b[95mh\u001b[39m q[\u001b[96m0\u001b[39m];\n",
      "\u001b[95mcx\u001b[39m q[\u001b[96m0\u001b[39m],q[\u001b[96m1\u001b[39m];\n",
      "\u001b[94mmeasure\u001b[39m q[\u001b[96m0\u001b[39m] -> c[\u001b[96m0\u001b[39m];\n",
      "\u001b[94mmeasure\u001b[39m q[\u001b[96m1\u001b[39m] -> c[\u001b[96m1\u001b[39m];\n",
      "\n"
     ]
    }
   ],
   "source": [
    "qc.qasm(formatted=True) # 양자 회로를 QASM 코드로 또 다른 방법으로 더욱 정리 된 형태로 출력합니다."
   ]
  },
  {
   "cell_type": "markdown",
   "metadata": {},
   "source": [
    "qasm으로 변환된 양자 회로를 `qasm`형태로 저장할 수 있습니다."
   ]
  },
  {
   "cell_type": "code",
   "execution_count": 48,
   "metadata": {},
   "outputs": [
    {
     "name": "stdout",
     "output_type": "stream",
     "text": [
      "OPENQASM 2.0;\n",
      "include \"qelib1.inc\";\n",
      "qreg q[2];\n",
      "creg c[2];\n",
      "h q[0];\n",
      "cx q[0],q[1];\n",
      "measure q[0] -> c[0];\n",
      "measure q[1] -> c[1];\n",
      "\n"
     ]
    }
   ],
   "source": [
    "qc_qasm = qc.qasm(filename='sample.qasm') # 양자 회로를 QASM 코드로 sample.qasm 파일로 저장합니다.\n",
    "print(qc_qasm) # 양자 회로를 QASM 코드로 출력합니다."
   ]
  },
  {
   "cell_type": "markdown",
   "metadata": {},
   "source": [
    "이제 다시 `from_qasm_file`을 이용해 저장했던 qasm 파일을 불러와서 양자 회로로 만들어 사용해줍시다."
   ]
  },
  {
   "cell_type": "code",
   "execution_count": 49,
   "metadata": {},
   "outputs": [],
   "source": [
    "qc = qc.from_qasm_file(\"./sample.qasm\") # sample.qasm 파일을 불러와서 qc라는 양자회로를 생성합니다."
   ]
  },
  {
   "cell_type": "code",
   "execution_count": 50,
   "metadata": {},
   "outputs": [
    {
     "data": {
      "image/png": "[encoded data removed]",
      "text/plain": [
       "<Figure size 327.252x204.68 with 1 Axes>"
      ]
     },
     "execution_count": 50,
     "metadata": {},
     "output_type": "execute_result"
    }
   ],
   "source": [
    "qc.draw(output=\"mpl\") # 양자 회로를 그립니다."
   ]
  },
  {
   "cell_type": "markdown",
   "metadata": {},
   "source": [
    "출력된 양자 회로를 통해 qasm으로 변형되어 저장되었던 양자 회로를 성공적으로 불러온것을 확인할 수 있습니다."
   ]
  },
  {
   "cell_type": "code",
   "execution_count": 51,
   "metadata": {},
   "outputs": [
    {
     "data": {
      "text/html": [
       "<h3>Version Information</h3><table><tr><th>Qiskit Software</th><th>Version</th></tr><tr><td><code>qiskit-terra</code></td><td>0.21.0</td></tr><tr><td><code>qiskit-aer</code></td><td>0.10.4</td></tr><tr><td><code>qiskit-ibmq-provider</code></td><td>0.19.2</td></tr><tr><td><code>qiskit</code></td><td>0.37.0</td></tr><tr><th>System information</th></tr><tr><td>Python version</td><td>3.10.5</td></tr><tr><td>Python compiler</td><td>Clang 13.0.1 </td></tr><tr><td>Python build</td><td>main, Jun 14 2022 07:03:09</td></tr><tr><td>OS</td><td>Darwin</td></tr><tr><td>CPUs</td><td>8</td></tr><tr><td>Memory (Gb)</td><td>16.0</td></tr><tr><td colspan='2'>Wed Aug 31 05:28:30 2022 KST</td></tr></table>"
      ],
      "text/plain": [
       "<IPython.core.display.HTML object>"
      ]
     },
     "metadata": {},
     "output_type": "display_data"
    }
   ],
   "source": [
    "import qiskit.tools.jupyter\n",
    "%qiskit_version_table #qiskit 버전 표시하기"
   ]
  },
  {
   "cell_type": "code",
   "execution_count": null,
   "metadata": {},
   "outputs": [],
   "source": []
  }
 ],
 "metadata": {
  "kernelspec": {
   "display_name": "Python 3.10.5 ('qiskit')",
   "language": "python",
   "name": "python3"
  },
  "language_info": {
   "codemirror_mode": {
    "name": "ipython",
    "version": 3
   },
   "file_extension": ".py",
   "mimetype": "text/x-python",
   "name": "python",
   "nbconvert_exporter": "python",
   "pygments_lexer": "ipython3",
   "version": "3.10.5"
  },
  "orig_nbformat": 4,
  "vscode": {
   "interpreter": {
    "hash": "61e38d38e362baf74507d5f9568815ca017052702bd5356c9e3eea1ad7c412ff"
   }
  }
 },
 "nbformat": 4,
 "nbformat_minor": 2
}
