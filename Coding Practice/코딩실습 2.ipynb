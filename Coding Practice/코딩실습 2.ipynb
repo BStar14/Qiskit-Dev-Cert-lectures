{
 "cells": [
  {
   "cell_type": "code",
   "execution_count": null,
   "id": "9a0e3d2d-4e13-4ee6-aa8f-041e91e4a3d6",
   "metadata": {},
   "outputs": [],
   "source": [
    "import qiskit.tools.jupyter\n",
    "%qiskit_version_table"
   ]
  },
  {
   "cell_type": "markdown",
   "id": "4971d853-12de-4296-a989-6036eb3beced",
   "metadata": {},
   "source": [
    "## 2교시 : non_unitary 연산 및 OpenQasm\n",
    "\n",
    "### 2-1 non-unitary 연산\n",
    "\n",
    "양자 회로를 만드는 여러가지 방법을 포함해, 양자 회로를 사용해 다른 회로를 만들 수 있는 것, 알고 계신가요? 이번 코딩 실습에서 함께 확인해 봅시다. 관련 내용은 Qiskit API문서의 [이 부분](https://docs.quantum.ibm.com/api/qiskit/0.29/qiskit.circuit.QuantumCircuit#qiskit.circuit.QuantumCircuit)을 참고하며 진행해 봅시다.\n",
    "\n",
    "#### 초기화\n",
    "큐비트는 자동으로 $|0\\rangle$으로 초기화되지만, 다른 여러가지 값으로도 초기화 시킬 수 있습니다. 한번 알아 봅시다."
   ]
  },
  {
   "cell_type": "code",
   "execution_count": null,
   "id": "ed3d3d24-d5a2-42ed-9285-9ed74e615064",
   "metadata": {},
   "outputs": [],
   "source": [
    "from qiskit import QuantumCircuit\n",
    "from qiskit.quantum_info import Statevector\n",
    "import numpy as np"
   ]
  },
  {
   "cell_type": "markdown",
   "id": "547df0f0-705d-4390-a29b-60cabd697feb",
   "metadata": {},
   "source": [
    "1큐비트 양자회로를 선언한 후, initialize를 사용해 하다마드 게이트를 적용한 것과 같은 상태로 초기화 해보세요. initializes는 qc.initialize()의 형태로 사용합니다. 기타 Quantum Circuit과 관련된 명령어 들은 [이 API 문서](https://docs.quantum.ibm.com/api/qiskit/0.29/qiskit.circuit.QuantumCircuit#qiskit.circuit.QuantumCircuit)를 살펴봅시다.\n",
    "\n",
    "참고로 하다마드 게이트는 $|0\\rangle$을 $\\frac{|0\\rangle + |1\\rangle}{\\sqrt{2}}$로 만드는 연산자입니다."
   ]
  },
  {
   "cell_type": "code",
   "execution_count": null,
   "id": "aaea71a0-b6fd-4a74-977d-34260454c22d",
   "metadata": {},
   "outputs": [],
   "source": [
    "init_state = [,]\n",
    "qc = QuantumCircuit(1)\n",
    "qc.initialize(init_state, 0)\n",
    "qc.draw('mpl')"
   ]
  },
  {
   "cell_type": "markdown",
   "id": "ea494507-ff08-44ba-bb3c-fa980af5bcfb",
   "metadata": {},
   "source": [
    "댜음은 2큐비트 fully entangled된 양자회로를 만든 후 두 큐비트를 모두 $|0\\rangle$로 초기화 해봅시다. 초기화는 qc.reset(qubit_index)의 형태로 사용합니다."
   ]
  },
  {
   "cell_type": "code",
   "execution_count": null,
   "id": "aa614b24-3773-4337-a659-f37420acd580",
   "metadata": {},
   "outputs": [],
   "source": [
    "qc = QuantumCircuit(2)\n",
    "qc.h(0)\n",
    "qc.cx(0,1)\n",
    "# 0,1번 큐비트를 초기화 해보세요.\n",
    "\n",
    "\n",
    "#\n",
    "Statevector(qc)"
   ]
  },
  {
   "cell_type": "markdown",
   "id": "a16d8599-d055-4a8f-8b49-8a0943c71413",
   "metadata": {},
   "source": [
    "#### 측정\n",
    "시험문제에서 많은 분들이 실수를 하거나 방심해서 틀리는 구간입니다. 측정은 다음의 두가지 방법으로 사용합니다.\n",
    "- QuantumCircuit.measrue(qubit,cbit)\n",
    "- QuantumCircuit.measure_all\n",
    "\n",
    "각각의 방법으로 회로를 구현하고 그려본 후 잘 기억해 주세요."
   ]
  },
  {
   "cell_type": "code",
   "execution_count": null,
   "id": "93a816c6-3f61-49b5-ab6b-14d7a6bbfb63",
   "metadata": {},
   "outputs": [],
   "source": [
    "# 두개의 큐비트와 두개의 고전 비트를 지닌 양자 회로를 작성합니다. 0번 큐비트를 0번 고전비트로, 1번 큐비트를 1번 고전 비트로 측정하도록 measure를 적용하고 회로를 그려봅니다.\n",
    "\n"
   ]
  },
  {
   "cell_type": "code",
   "execution_count": null,
   "id": "385d887b-c788-407b-afda-1ac2dea3addd",
   "metadata": {},
   "outputs": [],
   "source": [
    "# 두개의 큐비트와 두개의 고전 비트를 지닌 양자 회로를 작성합니다. 0번 큐비트를 1번 고전비트로, 1번 큐비트를 0번 고전 비트로 측정하도록 measure를 적용하고 회로를 그려봅니다.\n",
    "\n"
   ]
  },
  {
   "cell_type": "code",
   "execution_count": null,
   "id": "b3a61537-fbef-433d-b078-b7aab04c35f7",
   "metadata": {},
   "outputs": [],
   "source": [
    "# 세 개의 큐비트와 두개의 고전 비트를 지닌 양자 회로를 작성합니다. 1번 큐비트를 1번 고전비트로, 2번 큐비트를 2번 고전 비트로 측정하도록 measure를 적용하고 회로를 그려봅니다.\n",
    "\n"
   ]
  },
  {
   "cell_type": "code",
   "execution_count": null,
   "id": "034788b1-8100-4c08-ad33-0221820f82eb",
   "metadata": {},
   "outputs": [],
   "source": [
    "# 세 개의 큐비트를 지닌 양자회로를 작성합니다. mearuse_all()을 적용하고 회로를 그려봅니다.\n",
    "\n"
   ]
  },
  {
   "cell_type": "markdown",
   "id": "76ed214a-c5dd-42ea-80f4-494155a1c612",
   "metadata": {},
   "source": [
    "## 2-2 회로의 조작\n",
    "\n",
    "이번에는 두개의 회로를 합치는 여러가지 방법에 대해 실습해 봅시다. 우선 재료가 될 회로 두가지를 먼저 만들어 둡시다."
   ]
  },
  {
   "cell_type": "code",
   "execution_count": null,
   "id": "66c99df1-0b5a-4f7d-93a0-fcd561ba8d53",
   "metadata": {},
   "outputs": [],
   "source": [
    "anti_cnot_qc = QuantumCircuit(2)\n",
    "    \n",
    "anti_cnot_qc.x(0)\n",
    "anti_cnot_qc.cx(0,1)\n",
    "anti_cnot_qc.x(0)\n",
    "anti_cnot_qc.draw('mpl')"
   ]
  },
  {
   "cell_type": "markdown",
   "id": "633f37bd-b721-42bd-8d74-79df569b71b6",
   "metadata": {},
   "source": [
    "만들어둔 양자 회로를 다른 회로에 적용하기 위한 방법 중 하나는, 이 양자회로를 게이트로 변환하여 사용하는 것입니다. 위의 회로를 게이트로 다음의 셀을 실행해 변환해 봅시다.\n",
    "`.to_gate()`를 사용해 anti_cnot_gate라는 이름의 게이트로 양자 회로를 변환해 봅시다."
   ]
  },
  {
   "cell_type": "code",
   "execution_count": null,
   "id": "da78dcac-4f19-49b9-8736-8820ff805fb5",
   "metadata": {},
   "outputs": [],
   "source": [
    "anti_cnot_gate = #\n",
    "\n",
    "anti_cnot_gate.definition.draw('mpl')"
   ]
  },
  {
   "cell_type": "markdown",
   "id": "9068e631-f8c0-45d0-95cb-ca069bfef408",
   "metadata": {},
   "source": [
    "이제 만들어진 게이트를 새로운 양자 회로에 적용해 봅시다. 우선 적용할 대상이 될 회로를 만들어 둡시다."
   ]
  },
  {
   "cell_type": "code",
   "execution_count": null,
   "id": "dd27eb31-9e45-4fa2-b960-605536486a9f",
   "metadata": {},
   "outputs": [],
   "source": [
    "qc = QuantumCircuit(3)\n",
    "qc.x([0,1,2])\n",
    "qc.draw('mpl')"
   ]
  },
  {
   "cell_type": "markdown",
   "id": "500ac589-2236-4326-b8b4-31ea7abcffb5",
   "metadata": {},
   "source": [
    "만들어진 양자회로의 끝부분에 게이트나, 양자회로를 붙일때는 `append()`함수를 사용합니다.\n",
    "아래의 셀을 실행해서 결과를 확인해 봅시다."
   ]
  },
  {
   "cell_type": "code",
   "execution_count": null,
   "id": "86be38a3-6734-403d-a2f6-2774cf9b9575",
   "metadata": {},
   "outputs": [],
   "source": [
    "qc.append(anti_cnot_qc, [0,1])\n",
    "qc.decompose().draw('mpl')"
   ]
  },
  {
   "cell_type": "markdown",
   "id": "444f65fb-4aff-4b93-af6d-a89e7609260d",
   "metadata": {},
   "source": [
    "`append`를 사용해서 위에 만들어둔 양자 게이트를 qc의 각각 0번과 2번 큐비트에 적용해 봅시다."
   ]
  },
  {
   "cell_type": "code",
   "execution_count": null,
   "id": "21de2e0e-7676-4ba3-bd2b-27bf5950038b",
   "metadata": {},
   "outputs": [],
   "source": [
    "qc.append( # )\n",
    "qc.decompose().draw('mpl')"
   ]
  },
  {
   "cell_type": "markdown",
   "id": "ad4c19bc-a7d2-421f-a52f-7baa45b462fd",
   "metadata": {},
   "source": [
    "양자 회로를 합치는 명령어는 여러가지가 있으며 몇가지를 테스트 해봅시다. 우선 왼쪽에 위치할 회로를 만들어 둡시다."
   ]
  },
  {
   "cell_type": "code",
   "execution_count": null,
   "id": "cf1751cb-7cd0-4fea-a6a4-aaa08c1949dc",
   "metadata": {},
   "outputs": [],
   "source": [
    "qc_l = QuantumCircuit(5)\n",
    "qc_l.t(0)\n",
    "qc_l.h(1)\n",
    "qc_l.cx(0,2)\n",
    "qc_l.cx(1,4)\n",
    "qc_l.draw('mpl')"
   ]
  },
  {
   "cell_type": "markdown",
   "id": "fcc5cd92-1a2f-4888-a141-ed22f257523e",
   "metadata": {},
   "source": [
    "이제 오른쪽에 합쳐질 회로를 만들어 둡니다. "
   ]
  },
  {
   "cell_type": "code",
   "execution_count": null,
   "id": "1e0dd90d-5267-4f32-9ddc-1b395391dfaf",
   "metadata": {},
   "outputs": [],
   "source": [
    "qc_r = QuantumCircuit(2)\n",
    "qc_r.cx(0,1)\n",
    "qc_r.sdg(0)\n",
    "qc_r.draw('mpl')"
   ]
  },
  {
   "cell_type": "markdown",
   "id": "afb4695c-dd3e-4ed6-a4b2-72c8f8ce683c",
   "metadata": {},
   "source": [
    "양자회로 원본을 손상시키지 않으면서 복사하기 위해서는 `.copy()` 명령어를 사용합니다.\n",
    "`qc_l`을 복사하여 `new_qc` 라는 양자회로를 만듭니다. 이 양자 회로에 `.append()` 명령어를 사용해 각각 0, 1번 큐비트에 `qc_r`회로를 합친 후 그려봅니다."
   ]
  },
  {
   "cell_type": "code",
   "execution_count": null,
   "id": "614497c4-171c-4136-bf81-d01e3d5b3429",
   "metadata": {},
   "outputs": [],
   "source": [
    "new_qc = #\n",
    "new_qc.append( # )\n",
    "new_qc.decompose().draw('mpl')"
   ]
  },
  {
   "cell_type": "markdown",
   "id": "f7df6c43-94fa-4d58-8d03-5df920cbe9b7",
   "metadata": {},
   "source": [
    "두 양자회로를 합치는 데는 `+` 연산자 또는 `compose()` 명령어를 사용할 수 있습니다. `qc_l`과 `qc_r`에 대해 각각을 시도해 봅시다."
   ]
  },
  {
   "cell_type": "code",
   "execution_count": null,
   "id": "4c5f5b3f-efe8-477d-b909-c544a722afa4",
   "metadata": {},
   "outputs": [],
   "source": [
    "new_qc = \n",
    "new_qc.draw()"
   ]
  },
  {
   "cell_type": "markdown",
   "id": "f9c138a4-f616-431e-8996-4b095eae8cac",
   "metadata": {},
   "source": [
    "위의 두 명령어 모두 대상이 되는 양자회로의 크기가 다르기 때문에 에러를 반환합니다. 이 경우 `compose()` 명령어를 사용할 수 있습니다. 아래에 `compose()` 명령어로 두 양자회로를 합쳐 봅시다."
   ]
  },
  {
   "cell_type": "code",
   "execution_count": null,
   "id": "203993ba-336d-4e28-a471-b67892613fbd",
   "metadata": {},
   "outputs": [],
   "source": [
    "new_qc = #\n",
    "new_qc.draw()"
   ]
  },
  {
   "cell_type": "markdown",
   "id": "d59fc2c5-c3c5-4823-8ac0-db69a9bd3887",
   "metadata": {},
   "source": [
    "이벤에는 `qc_r`을 qc_l의 1, 2번 큐비트에 위치시켜 봅시다. `compose()`명령어를 사용합니다."
   ]
  },
  {
   "cell_type": "code",
   "execution_count": null,
   "id": "e36f6069-33c5-41e6-800b-ccac82be313d",
   "metadata": {},
   "outputs": [],
   "source": [
    "new_qc = #\n",
    "new_qc.draw()"
   ]
  },
  {
   "cell_type": "markdown",
   "id": "018cb8c0-aa26-4076-8602-eeee13b4746f",
   "metadata": {},
   "source": [
    "이제 아주 간단한 회로를 사용해서 회로를 반복하고, 양자 회로의 레이어를 반전시키는 것을 실습해 봅시다. \n",
    "아래에 2큐비트의 간단한 양자 회로를 만들어 봅시다. 각 큐비트에 x 게이트를 적용한 후, cx(0,1)게이트를 사용해 얽어줍시다."
   ]
  },
  {
   "cell_type": "code",
   "execution_count": null,
   "id": "2d8a03c2-29d8-41cf-9f6d-12a384e210d5",
   "metadata": {},
   "outputs": [],
   "source": [
    "#\n",
    "\n"
   ]
  },
  {
   "cell_type": "markdown",
   "id": "892c0907-0c41-4c6f-9d43-292140beb64c",
   "metadata": {},
   "source": [
    "`repeat(iteration_number)` 명령어를 사용해 만든 양자회로를 2번 반복하여 new_qc에 저장하고 그려봅니다."
   ]
  },
  {
   "cell_type": "code",
   "execution_count": null,
   "id": "0db3c3ca-3d42-49ff-a1ef-3f16b33a51fe",
   "metadata": {},
   "outputs": [],
   "source": [
    "new_qc = \n",
    "new_qc.decompose().draw('mpl')"
   ]
  },
  {
   "cell_type": "markdown",
   "id": "1060284f-359c-4516-a467-85c27bbfb263",
   "metadata": {},
   "source": [
    "`inverse()` 명령어를 사용해서, qc의 `complex conjugate`회로를 만들어 출력해 봅시다."
   ]
  },
  {
   "cell_type": "code",
   "execution_count": null,
   "id": "05c5d8ee-d23c-4fb1-9bee-4fd509caa76c",
   "metadata": {},
   "outputs": [],
   "source": [
    "new_qc = \n",
    "new_qc.draw('mpl')"
   ]
  },
  {
   "cell_type": "markdown",
   "id": "74e2901a-cb7c-41f2-bbc3-cb63af9ca0cf",
   "metadata": {},
   "source": [
    "이미 작성한 양자회로에 큐비트나 고전 비트를 추가하여 크기를 늘리고 싶을때는 `add_register`를 사용합니다."
   ]
  },
  {
   "cell_type": "code",
   "execution_count": null,
   "id": "4d86709a-894c-4651-9764-ddf4a404f921",
   "metadata": {},
   "outputs": [],
   "source": [
    "from qiskit import QuantumRegister, ClassicalRegister"
   ]
  },
  {
   "cell_type": "code",
   "execution_count": null,
   "id": "658f981c-706c-475a-a267-d13e4ff7c870",
   "metadata": {},
   "outputs": [],
   "source": [
    "q_bit = QuantumRegister(2)\n",
    "c_bit = ClassicalRegister(2)"
   ]
  },
  {
   "cell_type": "code",
   "execution_count": null,
   "id": "79d28fd5-5329-4580-8a7e-d3e62daebe1f",
   "metadata": {},
   "outputs": [],
   "source": [
    "위에서 만들어둔 양자 회로에 `add_register`를 사용해 `q_bit`을 추가해 봅시다."
   ]
  },
  {
   "cell_type": "code",
   "execution_count": null,
   "id": "051c84a8-3788-44cf-9f8b-61cb517cffce",
   "metadata": {},
   "outputs": [],
   "source": [
    "\n",
    "\n",
    "qc.draw('mpl')"
   ]
  },
  {
   "cell_type": "markdown",
   "id": "1f37b1a5-8886-4942-806e-8439c36e94ec",
   "metadata": {},
   "source": [
    "위에서 만들어둔 양자 회로에 `add_register`를 사용해 `c_bit`을 추가해 봅시다."
   ]
  },
  {
   "cell_type": "code",
   "execution_count": null,
   "id": "e8982062-20e4-4955-9c39-c4114714d59d",
   "metadata": {},
   "outputs": [],
   "source": [
    "\n",
    "\n",
    "qc.draw('mpl')"
   ]
  },
  {
   "cell_type": "markdown",
   "id": "17318306-c7d7-4349-9a0d-a6e7a1c3dfa4",
   "metadata": {},
   "source": [
    "## Parameterized Circuit\n",
    "Qiskit은 회로를 작성할때 변수를 선언만 해두고 나중에 원하는 값을 배정하는  Parameterized Circuit을 지원합니다. 다음과 같이 사용합니다."
   ]
  },
  {
   "cell_type": "code",
   "execution_count": null,
   "id": "f04060ff-2b1e-4c44-bd0c-da386b4c3dc6",
   "metadata": {},
   "outputs": [],
   "source": [
    "from qiskit.circuit import QuantumCircuit,ParameterVector\n",
    "\n",
    "theta = ParameterVector('θ', 3)\n",
    "\n",
    "qc = QuantumCircuit(3)\n",
    "qc.h([0,1,2])\n",
    "qc.p(theta[0],0)\n",
    "qc.p(theta[1],1)\n",
    "qc.p(theta[2],2)\n",
    "\n",
    "qc.draw('mpl')"
   ]
  },
  {
   "cell_type": "code",
   "execution_count": null,
   "id": "b21ad60f-6ee8-4704-baf9-f4810ee2f05d",
   "metadata": {},
   "outputs": [],
   "source": [
    "import math\n",
    "\n",
    "b_qc = #\n",
    "\n",
    "b_qc.draw('mpl')"
   ]
  },
  {
   "cell_type": "markdown",
   "id": "aba17189-d11f-4838-9f70-a51d1604ade0",
   "metadata": {},
   "source": [
    "도전 과제: 다음의 흐름대로 양자 회로를 만들어 봅시다.\n",
    "\n",
    "1. 다음 그림과 같은 1큐비트의 phase 게이트를 지닌 양자회로를 만들어 `to_gate()` 명령어를 사용해 `p16_gate`라는 이름으로 저장해 둡니다. 만든 후 `p16_gate.definition.draw()`를 사용해 그려봅니다.\n",
    "   <img src=\"img/ex6.png\">\n",
    "2. 만들어둔 게이트에 `.control(2)` 명령어를 사용해서 제어 비트 두개를 추가로 붙입니다. 만든 후 `p16_gate.definition.draw()`를 사용해 그려봅니다.\n",
    "3. 4큐비트 짜리 양자 회로를 선언하고 모든 큐비트에 하다마드 게이트를 적용합니다. 이 양자 회로에  `p16_gate`를 각각 큐비트 0, 1, 3에 적용한 후 양자 회로를 그려봅니다.\n"
   ]
  },
  {
   "cell_type": "code",
   "execution_count": null,
   "id": "97f4f109-bc63-491e-b409-943c7690e36a",
   "metadata": {},
   "outputs": [],
   "source": [
    "# your code"
   ]
  },
  {
   "cell_type": "markdown",
   "id": "20d8c371-6009-4c1a-b7c2-f9e2aac21b4b",
   "metadata": {},
   "source": [
    "### 2-3 OpenQasm "
   ]
  },
  {
   "cell_type": "markdown",
   "id": "3eaea55b-c5fa-4a83-a33e-ea31464c3104",
   "metadata": {},
   "source": [
    "OpenQasm이란 Open Quantum Assembly Language의 약자이며 양자 지시의 중간 표현 입니다. 어셈블리어 인만큼 Verilog와 비슷하게 더욱 하드웨어 친화적인 언어 입니다. Qiskit에서 만든 양자 회로를 qasm 모듈을 이용하여 더욱 하드웨어 친화적인 OpenQasm으로 바꿔줄 수 있습니다.\n",
    "\n",
    "이 실습에서 사용하는 것은 OpenQasm 2.0 버젼이며 최신의 Qiskit은 OpenQasm 3.0을 지원하니 참고해 주세요. 우선 QASM 명령어는 다음과 같이 생겼습니다."
   ]
  },
  {
   "cell_type": "code",
   "execution_count": null,
   "id": "688d58c4-cd31-478e-936e-2695dacba409",
   "metadata": {},
   "outputs": [],
   "source": [
    "qasm_str = \"\"\"\n",
    "OPENQASM 2.0;\n",
    "include \"qelib1.inc\";\n",
    "qreg q[2];\n",
    "creg c[2];\n",
    "h q[0];\n",
    "cx q[0],q[1];\n",
    "measure q[0] -> c[0];\n",
    "measure q[1] -> c[1];\n",
    "\"\"\""
   ]
  },
  {
   "cell_type": "markdown",
   "id": "fbbe96c4-4f1c-4323-9264-739e33494aca",
   "metadata": {},
   "source": [
    "이 qasm 명령어로 양자 회로를 만들어 봅시다. 다음의 셀을 실행해 봅시다."
   ]
  },
  {
   "cell_type": "code",
   "execution_count": null,
   "id": "064d8717-9218-4f35-85d9-421ac2247331",
   "metadata": {},
   "outputs": [],
   "source": [
    "new_qc = QuantumCircuit.from_qasm_str(qasm_str)\n",
    "new_qc.draw('mpl')"
   ]
  },
  {
   "cell_type": "markdown",
   "id": "a0709a27-8880-42d3-84ce-264c5fdd945a",
   "metadata": {},
   "source": [
    "반대로 양자 회로를 openqasm 명령어로 변환하고 저장할 수도 있습니다. new_qc를 다시 openqasm 명령어로 변환해 봅시다."
   ]
  },
  {
   "cell_type": "code",
   "execution_count": null,
   "id": "131abe36-e168-40e2-bc6b-604c5720b092",
   "metadata": {},
   "outputs": [],
   "source": [
    "new_qasm = new_qc.qasm() # 양자 회로를 QASM 코드로 출력합니다.\n",
    "print(new_qasm)"
   ]
  },
  {
   "cell_type": "markdown",
   "id": "911be774-7ab9-48a6-a688-71aa23a9780a",
   "metadata": {},
   "source": [
    " 양자 회로를 qasm으로 변환할때 파일로 바로 저장할 수도 있습니다. 다음의 셀을 실행해 봅시다."
   ]
  },
  {
   "cell_type": "code",
   "execution_count": null,
   "id": "2eac654b-107e-4abc-b271-8a2f6d664712",
   "metadata": {},
   "outputs": [],
   "source": [
    "new_qasm = new_qc.qasm(filename='sample.qasm') # 양자 회로를 QASM 코드로 sample.qasm 파일로 저장합니다."
   ]
  },
  {
   "cell_type": "markdown",
   "id": "781fc7f2-03c3-4ff5-8d6e-3a549ac0691f",
   "metadata": {},
   "source": [
    "이번엔 저장된 qasm 파일을 불러들여서 양자 회로를 만든 후 출력해 봅시다."
   ]
  },
  {
   "cell_type": "code",
   "execution_count": null,
   "id": "bb6a75ce-f42c-4335-a543-0658e699faa7",
   "metadata": {},
   "outputs": [],
   "source": [
    "qc2 = QuantumCircuit.from_qasm_file(\"./sample.qasm\")\n",
    "qc2.draw()"
   ]
  },
  {
   "cell_type": "code",
   "execution_count": null,
   "id": "0df877b8-ed2f-4875-a281-0d92b21b4737",
   "metadata": {},
   "outputs": [],
   "source": []
  }
 ],
 "metadata": {
  "kernelspec": {
   "display_name": "Python 3 (ipykernel)",
   "language": "python",
   "name": "python3"
  },
  "language_info": {
   "codemirror_mode": {
    "name": "ipython",
    "version": 3
   },
   "file_extension": ".py",
   "mimetype": "text/x-python",
   "name": "python",
   "nbconvert_exporter": "python",
   "pygments_lexer": "ipython3",
   "version": "3.8.18"
  }
 },
 "nbformat": 4,
 "nbformat_minor": 5
}
