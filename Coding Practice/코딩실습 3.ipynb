{
 "cells": [
  {
   "cell_type": "code",
   "execution_count": null,
   "id": "f22cf5ff-29c7-4888-9553-6bfea4e55370",
   "metadata": {},
   "outputs": [],
   "source": [
    "import qiskit.tools.jupyter\n",
    "%qiskit_version_table"
   ]
  },
  {
   "cell_type": "markdown",
   "id": "7ffa8b8e-32aa-433f-b7d7-e4defd1f834b",
   "metadata": {},
   "source": [
    "## 3교시 : 양자 회로의 실행과 백엔드\n",
    "\n",
    "이번 3교시 코딩 실습은 양자회로를 실행할 수 있는 백엔드들의 종류와 사용법을 알아보도록 하겠습니다.\n",
    "\n",
    "### 3-1. 양자 회로의 실행\n",
    "\n",
    "우선 실행의 대상이 될 다음과 같은 양자 회로를 작성해 봅시다.\n",
    "\n",
    "<img src=\"img/ex7.png\" width=800/>\n"
   ]
  },
  {
   "cell_type": "code",
   "execution_count": null,
   "id": "2049ae40-db0a-4dbd-a3f8-5a6ac4c218bc",
   "metadata": {},
   "outputs": [],
   "source": [
    "from qiskit import QuantumCircuit\n",
    "\n",
    "# your code\n",
    "\n",
    "qc = "
   ]
  },
  {
   "cell_type": "markdown",
   "id": "a647fb67-edad-4c9d-99a6-0c0f68b6ceba",
   "metadata": {},
   "source": [
    "### BasicAer Simulators를 사용해 보기\n",
    "\n",
    "Qiskit 0.2는 여러가지 형태의 시뮬레이터를 제공합니다. 그중 BasicAer 시뮬레이터는 Python 코드를 기반으로 작성된 시뮬레이터 이며 이를 호출하는 방법과 사용할 수 있는 시뮬레이터의 종류를 확인해 봅시다.\n"
   ]
  },
  {
   "cell_type": "code",
   "execution_count": null,
   "id": "69df646d-060a-4351-8df0-a8abf7d67e9f",
   "metadata": {},
   "outputs": [],
   "source": [
    "from qiskit import BasicAer\n",
    "print(BasicAer.backends())"
   ]
  },
  {
   "cell_type": "markdown",
   "id": "cb9b2b38-cbb3-4de3-84a2-3039c001aaa1",
   "metadata": {},
   "source": [
    "위에서 만들어둔 양자회로를 BasicAer의 \"qasm_simulator\"를 사용해서 1000번 실행해 봅시다. 계산 결과를 받아 측정된 값들의 각각의 count를 그려 봅시다."
   ]
  },
  {
   "cell_type": "code",
   "execution_count": null,
   "id": "132ec087-4e2d-4873-93e4-0a33191f4222",
   "metadata": {},
   "outputs": [],
   "source": [
    "from qiskit import transpile\n",
    "from qiskit.visualization.array import array_to_latex\n",
    "from qiskit.visualization import plot_histogram, plot_circuit_layout # plot_histogram과 plot_circuit_layout 라이브러리를 불러옵니다.\n",
    "\n",
    "\n",
    "backend = BasicAer.get_backend(\"qasm_simulator\")\n",
    "tqc = transpile(qc, backend)\n",
    "job = backend.run(tqc, shots=1000)\n",
    "result = job.result()\n",
    "counts = result.get_counts(tqc)\n",
    "plot_histogram(counts)"
   ]
  },
  {
   "cell_type": "markdown",
   "id": "28a00c7d-4544-4a32-ab26-8c5e4ce19b8d",
   "metadata": {},
   "source": [
    "BasicAer의 시뮬레이터 중 양자 회로가 만들어 내는 큐비트의 Statevector를 사용해서 이 회로를 시뮬레이션 해 봅시다."
   ]
  },
  {
   "cell_type": "code",
   "execution_count": null,
   "id": "0e36d576-bc15-4b46-8f27-39ae5e654993",
   "metadata": {},
   "outputs": [],
   "source": [
    "backend = BasicAer.get_backend(\"statevector_simulator\")\n",
    "tqc = transpile(qc, backend)\n",
    "job = backend.run(tqc)\n",
    "result = job.result()\n",
    "statevector = result.get_statevector(tqc, 4)\n",
    "array_to_latex(statevector)"
   ]
  },
  {
   "cell_type": "markdown",
   "id": "78633ea0-bc5e-4459-b06c-3df125bd25f8",
   "metadata": {},
   "source": [
    "회로의 최종 측정을 지우고 Statevector를 계산하고 위의 결과와 비교해 봅시다."
   ]
  },
  {
   "cell_type": "code",
   "execution_count": null,
   "id": "e53b5327-8793-45e3-b8a6-149e5fcd2006",
   "metadata": {},
   "outputs": [],
   "source": [
    "qc.remove_final_measurements()\n",
    "tqc = transpile(qc, backend)\n",
    "job = backend.run(tqc)\n",
    "result = job.result()\n",
    "statevector = result.get_statevector(tqc, 4)\n",
    "array_to_latex(statevector)"
   ]
  },
  {
   "cell_type": "markdown",
   "id": "1f7f1b1a-c9fd-43a2-a4b0-4aa0a3b98d51",
   "metadata": {},
   "source": [
    "회로를 다시 한번 만든 후, 이번에는 유니터리를 계산해 봅시다."
   ]
  },
  {
   "cell_type": "code",
   "execution_count": null,
   "id": "7633706f-8df7-4a6b-8354-6c88c30e7f84",
   "metadata": {},
   "outputs": [],
   "source": [
    "qc = "
   ]
  },
  {
   "cell_type": "code",
   "execution_count": null,
   "id": "d4220b22-e6a1-43cb-8e67-f3e49909205d",
   "metadata": {},
   "outputs": [],
   "source": [
    "\n",
    "backend = BasicAer.get_backend(\"unitary_simulator\")\n",
    "tqc = transpile(qc, backend)\n",
    "job = backend.run(tqc)\n",
    "result = job.result()\n",
    "unitary = result.get_unitary(tqc, 4)\n",
    "array_to_latex(unitary)"
   ]
  },
  {
   "cell_type": "markdown",
   "id": "601226b4-5d3f-44c1-a658-c9c80ac61618",
   "metadata": {},
   "source": [
    "### Aer Simulators 사용하기\n",
    "\n",
    "Qiskit 0.2버젼이 제공하는 시뮬레이터 중 Aer는  C++기반으로 작성되어 BasicAer보다 조금 더 빠른 성능을 지는 시뮬레이터 군을 지니고 있습니다. Aer로 사용할 수 있는 시뮬레이터의 종류 들을 확인해 봅시다.\n"
   ]
  },
  {
   "cell_type": "code",
   "execution_count": null,
   "id": "0db57b21-da8e-4740-b26e-29f85225196d",
   "metadata": {},
   "outputs": [],
   "source": [
    "from qiskit import Aer\n",
    "\n",
    "Aer.backends()"
   ]
  },
  {
   "cell_type": "markdown",
   "id": "b1de4a75-262a-4fab-88ea-2358970b23c1",
   "metadata": {},
   "source": [
    "aer_simulator를 사용해서 위의 BasicAer 시뮬레이터한 것과 같은 과정을 한번 거쳐 봅시다. 실습의 대상이 될 양자 회로를 한번 만들어 봅시다.\n",
    "실습을 내용을 위해 인호님의 [세번째 강의 노트북](https://github.com/QuantumComputingKorea/Qiskit-Dev-Cert-lectures/blob/main/Lecture3/Lecture%203%20-%20%EC%96%91%EC%9E%90%20%ED%9A%8C%EB%A1%9C%20%EC%8B%A4%ED%96%89%EA%B3%BC%20%EB%B0%B1%EC%97%94%EB%93%9C.ipynb)와 Qiskit Pocketbook의 [Using_the_Aer_Simulators](https://github.com/qiskit-community/qiskit-pocket-guide/blob/main/chapter02_Running_Quantum_Circuits/chapter02-2_Using_the_Aer_Simulators.ipynb) 부분을 참고해 보세요."
   ]
  },
  {
   "cell_type": "code",
   "execution_count": null,
   "id": "9189c6f3-f538-409c-8114-32f3754853a0",
   "metadata": {},
   "outputs": [],
   "source": [
    "qc=QuantumCircuit(3,3) \n",
    "qc.h(0) \n",
    "qc.cx(0,1)\n",
    "qc.cx(1,2)\n",
    "\n",
    "qc.measure([0,1,2],[0,1,2])\n",
    "qc.draw(output='mpl') "
   ]
  },
  {
   "cell_type": "code",
   "execution_count": null,
   "id": "85f3c90a-1414-43a6-9cea-77e2a0e14173",
   "metadata": {},
   "outputs": [],
   "source": [
    "# backend = Aer.get_backend(\"aer_simulator\") 를 사용해 위의 양자 회로를 실행하고 count를 plot_histogram()을 사용해 그려 보세요.\n",
    "\n"
   ]
  },
  {
   "cell_type": "code",
   "execution_count": null,
   "id": "0e10f7c1-6025-4243-80dd-34438e12922d",
   "metadata": {},
   "outputs": [],
   "source": [
    "#qc에서 measurement를 제거한 후 qc.save_statevector() 명령어를 실행해 statevector를 계산할 지점을 설정한 후  \n",
    "#backend = Aer.get_backend(\"aer_simulator\")를 사용해 statevector를  계산해 보세요\n",
    "\n",
    "\n"
   ]
  },
  {
   "cell_type": "markdown",
   "id": "927619d2-65d2-4dbb-bc68-793022140db8",
   "metadata": {},
   "source": [
    "measure가 없이 회로를 다시 생성한 후 아래의 실습을 해보세요."
   ]
  },
  {
   "cell_type": "code",
   "execution_count": null,
   "id": "e85d6ce9-e5cd-4cec-a0c9-a0cdb1620c19",
   "metadata": {},
   "outputs": [],
   "source": [
    "#measurement가 제거된 qc에  qc.save_unitary()명령어를 실행해 unitary를 계산할 지점을 설정한 후  \n",
    "#backend = Aer.get_backend(\"aer_simulator\")를 사용해 \bunitary를  계산해 보세요\n",
    "\n"
   ]
  },
  {
   "cell_type": "markdown",
   "id": "66fbed61-873e-4254-b68b-d30285a09cc0",
   "metadata": {},
   "source": [
    "Aer 시뮬레이터는 실제 양자 백엔드의 노이즈 특성을 추가할 수 있으며, 다음과 같은 방식으로 추가할 수 있습니다.\n"
   ]
  },
  {
   "cell_type": "code",
   "execution_count": null,
   "id": "6f8fa393-7649-4f7b-a20d-bbd48231f641",
   "metadata": {},
   "outputs": [],
   "source": [
    "from qiskit import QuantumCircuit, Aer, transpile\n",
    "from qiskit.providers.aer.noise import  NoiseModel, depolarizing_error\n",
    "\n",
    "err_1 = depolarizing_error(0.05, 1)\n",
    "err_2 = depolarizing_error(0.1, 2)\n",
    "noise_model = NoiseModel()\n",
    "noise_model.add_all_qubit_quantum_error(err_1,\n",
    "                           ['u1', 'u2', 'u3'])\n",
    "noise_model.add_all_qubit_quantum_error(err_2,\n",
    "                                       ['cx'])\n"
   ]
  },
  {
   "cell_type": "code",
   "execution_count": null,
   "id": "dd83ad3e-af5a-43dd-b9b4-949cf47113cb",
   "metadata": {},
   "outputs": [],
   "source": [
    "qc = QuantumCircuit(2)\n",
    "qc.h(0)\n",
    "qc.cx(0, 1)\n",
    "qc.measure_all()\n",
    "\n",
    "backend = Aer.get_backend(\"aer_simulator\")\n",
    "\n",
    "#noise model을 적용해서 회로를 실행하고 plot_histogram을 사용해 counts를 그려 보세요.\n",
    "\n"
   ]
  },
  {
   "cell_type": "markdown",
   "id": "fd1f03db-7769-4f74-b1f2-da076680a58b",
   "metadata": {},
   "source": [
    "### FakeBackend와 Transpile\n",
    "\n",
    "Qiskit은 클라우드에 서비스 되는 실제 양자 백엔드의 노이즈 특성을 비롯한 여러가지 특성을 모사해둔 특별한 시뮬레이터를 또한 제공합니다. 이 시뮬레이터 들은 실제 백엔드의 basis gate의 종류나, 연결성 정보를 모두 지니고 있기 때문에, transpile이라는, 양자 회로를 리얼 백엔드에 실행하기 위해 변환해 주는 기능을 시험해 보기 아주 좋은 도구입니다. "
   ]
  },
  {
   "cell_type": "code",
   "execution_count": null,
   "id": "61475df9-6719-45d9-b094-ce83f5bf4ed4",
   "metadata": {},
   "outputs": [],
   "source": [
    "from qiskit.compiler import transpile, assemble # transpile과 assemble 라이브러리를 불러옵니다."
   ]
  },
  {
   "cell_type": "code",
   "execution_count": null,
   "id": "16f8bd2f-ddbf-4274-91c3-d650a8fa5f67",
   "metadata": {},
   "outputs": [],
   "source": [
    "#from qiskit.test.mock import FakeProvider # FakeProvider 라이브러리를 불러옵니다.\n",
    "from qiskit.providers.fake_provider import FakeProvider\n",
    "FakeProvider().backends()"
   ]
  },
  {
   "cell_type": "code",
   "execution_count": null,
   "id": "2d66d96e-2300-4156-9104-b95942d7ee62",
   "metadata": {},
   "outputs": [],
   "source": [
    "from qiskit.visualization import plot_gate_map\n",
    "from qiskit.providers.fake_provider import FakeVigo, FakeValencia\n"
   ]
  },
  {
   "cell_type": "code",
   "execution_count": null,
   "id": "df3f737c-852d-41b8-9cef-7ff74efac60f",
   "metadata": {},
   "outputs": [],
   "source": [
    "plot_gate_map(FakeValencia())"
   ]
  },
  {
   "cell_type": "code",
   "execution_count": null,
   "id": "977136cf-c291-4e00-927b-222b8d5e67c6",
   "metadata": {},
   "outputs": [],
   "source": [
    "# FakeVigo의 gate map을 그려 보세요\n",
    "\n"
   ]
  },
  {
   "cell_type": "markdown",
   "id": "542cc495-2386-4567-be2d-dd20980e4463",
   "metadata": {},
   "source": [
    "각 FakeBackend의 특성 들을 탐색해 봅시다. [이 문서](https://docs.quantum.ibm.com/api/qiskit/qiskit.providers.models.BackendConfiguration)를 참고해서 FakeVigo의 각각의 특성을 탐색해 봅시다."
   ]
  },
  {
   "cell_type": "code",
   "execution_count": null,
   "id": "50dd66d3-3b7d-4d05-b37d-4d8db68794bb",
   "metadata": {},
   "outputs": [],
   "source": [
    "conf = FakeVigo().configuration()"
   ]
  },
  {
   "cell_type": "code",
   "execution_count": null,
   "id": "55dda966-f3b4-443d-ac89-a98480d57d93",
   "metadata": {},
   "outputs": [],
   "source": [
    "# 각종 특성을 탐색해 보세요\n",
    "\n"
   ]
  },
  {
   "cell_type": "markdown",
   "id": "50b481ff-94ca-4944-9772-d3659e1f4f91",
   "metadata": {},
   "source": [
    "### transpile\n",
    "\n",
    "이 양자 백엔드에 양자 회로를 실행하면서 좋은 성능을 얻기 위해, 사용자가 직접 설정할수있는 tranpile 옵션이 여러가지 있습니다. 우선 다음 백엔드의 특성을 살펴 봅시다.\n"
   ]
  },
  {
   "cell_type": "code",
   "execution_count": null,
   "id": "fd01a2ce-6ae5-4094-899b-31179c20c169",
   "metadata": {},
   "outputs": [],
   "source": [
    "from qiskit.visualization import plot_error_map\n",
    "plot_error_map(FakeVigo())\n"
   ]
  },
  {
   "cell_type": "markdown",
   "id": "fe7be383-7d8d-4b8c-85fe-12498128dd02",
   "metadata": {},
   "source": [
    "Transpiler의 기능 중, 양자 회로의 큐비트를 물리적 큐비트에 매핑하는 기능을 사용해 더 나은 실행결과를 얻어 봅시다. 세개의 큐비트를 사용하는 다음의 대상 회로를 만들어 봅시다."
   ]
  },
  {
   "cell_type": "code",
   "execution_count": null,
   "id": "af803ac8-8ce6-4c7b-ba11-60f54f072790",
   "metadata": {},
   "outputs": [],
   "source": [
    "qc=QuantumCircuit(3,3) # 3개의 큐비트와 3개의 고전 비트를 가진 양자 회로를 만듭니다.\n",
    "qc.h(0) # 0번 큐비트에 하다마드 게이트를 적용합니다.\n",
    "qc.cx(0,1) # 0번 큐비트를 control 1번 큐비트에 target으로 지정해 CX 게이트를 적용합니다.\n",
    "qc.cx(1,2) # 1번 큐비트를 control 2번 큐비트에 target으로 지정해 CX 게이트를 적용합니다.\n",
    "qc.measure([0,1,2],[0,1,2]) # 0,1,2번 큐비트를 0,1,2번 고전 비트에 측정합니다.\n",
    "qc.draw(output='mpl') # 양자 회로를 그립니다"
   ]
  },
  {
   "cell_type": "code",
   "execution_count": null,
   "id": "52cf7d9e-381b-4b7e-9b1f-e37437e21d14",
   "metadata": {},
   "outputs": [],
   "source": [
    "\n",
    "backend = FakeVigo()\n",
    "transpile_circuit = transpile(qc,backend) #backend에 맞게 qc 양자 회로를 transpile합니다.\n",
    "transpile_circuit.draw(output=\"mpl\") # transpile한 qc 양자 회로를 그립니다."
   ]
  },
  {
   "cell_type": "code",
   "execution_count": null,
   "id": "0286612d-d0fe-406f-96c1-b21fefc7674f",
   "metadata": {},
   "outputs": [],
   "source": [
    "job = backend.run(transpile_circuit, shots=1000)\n",
    "result = job.result()\n",
    "counts = result.get_counts()\n",
    "plot_histogram(counts)"
   ]
  },
  {
   "cell_type": "markdown",
   "id": "2391e15d-873a-4fd9-8fc2-55a37f390516",
   "metadata": {},
   "source": [
    "transpiler를 사용해서 논리적 큐비트를 물리적 큐비트에 매핑하기 위해서는 `initial_layout`값을 설정해 줄 수 있습니다. 아래의 코드에 강제로 논리적 큐비트 0,1,2를 물리적 큐비트 0, 1,3에 매핑 한 후 plot_histogram을 그려봅시다."
   ]
  },
  {
   "cell_type": "code",
   "execution_count": null,
   "id": "0e2bf3c4-02e7-4d4a-83d8-4269d7bafbf9",
   "metadata": {},
   "outputs": [],
   "source": [
    "transpile_circuit = transpile(qc,backend, initial_layout=[0, 1,3]) #backend에 맞게 qc 양자 회로를 transpile합니다.\n",
    "plot_circuit_layout(transpile_circuit, backend)\n"
   ]
  },
  {
   "cell_type": "markdown",
   "id": "81451122-d501-4f0c-b488-b28e9b135215",
   "metadata": {},
   "source": [
    "transpile된 회로를 실행해서 counts를 plot_histogram으로 그려 봅시다."
   ]
  },
  {
   "cell_type": "code",
   "execution_count": null,
   "id": "e9d30d4e-abe4-4c2d-8dfe-72f6a5ba7ff6",
   "metadata": {},
   "outputs": [],
   "source": [
    "job = backend.run(transpile_circuit, shots=1000)\n",
    "result = job.result()\n",
    "counts = result.get_counts()\n",
    "plot_histogram(counts)"
   ]
  },
  {
   "cell_type": "markdown",
   "id": "a7de3ba9-319f-46cb-9497-036654436af7",
   "metadata": {},
   "source": [
    " transpiler는 transpile 수준을 0부터 3까지 제공합니다. 새로운 테스트용 회로를 사용해 각각의 레벨로 주어진 회로를 transpile한 후 결과를 그려 봅시다."
   ]
  },
  {
   "cell_type": "code",
   "execution_count": null,
   "id": "ce230371-49f1-4b03-8ebe-2d0d270bc302",
   "metadata": {},
   "outputs": [],
   "source": [
    "from math import pi\n",
    "\n",
    "qc_trans=QuantumCircuit(3)\n",
    "qc_trans.h(range(2))\n",
    "qc_trans.x(2)\n",
    "qc_trans.ccx(0,1,2)\n",
    "qc_trans.ry(pi,0)\n",
    "qc_trans.ch(1,2)\n",
    "qc_trans.tdg(2)\n",
    "qc_trans.cx(1,0)\n",
    "qc_trans.draw(output='mpl')"
   ]
  },
  {
   "cell_type": "code",
   "execution_count": null,
   "id": "11cb161c-bf54-418e-8b19-c1c6603c8932",
   "metadata": {},
   "outputs": [],
   "source": [
    "#optimization_level = 0으로 회로를 transpile 한 후 회로를 그려보세요\n",
    "transpile_circuit_0 = \n",
    "transpile_circuit_0.draw(output=\"mpl\") # 트랜스파일한 qc_trans 양자 회로를 그립니다."
   ]
  },
  {
   "cell_type": "code",
   "execution_count": null,
   "id": "c1a72d31-bb41-45e0-9c1e-28e71bc519f7",
   "metadata": {},
   "outputs": [],
   "source": [
    "#optimization_level = 1으로 회로를 transpile 한 후 회로를 그려보세요\n",
    "transpile_circuit_1 = \n",
    "transpile_circuit_1.draw(output=\"mpl\") # 트랜스파일한 qc_trans 양자 회로를 그립니다."
   ]
  },
  {
   "cell_type": "code",
   "execution_count": null,
   "id": "bc24736b-1f0d-4f11-8fe0-1fe190e1854f",
   "metadata": {},
   "outputs": [],
   "source": [
    "#optimization_level = 2으로 회로를 transpile 한 후 회로를 그려보세요\n",
    "transpile_circuit_2 = \n",
    "transpile_circuit_2.draw(output=\"mpl\") # 트랜스파일한 qc_trans 양자 회로를 그립니다."
   ]
  },
  {
   "cell_type": "code",
   "execution_count": null,
   "id": "a04424cf-9c86-4a1a-9955-0e77d9b2f50c",
   "metadata": {},
   "outputs": [],
   "source": [
    "#optimization_level = 3으로 회로를 transpile 한 후 회로를 그려보세요\n",
    "transpile_circuit_3 = \n",
    "transpile_circuit_3.draw(output=\"mpl\") # 트랜스파일한 qc_trans 양자 회로를 그립니다."
   ]
  },
  {
   "cell_type": "code",
   "execution_count": null,
   "id": "74a574f0-4cff-4c47-9dde-9f03b0f7c0be",
   "metadata": {},
   "outputs": [],
   "source": [
    "# 각각의 최적화 수준으로 transpile된 회로들의 depth와 size를 비교해 보세요.\n",
    "\n"
   ]
  },
  {
   "cell_type": "markdown",
   "id": "3755f86f-38b8-4d71-97d8-0b6724ba4ac3",
   "metadata": {},
   "source": [
    "### 실제 백엔드를 사용하는 방법\n",
    "\n",
    "실제 백엔드를 사용하기 위해서는 적절한 provider와 백엔드를 불러오는 것으로, 나머지 실행 과정은 위와 동일합니다. Provider를 설정해 봅시다."
   ]
  },
  {
   "cell_type": "code",
   "execution_count": null,
   "id": "43e76184-370e-44ff-a0a9-d07c24dcb66c",
   "metadata": {},
   "outputs": [],
   "source": [
    "from qiskit import IBMQ\n",
    "\n",
    "IBMQ.save_account(\"your token\", overwrite=True) #TOKEN은 qiskit ibmq 홈페이지 로그인 후 받을 수 있음\n",
    "#IBMQ.load_account()\n",
    "\n",
    "ibmq_account = IBMQ.load_account() # IBMQ 계정을 불러옵니다.\n"
   ]
  },
  {
   "cell_type": "markdown",
   "id": "82a94da8-9d68-4051-ab7e-a8a758b281ba",
   "metadata": {},
   "source": [
    "IBMQ에서 권한을 가지고 사용할 수 있는 공급자 (Provide) 목록을 가져와 봅시다.\n"
   ]
  },
  {
   "cell_type": "code",
   "execution_count": null,
   "id": "2c557796-8a07-44b6-a6ab-443f92427094",
   "metadata": {},
   "outputs": [],
   "source": [
    "# \n",
    "\n"
   ]
  },
  {
   "cell_type": "markdown",
   "id": "58ebddb1-a14e-4170-bac5-998cf33be333",
   "metadata": {},
   "source": [
    "사용자의 계정이 사용할 수 있는 백엔드의 목록을 가져와 봅시다."
   ]
  },
  {
   "cell_type": "code",
   "execution_count": null,
   "id": "07674bc8-7ca6-4aea-a289-4fd1e4ce4b8b",
   "metadata": {},
   "outputs": [],
   "source": [
    "ibmq_account.backends() # ibmq_accounts에서 사용 가능한 백엔드의 목록을 불러옵니다."
   ]
  },
  {
   "cell_type": "markdown",
   "id": "44b89975-1bc5-446d-a42d-75592b57a8ea",
   "metadata": {},
   "source": [
    "계정에서, ibm_brisbane 백엔드를 `get_backend`를 사용해 불러와서 backend로 설정해 봅시다."
   ]
  },
  {
   "cell_type": "code",
   "execution_count": null,
   "id": "353a69aa-5e8e-4292-a82a-e1b55b24acae",
   "metadata": {},
   "outputs": [],
   "source": [
    "backend = ibmq_account.get_backend('ibm_brisbane')\n",
    "backend"
   ]
  },
  {
   "cell_type": "markdown",
   "id": "3423f9cd-9035-4e4d-875f-cbfbd655fb75",
   "metadata": {},
   "source": [
    "get_backend를 사용하지 않고 ibmq_accout.backend.backend_name 의 형태로 다시한번 ibm_brisbane을 불러와 봅시다."
   ]
  },
  {
   "cell_type": "code",
   "execution_count": null,
   "id": "6e0d273e-523a-4d19-b6bc-4402ce9edcda",
   "metadata": {},
   "outputs": [],
   "source": [
    "backend = ibmq_account.backend.ibm_brisbane\n",
    "backend"
   ]
  },
  {
   "cell_type": "markdown",
   "id": "d04922cb-8c52-41d1-97fa-e617a8cdfa40",
   "metadata": {},
   "source": [
    "ibmq_provider에서 qubit의 수가 100이상인 백엔드의 목록만 가져와 봅시다.\n"
   ]
  },
  {
   "cell_type": "code",
   "execution_count": null,
   "id": "3406d0b2-28d1-4df5-9b69-f846cc82a2b2",
   "metadata": {},
   "outputs": [],
   "source": [
    "ibmq_account.backends(filters=lambda b: b.configuration().n_qubits > 100)\n"
   ]
  },
  {
   "cell_type": "markdown",
   "id": "dfae7fc0-d08b-4c64-9d82-b139efeb85fc",
   "metadata": {},
   "source": [
    "provider로 사용 가능한 백엔드 중 시뮬레이터를 제외하고 실제 양자 장치만 찾기\n",
    "\n"
   ]
  },
  {
   "cell_type": "code",
   "execution_count": null,
   "id": "16a69887-9a90-44a8-ab77-ba0146bbdf98",
   "metadata": {},
   "outputs": [],
   "source": [
    "ibmq_provider = IBMQ.get_provider(hub='ibm-q') # ibm-q hub를 불러옵니다."
   ]
  },
  {
   "cell_type": "code",
   "execution_count": null,
   "id": "bfbfa5cc-dc4f-426c-a24c-0fe4f68c6993",
   "metadata": {},
   "outputs": [],
   "source": [
    "# \n",
    "\n"
   ]
  },
  {
   "cell_type": "markdown",
   "id": "ba449e9c-4ea1-428e-bf24-8e7494d8ed0f",
   "metadata": {},
   "source": [
    "사용 가능한 백엔드 중 시뮬레이터만 찾기"
   ]
  },
  {
   "cell_type": "code",
   "execution_count": null,
   "id": "63d5208f-81ef-482c-8025-f0aed56791dd",
   "metadata": {},
   "outputs": [],
   "source": [
    "#\n"
   ]
  },
  {
   "cell_type": "markdown",
   "id": "4a960fcf-798c-4d9e-a320-9b6f6ef14de0",
   "metadata": {},
   "source": [
    "실제 양자 장치중에서 가장 대기열이 낮은 백엔드 찾기\n"
   ]
  },
  {
   "cell_type": "code",
   "execution_count": null,
   "id": "d3505d66-4b66-485f-b2d1-88bf4432411f",
   "metadata": {},
   "outputs": [],
   "source": [
    "#\n"
   ]
  },
  {
   "cell_type": "code",
   "execution_count": null,
   "id": "e9dd8dee-681f-4475-96e4-9b232fdc4cc3",
   "metadata": {},
   "outputs": [],
   "source": []
  }
 ],
 "metadata": {
  "kernelspec": {
   "display_name": "Python 3 (ipykernel)",
   "language": "python",
   "name": "python3"
  },
  "language_info": {
   "codemirror_mode": {
    "name": "ipython",
    "version": 3
   },
   "file_extension": ".py",
   "mimetype": "text/x-python",
   "name": "python",
   "nbconvert_exporter": "python",
   "pygments_lexer": "ipython3",
   "version": "3.8.18"
  }
 },
 "nbformat": 4,
 "nbformat_minor": 5
}
