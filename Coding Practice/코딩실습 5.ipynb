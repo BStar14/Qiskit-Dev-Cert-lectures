{
 "cells": [
  {
   "cell_type": "code",
   "execution_count": null,
   "id": "21af08a8-a790-446c-9c98-4ad4394dc4cc",
   "metadata": {},
   "outputs": [],
   "source": [
    "import qiskit.tools.jupyter\n",
    "%qiskit_version_table"
   ]
  },
  {
   "cell_type": "markdown",
   "id": "51d9796d-aa1a-4e40-b333-a9110579387b",
   "metadata": {},
   "source": [
    "### Transpiler 보강\n",
    "\n",
    "Coupling map: 특정 큐비들의 물리적 연결을 지정하는 것, initial_layout이 논리적 큐비트를 물리적 큐비트에 매핑 하는것이라면 coupling map은 큐비트를 강제로 연결 ( coupling) 시키는 것에 가깝습니다."
   ]
  },
  {
   "cell_type": "code",
   "execution_count": null,
   "id": "5b099ddd-dab3-4f22-92ba-494968602d9e",
   "metadata": {},
   "outputs": [],
   "source": [
    "from qiskit import QuantumCircuit\n",
    "\n",
    "qc=QuantumCircuit(3,3) # 3개의 큐비트와 3개의 고전 비트를 가진 양자 회로를 만듭니다.\n",
    "qc.h(0) # 0번 큐비트에 하다마드 게이트를 적용합니다.\n",
    "qc.cx(0,1) # 0번 큐비트를 control 1번 큐비트에 target으로 지정해 CX 게이트를 적용합니다.\n",
    "qc.cx(1,2) # 1번 큐비트를 control 2번 큐비트에 target으로 지정해 CX 게이트를 적용합니다.\n",
    "qc.measure([0,1,2],[0,1,2]) # 0,1,2번 큐비트를 0,1,2번 고전 비트에 측정합니다.\n",
    "qc.draw(output='mpl'); # 양자 회로를 그립니다"
   ]
  },
  {
   "cell_type": "code",
   "execution_count": null,
   "id": "ffe47c6d-7f5a-4a51-b273-5af3afe72bc7",
   "metadata": {},
   "outputs": [],
   "source": [
    "from qiskit.compiler import transpile\n",
    "from  qiskit.test.mock import FakeVigo"
   ]
  },
  {
   "cell_type": "code",
   "execution_count": null,
   "id": "795a6437-a1c1-4d6d-afd6-4461236d6869",
   "metadata": {},
   "outputs": [],
   "source": [
    "from qiskit.visualization import plot_gate_map\n",
    "\n",
    "backend = FakeVigo()\n",
    "\n",
    "#gate map 을 그려봅시다. \n"
   ]
  },
  {
   "cell_type": "code",
   "execution_count": null,
   "id": "21587022-5eb3-4c4a-bed2-1956becc2cc2",
   "metadata": {},
   "outputs": [],
   "source": [
    "from qiskit.transpiler import CouplingMap\n",
    "from qiskit.visualization import plot_circuit_layout\n",
    "\n",
    "\n",
    "# initial_layout을 사용해 0, 2, 4번 큐비트에 회로를 매핑하여 transpile하고 \n",
    "# circuit layout을 그려 봅시다. \n",
    "\n",
    "\n"
   ]
  },
  {
   "cell_type": "code",
   "execution_count": null,
   "id": "e658fbbf-c6b0-4aac-a14b-427cd3a6ee5d",
   "metadata": {},
   "outputs": [],
   "source": [
    "transpile_circuit.draw('mpl');"
   ]
  },
  {
   "cell_type": "code",
   "execution_count": null,
   "id": "a2c27d25-28dc-4077-acd4-7f48dbec25e3",
   "metadata": {},
   "outputs": [],
   "source": [
    "from qiskit.transpiler import CouplingMap\n",
    "from qiskit.visualization import plot_circuit_layout\n",
    "\n",
    "cmap = CouplingMap([[0, 1], [1, 2], [2, 3], [3, 4], [4, 2], [2,0]])\n"
   ]
  },
  {
   "cell_type": "code",
   "execution_count": 76,
   "id": "0b36a709-a861-4107-862b-fdee622ca9ae",
   "metadata": {},
   "outputs": [],
   "source": [
    "#coupling map과 initial_layout을 적용해 회로를 transpile하고 circuit_layout을 그려 봅시다.\n",
    "\n",
    "\n"
   ]
  },
  {
   "cell_type": "code",
   "execution_count": null,
   "id": "048633c5-de8e-4028-ac58-c809e2f49efd",
   "metadata": {},
   "outputs": [],
   "source": [
    "transpile_circuit.draw('mpl');"
   ]
  },
  {
   "cell_type": "markdown",
   "id": "dd67944b-7a40-4b5b-a288-a6d8f5f7e40b",
   "metadata": {},
   "source": [
    "## 5교시 : Quantum Information and Operator Flow\n",
    "\n",
    "Qiskit은 양자 정보를 위한 다양한 편의 기능들을 `qiskit.quantum_info` 모듈을 통해 제공하며 크게\n",
    "- Statevector\n",
    "- DensityMatrix\n",
    "- StabilizerState\n",
    "의 세개의 모듈로 구성되어 있습니다. 이 모듈들은 이름에 따라 각기 상태 벡터, 밀도 행렬 등의 설정, 초기화 등과 관련된 기능들을 전반적으로 제공합니다. Statevector를 먼저 살펴봅시다.\n",
    "\n",
    "\n",
    "### 5-1 : Statevector\n",
    "\n",
    "앞서 실습에 사용해 본 것 처럼, Statevector 함수는 양자회로를 입력으로 받아 출력될 상태 벡터를 반환해 주는 기능을 갖습니다. 아래의 코드를 완성해 봅시다."
   ]
  },
  {
   "cell_type": "code",
   "execution_count": null,
   "id": "d1f37ee2-fa5c-4509-858d-654c1520cf11",
   "metadata": {},
   "outputs": [],
   "source": [
    "from qiskit import QuantumCircuit\n",
    "from qiskit.quantum_info import Statevector\n",
    "from qiskit.visualization.array import array_to_latex\n",
    "\n",
    "\n",
    "qc = QuantumCircuit(2)\n",
    "qc.h(0)\n",
    "qc.cx(0, 1)\n",
    "\n",
    "statevector =  #your code\n",
    "array_to_latex(statevector)"
   ]
  },
  {
   "cell_type": "markdown",
   "id": "c0c9f3d7-f6a4-4934-8e94-979615cb0773",
   "metadata": {},
   "source": [
    "또한 원하는 statevector를 만들어 내는 데에도 사용할 수 있습니다. 위의 회로와 같은 값을 갖는 상태 벡터를 아래 셀을 사용해 만들어 봅시다."
   ]
  },
  {
   "cell_type": "code",
   "execution_count": null,
   "id": "86837693-5476-443a-bdc3-5a04a7521294",
   "metadata": {},
   "outputs": [],
   "source": [
    "import numpy as np\n",
    "\n",
    "statevector = Statevector( # )\n",
    "array_to_latex(statevector)"
   ]
  },
  {
   "cell_type": "markdown",
   "id": "8b7066a2-ad1f-49ed-9da3-60c2f49ef505",
   "metadata": {},
   "source": [
    "잘 알려진 일부 상태는 label로 저장되어 불러들여 사용할 수도 있습니다.\n",
    "\n",
    "사전 정의된 label들을 하나씩 살펴 봅시다."
   ]
  },
  {
   "cell_type": "code",
   "execution_count": null,
   "id": "71d05e5a-3e43-4f39-aa52-1562a9773de7",
   "metadata": {},
   "outputs": [],
   "source": [
    "statevector = Statevector.from_label('0')\n",
    "array_to_latex(statevector)"
   ]
  },
  {
   "cell_type": "code",
   "execution_count": null,
   "id": "176e87f7-8f97-41b6-86a5-331e4e50f09b",
   "metadata": {},
   "outputs": [],
   "source": [
    "statevector = Statevector.from_label('1')\n",
    "array_to_latex(statevector)"
   ]
  },
  {
   "cell_type": "code",
   "execution_count": null,
   "id": "784183d4-26c0-4877-b52a-7a648bb94364",
   "metadata": {},
   "outputs": [],
   "source": [
    "statevector = Statevector.from_label('+')\n",
    "statevector"
   ]
  },
  {
   "cell_type": "code",
   "execution_count": null,
   "id": "26ae3a91-92ef-4fe4-a021-81a28fedba0a",
   "metadata": {},
   "outputs": [],
   "source": [
    "statevector = Statevector.from_label('-')\n",
    "array_to_latex(statevector)"
   ]
  },
  {
   "cell_type": "code",
   "execution_count": null,
   "id": "82d571da-f7e3-4f4b-a472-b76d00fb5e42",
   "metadata": {},
   "outputs": [],
   "source": [
    "statevector = Statevector.from_label('r')\n",
    "array_to_latex(statevector)"
   ]
  },
  {
   "cell_type": "code",
   "execution_count": null,
   "id": "22533ccd-b895-4d7a-acca-753e83f2e638",
   "metadata": {},
   "outputs": [],
   "source": [
    "statevector = Statevector.from_label('l')\n",
    "array_to_latex(statevector)"
   ]
  },
  {
   "cell_type": "markdown",
   "id": "abbbaadf-c775-4556-bc31-34674901adfa",
   "metadata": {},
   "source": [
    "라벨의 조합도 가능합니다."
   ]
  },
  {
   "cell_type": "code",
   "execution_count": null,
   "id": "a13ec083-350e-4b84-aab9-46ee0424a1e1",
   "metadata": {},
   "outputs": [],
   "source": [
    "statevector = Statevector.from_label('01')\n",
    "array_to_latex(statevector)"
   ]
  },
  {
   "cell_type": "code",
   "execution_count": null,
   "id": "8edccdd7-2ab1-4eae-89a4-4dc4a0f1b7ce",
   "metadata": {},
   "outputs": [],
   "source": [
    "statevector = Statevector.from_label('+-')\n",
    "array_to_latex(statevector)"
   ]
  },
  {
   "cell_type": "markdown",
   "id": "8be0f311-4915-4596-ae1c-9491c6155923",
   "metadata": {},
   "source": [
    "Statevector에는 상태 벡터글 그림으로 그리는 여러가지 방법을 가지고 있습니다."
   ]
  },
  {
   "cell_type": "code",
   "execution_count": null,
   "id": "18b31627-54a0-4f7b-94b2-5151448d51a7",
   "metadata": {},
   "outputs": [],
   "source": [
    "statevector.draw(\"qsphere\");\n"
   ]
  },
  {
   "cell_type": "code",
   "execution_count": null,
   "id": "4974e13f-7574-4291-9e74-f7b33529fd1b",
   "metadata": {},
   "outputs": [],
   "source": [
    "statevector.draw(\"bloch\");\n"
   ]
  },
  {
   "cell_type": "code",
   "execution_count": null,
   "id": "2c9c67f7-7691-4c2d-a27f-4cc8752a8674",
   "metadata": {},
   "outputs": [],
   "source": [
    "statevector.draw(\"text\")"
   ]
  },
  {
   "cell_type": "markdown",
   "id": "8ada50f1-a075-4075-9ed3-eed3080f551e",
   "metadata": {},
   "source": [
    "그 외에 사용할 수 있는 옵션들은 latex, latex_source, hinton, city, paulivec 등이 있습니다. 아래의 셀에서 한번 자유롭게 테스트 해보세요."
   ]
  },
  {
   "cell_type": "code",
   "execution_count": null,
   "id": "380c3b74-5744-4c47-ad51-1b1d99fb4f2c",
   "metadata": {},
   "outputs": [],
   "source": [
    "#\n"
   ]
  },
  {
   "cell_type": "markdown",
   "id": "6a872916-c2b3-40b3-a636-e4836f52f609",
   "metadata": {},
   "source": [
    "Statevector를 사용해서 측정될 확률도 바로 계산할 수 있습니다."
   ]
  },
  {
   "cell_type": "code",
   "execution_count": null,
   "id": "68ac4be6-e50d-4c6b-83f9-b03241d12848",
   "metadata": {},
   "outputs": [],
   "source": [
    "# "
   ]
  },
  {
   "cell_type": "markdown",
   "id": "0f869dea-c760-4e18-b12c-5b1f54b08035",
   "metadata": {},
   "source": [
    "statevector를 사용해서, shot 수에 따라 예측되는 결과도 출력해 볼수 있습니다."
   ]
  },
  {
   "cell_type": "code",
   "execution_count": null,
   "id": "2b4fb22f-59d5-4952-84b3-fdf24035e1f3",
   "metadata": {},
   "outputs": [],
   "source": [
    "from qiskit.visualization import plot_histogram\n",
    "#\n",
    "#\n"
   ]
  },
  {
   "cell_type": "markdown",
   "id": "44c7252e-3a59-415b-8bac-7259062d1d4b",
   "metadata": {},
   "source": [
    "## 5-2 Density Matrix\n",
    "\n"
   ]
  },
  {
   "cell_type": "code",
   "execution_count": null,
   "id": "280f392e-0cce-4ed9-9aae-c31e69ebb66d",
   "metadata": {},
   "outputs": [],
   "source": [
    "from qiskit.quantum_info import DensityMatrix\n",
    "\n",
    "qc = QuantumCircuit(2)\n",
    "qc.h(0)\n",
    "qc.cx(0, 1)\n",
    "\n",
    "dens_mat = #\n",
    "array_to_latex(dens_mat)"
   ]
  },
  {
   "cell_type": "markdown",
   "id": "e389be75-625b-48c2-88b5-87c806039820",
   "metadata": {},
   "source": [
    "DensityMatrix 함수도 자주 사용하는 상태를 label로 불러서 사용할 수 있습니다. "
   ]
  },
  {
   "cell_type": "code",
   "execution_count": null,
   "id": "28669ce6-0197-4bef-baab-e7733a466584",
   "metadata": {},
   "outputs": [],
   "source": [
    "from qiskit.quantum_info import DensityMatrix, Operator\n",
    "\n",
    "dens_mat = 0.5*DensityMatrix.from_label('0') + \\\n",
    "      0.5*DensityMatrix.from_label('1')\n",
    "array_to_latex(dens_mat.data)"
   ]
  },
  {
   "cell_type": "markdown",
   "id": "20eac92a-561e-4164-a0b6-1f1f26fffd23",
   "metadata": {},
   "source": [
    "Density matrix는 입력으로 operator를 받아서 evolve를 시킬수 있습니다. Operator에 대해서는 이어서 다루겠지만 이곳에서는 자주 사용하는 라벨 몇가지만 보여 드린 후, density matrix의 evolve를 실습해 보겠습니다. \n",
    "\n",
    "- ‘I’: [[1, 0], [0, 1]]\n",
    "- ‘X’: [[0, 1], [1, 0]]\n",
    "- ‘Y’: [[0, -1j], [1j, 0]]\n",
    "- ‘Z’: [[1, 0], [0, -1]] "
   ]
  },
  {
   "cell_type": "code",
   "execution_count": null,
   "id": "b59976b7-bb04-4497-8498-b777ea315e95",
   "metadata": {},
   "outputs": [],
   "source": [
    "x_op = Operator.from_label('X')\n",
    "dens_mat = DensityMatrix(x_op)\n",
    "dens_mat.draw('city');"
   ]
  },
  {
   "cell_type": "code",
   "execution_count": null,
   "id": "69697aad-f9f3-4fc7-9df7-1827e9de3500",
   "metadata": {},
   "outputs": [],
   "source": [
    "x_op = Operator.from_label('X')\n",
    "dens_mat = dens_mat.evolve(x_op)\n",
    "dens_mat.draw('city');\n"
   ]
  },
  {
   "cell_type": "code",
   "execution_count": null,
   "id": "3ccdfd7b-8fd7-4c23-a7d4-a20c2d220a2c",
   "metadata": {},
   "outputs": [],
   "source": [
    "#"
   ]
  },
  {
   "cell_type": "code",
   "execution_count": null,
   "id": "cb392fb2-031f-4be8-be59-dbc1cf042dea",
   "metadata": {},
   "outputs": [],
   "source": [
    "#"
   ]
  },
  {
   "cell_type": "markdown",
   "id": "55dd89f8-746c-49c8-bbb5-daf54235045d",
   "metadata": {},
   "source": [
    "### 5-3 Quantum Information Operators"
   ]
  },
  {
   "cell_type": "code",
   "execution_count": null,
   "id": "b642c0f1-1925-4958-846f-8bb12f8ccf8e",
   "metadata": {},
   "outputs": [],
   "source": [
    "from qiskit.quantum_info import Operator\n",
    " \n",
    "qc = QuantumCircuit(2)\n",
    "\n",
    "#\n"
   ]
  },
  {
   "cell_type": "code",
   "execution_count": null,
   "id": "7fbdff5b-5547-44da-97de-18b243d45569",
   "metadata": {},
   "outputs": [],
   "source": [
    "op_XI = Operator([[0, 0, 1, 0],\n",
    "                  [0, 0, 0, 1],\n",
    "                  [1, 0, 0, 0],\n",
    "                  [0, 1, 0, 0]])\n",
    "array_to_latex(op_XI.data)"
   ]
  },
  {
   "cell_type": "code",
   "execution_count": null,
   "id": "3f6ebaa0-4e3f-4a08-bd07-8d0c03758609",
   "metadata": {},
   "outputs": [],
   "source": [
    "from qiskit.quantum_info import Pauli\n",
    " \n",
    "op_XI = Operator(Pauli('XI'))\n",
    "array_to_latex(op_XI.data)"
   ]
  },
  {
   "cell_type": "code",
   "execution_count": null,
   "id": "b4d1a4ea-4481-4a0d-a0d8-6c665544b3c2",
   "metadata": {},
   "outputs": [],
   "source": [
    "from qiskit.circuit.library.standard_gates \\\n",
    "                            import CPhaseGate\n",
    "import numpy as np\n",
    "\n",
    "op_CP = Operator(CPhaseGate(np.pi / 4))\n",
    "array_to_latex(op_CP.data)"
   ]
  },
  {
   "cell_type": "code",
   "execution_count": null,
   "id": "240346be-61f5-40a7-9bfe-c89d90d56e63",
   "metadata": {},
   "outputs": [],
   "source": [
    "pauli_piXZ = Pauli('-XZ')\n",
    "array_to_latex(pauli_piXZ.to_matrix())"
   ]
  },
  {
   "cell_type": "code",
   "execution_count": null,
   "id": "afc3b9bb-b9ae-4705-aa5d-e583c2f7d4ed",
   "metadata": {},
   "outputs": [],
   "source": [
    "qc = QuantumCircuit(2)\n",
    "#\n",
    "\n",
    "\n",
    "pauli_XZ = Pauli(qc)\n",
    "print(pauli_XZ.equiv(Pauli('-XZ')))"
   ]
  },
  {
   "cell_type": "code",
   "execution_count": null,
   "id": "ddbaca48-1ca3-4447-a9d7-6e17cfc9a829",
   "metadata": {},
   "outputs": [],
   "source": [
    "from qiskit.quantum_info import state_fidelity\n",
    "\n",
    "sv_a = Statevector.from_label('+')\n",
    "sv_b = Statevector([1,  1] / np.sqrt(2))"
   ]
  },
  {
   "cell_type": "code",
   "execution_count": null,
   "id": "362a26bd-2bc6-4703-9485-5c7da8bb282d",
   "metadata": {},
   "outputs": [],
   "source": [
    "state_fidelity(sv_a, sv_b)"
   ]
  },
  {
   "cell_type": "markdown",
   "id": "86922eb0-3351-4333-8dcf-502c3a16ff78",
   "metadata": {},
   "source": [
    "예제: 다음중 X 게이트와 같은 기능을 하는 Operator는?"
   ]
  },
  {
   "cell_type": "code",
   "execution_count": null,
   "id": "6a207cc6-0605-4336-b69f-db5c5ded0bc6",
   "metadata": {},
   "outputs": [],
   "source": [
    "#A\n",
    "op = Operator.Xop(0)\n",
    "\n",
    "#B\n",
    "op = Operator([[0,1]])\n",
    "\n",
    "#C\n",
    "qc = QuantumCircuit(1)\n",
    "qc.x(0)\n",
    "op = Operator(qc)\n",
    "\n",
    "#D\n",
    "op = Operator([[1,0,0,1]])"
   ]
  },
  {
   "cell_type": "code",
   "execution_count": null,
   "id": "dee13381-3762-4462-9fc0-6811c448aad9",
   "metadata": {},
   "outputs": [],
   "source": [
    "# C"
   ]
  }
 ],
 "metadata": {
  "kernelspec": {
   "display_name": "Python 3 (ipykernel)",
   "language": "python",
   "name": "python3"
  },
  "language_info": {
   "codemirror_mode": {
    "name": "ipython",
    "version": 3
   },
   "file_extension": ".py",
   "mimetype": "text/x-python",
   "name": "python",
   "nbconvert_exporter": "python",
   "pygments_lexer": "ipython3",
   "version": "3.8.18"
  }
 },
 "nbformat": 4,
 "nbformat_minor": 5
}
