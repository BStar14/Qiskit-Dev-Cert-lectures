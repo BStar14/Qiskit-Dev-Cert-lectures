{
 "cells": [
  {
   "cell_type": "code",
   "execution_count": null,
   "metadata": {},
   "outputs": [
    {
     "data": {
      "text/html": [
       "<h3>Version Information</h3><table><tr><th>Qiskit Software</th><th>Version</th></tr><tr><td><code>qiskit-terra</code></td><td>0.21.0</td></tr><tr><td><code>qiskit-aer</code></td><td>0.10.4</td></tr><tr><td><code>qiskit-ibmq-provider</code></td><td>0.19.2</td></tr><tr><td><code>qiskit</code></td><td>0.37.0</td></tr><tr><th>System information</th></tr><tr><td>Python version</td><td>3.8.18</td></tr><tr><td>Python compiler</td><td>Clang 14.0.6 </td></tr><tr><td>Python build</td><td>default, Sep 11 2023 08:17:33</td></tr><tr><td>OS</td><td>Darwin</td></tr><tr><td>CPUs</td><td>4</td></tr><tr><td>Memory (Gb)</td><td>32.0</td></tr><tr><td colspan='2'>Mon Dec 18 15:08:36 2023 KST</td></tr></table>"
      ],
      "text/plain": [
       "<IPython.core.display.HTML object>"
      ]
     },
     "metadata": {},
     "output_type": "display_data"
    }
   ],
   "source": [
    "import qiskit.tools.jupyter\n",
    "%qiskit_version_table"
   ]
  },
  {
   "cell_type": "markdown",
   "metadata": {},
   "source": [
    "## 4교시 : 양자 회로 시각화 및 결과 분석, 양자 상태의 시각화\n",
    "\n",
    "### 4-1: 양자 회로의 시각화\n",
    "\n",
    "먼저 실습을 위한 예제 회로를 하나 만들어 봅시다. 이번에는 Qiskit이 제공하는 임의의 양자 회로를 만드는 함수를 사용합니다. 이 [API 문서](https://docs.quantum.ibm.com/api/qiskit/0.29/qiskit.circuit.random.random_circuit)를 참고해 주세요."
   ]
  },
  {
   "cell_type": "code",
   "execution_count": null,
   "metadata": {},
   "outputs": [],
   "source": [
    "from qiskit.circuit.random import random_circuit\n",
    "\n",
    "circ = random_circuit(4, 4, measure=True)"
   ]
  },
  {
   "cell_type": "code",
   "execution_count": null,
   "metadata": {},
   "outputs": [],
   "source": [
    "# text 형태로 출력합니다.\n",
    "\n"
   ]
  },
  {
   "cell_type": "code",
   "execution_count": null,
   "metadata": {},
   "outputs": [],
   "source": [
    "# matplotlib 형태로 출력합니다. \n",
    "\n"
   ]
  },
  {
   "cell_type": "code",
   "execution_count": null,
   "metadata": {},
   "outputs": [],
   "source": [
    "# 컴파일 되 않은 latex 형태로 출력합니다.\n",
    "\n"
   ]
  },
  {
   "cell_type": "code",
   "execution_count": null,
   "metadata": {},
   "outputs": [],
   "source": [
    "# 비트를 역순으로 그려봅니다.\n"
   ]
  },
  {
   "cell_type": "code",
   "execution_count": null,
   "metadata": {},
   "outputs": [],
   "source": [
    "# 초기상태를 함께 그려줍니다.\n",
    "\n"
   ]
  },
  {
   "cell_type": "markdown",
   "metadata": {},
   "source": [
    "### 양자 회로 실행 결과의 시각화\n"
   ]
  },
  {
   "cell_type": "code",
   "execution_count": null,
   "metadata": {},
   "outputs": [],
   "source": [
    "from qiskit import Aer\n",
    "\n",
    "backend=Aer.get_backend('qasm_simulator') # 시뮬레이터를 지정합니다.\n",
    "from qiskit.visualization import plot_histogram # plot_histogram을 불러옵니다."
   ]
  },
  {
   "cell_type": "code",
   "execution_count": null,
   "metadata": {},
   "outputs": [],
   "source": [
    "# 회로를 실행하고 count를 plot_histogram으로 그려봅니다.\n",
    "\n"
   ]
  },
  {
   "cell_type": "code",
   "execution_count": null,
   "metadata": {},
   "outputs": [
    {
     "name": "stderr",
     "output_type": "stream",
     "text": [
      "/var/folders/19/gv13ywx55pn6x7sf83_x23280000gn/T/ipykernel_9634/3500563562.py:1: DeprecationWarning: The module 'qiskit.test.mock' is deprecated since Qiskit Terra 0.21.0, and will be removed 3 months or more later. Instead, you should import the desired object directly 'qiskit.providers.fake_provider'.\n",
      "  from qiskit.test.mock import FakeMontreal # FakeProvider, FakeMontreal를 불러옵니다. (v0.29.1)\n"
     ]
    }
   ],
   "source": [
    "from qiskit.test.mock import FakeMontreal # FakeProvider, FakeMontreal를 불러옵니다. (v0.29.1)\n",
    "from qiskit.providers.aer import AerSimulator #AerSimulator 라이브러리 불러오기"
   ]
  },
  {
   "cell_type": "code",
   "execution_count": null,
   "metadata": {},
   "outputs": [],
   "source": [
    "# 회로를 각각 FakeMontreal과 AerSimulator로 계산한 후 plot_histogram을 사용해 count를 함께 그려보세요.\n",
    "\n"
   ]
  },
  {
   "cell_type": "markdown",
   "metadata": {},
   "source": [
    "### 4-2: 양자 상태의 시각화\n",
    "\n",
    "양자 회로의 statevector를 시각화 하는 여러가지 방법을 살펴 봅니다. Qiskit Pocket Guide의 [이 곳](https://github.com/qiskit-community/qiskit-pocket-guide/blob/main/chapter03_Visualizing_Quantum_Measurements_and_States/chapter03-2_Visualizing_Quantum_States.ipynb)이나 [인호님의 네번째 강의](https://github.com/QuantumComputingKorea/Qiskit-Dev-Cert-lectures/blob/main/Lecture4/Lecture%204%20-%20%EC%96%91%EC%9E%90%20%ED%9A%8C%EB%A1%9C%20%EC%8B%9C%EA%B0%81%ED%99%94%20%EB%B0%8F%20%EA%B2%B0%EA%B3%BC%20%EB%B6%84%EC%84%9D.ipynb)를 참고합니다."
   ]
  },
  {
   "cell_type": "code",
   "execution_count": null,
   "metadata": {},
   "outputs": [],
   "source": [
    "from qiskit.visualization import * #qiskit.visualization에 있는 모드 기능을 불러옵니다.\n",
    "from qiskit.quantum_info import Statevector #Statevector을 불러옵니다"
   ]
  },
  {
   "cell_type": "code",
   "execution_count": null,
   "metadata": {},
   "outputs": [],
   "source": [
    "# 실습을 위해 새로운 랜덤 회로를 작성\n",
    "\n",
    "circ = random_circuit(3, 4, measure=False)"
   ]
  },
  {
   "cell_type": "code",
   "execution_count": null,
   "metadata": {},
   "outputs": [],
   "source": [
    "# 회로를 Aer의 statevector 시뮬레이터를 사용해 state vector를 계산하여 저장한다.\n",
    "\n"
   ]
  },
  {
   "cell_type": "code",
   "execution_count": null,
   "metadata": {},
   "outputs": [],
   "source": [
    "# 저장된  statevector를 plot_state_city를 사용해 그려본다.\n",
    "\n"
   ]
  },
  {
   "cell_type": "code",
   "execution_count": null,
   "metadata": {},
   "outputs": [],
   "source": [
    "# 저장된 statevector를 plot_state_qsphere를 사용해 그려본다.\n",
    "\n"
   ]
  },
  {
   "cell_type": "code",
   "execution_count": null,
   "metadata": {},
   "outputs": [],
   "source": [
    "# 저장된 statevector를 plot_state_paulivec를 사용해 그려본다.\n",
    "\n"
   ]
  },
  {
   "cell_type": "code",
   "execution_count": null,
   "metadata": {},
   "outputs": [],
   "source": [
    "# 저장된 statevector를 plot_state_hinton를 사용해 그려본다.\n",
    "\n"
   ]
  },
  {
   "cell_type": "code",
   "execution_count": null,
   "metadata": {},
   "outputs": [],
   "source": [
    "# 저장된 statevector를 plot_bloch_multivector를 사용해 그려본다.\n",
    "\n"
   ]
  },
  {
   "cell_type": "markdown",
   "metadata": {},
   "source": [
    "### 4-3: 벡엔드 정보의 확인\n",
    "\n",
    "인호님의 [다섯번째 강의 노트북](https://github.com/QuantumComputingKorea/Qiskit-Dev-Cert-lectures/blob/main/Lecture5/Lecture%205%20-%20%EC%9C%A0%EC%9A%A9%ED%95%9C%20%EA%B8%B0%EB%8A%A5%EB%93%A4.ipynb)을 참고하여 실습을 진행합니다."
   ]
  },
  {
   "cell_type": "code",
   "execution_count": null,
   "metadata": {},
   "outputs": [],
   "source": [
    "from qiskit import IBMQ\n",
    "ibmq_account = IBMQ.load_account() # 계정을 로드하여 ibmq_account로 지정합니다.\n",
    "ibmq_provider = IBMQ.get_provider(hub='ibm-q') # ibm-q 허브를 가져옵니다.\n"
   ]
  },
  {
   "cell_type": "markdown",
   "metadata": {},
   "source": [
    "backend_overview()를 사용해 IBMQ 백엔드의 접근 가능한 전체적인 정보를 출력합니다."
   ]
  },
  {
   "cell_type": "code",
   "execution_count": null,
   "metadata": {},
   "outputs": [],
   "source": [
    "from qiskit.tools import backend_overview \n",
    "\n",
    "#\n"
   ]
  },
  {
   "cell_type": "markdown",
   "metadata": {},
   "source": [
    "backend_monitor를 사용해 특정 백엔드의 특징들을 탐구해 봅니다."
   ]
  },
  {
   "cell_type": "code",
   "execution_count": null,
   "metadata": {},
   "outputs": [],
   "source": [
    "from qiskit.tools import backend_monitor # backend_monitor을 불러옵니다.\n"
   ]
  },
  {
   "cell_type": "markdown",
   "metadata": {},
   "source": [
    "## 4-4: 백엔드로 보내진 Job의 정보의 확인\n"
   ]
  },
  {
   "cell_type": "code",
   "execution_count": null,
   "metadata": {},
   "outputs": [],
   "source": [
    "from qiskit.tools import job_monitor # job_monitor를 불러옵니다.\n",
    "from qiskit import *"
   ]
  },
  {
   "cell_type": "markdown",
   "metadata": {},
   "source": [
    "실습을 위해 임의의 양자 회로를 생성해 봅니다."
   ]
  },
  {
   "cell_type": "code",
   "execution_count": null,
   "metadata": {},
   "outputs": [],
   "source": [
    "qc = random_circuit(4, 4, measure=True)"
   ]
  },
  {
   "cell_type": "code",
   "execution_count": null,
   "metadata": {},
   "outputs": [],
   "source": [
    "backend = ibmq_provider.get_backend('ibmq_qasm_simulator') # 백엔드를 지정합니다.\n",
    "\n",
    "job = backend.run(qc)"
   ]
  },
  {
   "cell_type": "code",
   "execution_count": null,
   "metadata": {},
   "outputs": [],
   "source": [
    "# job id를 출력해 봅시다.\n",
    "\n"
   ]
  },
  {
   "cell_type": "code",
   "execution_count": null,
   "metadata": {},
   "outputs": [],
   "source": [
    "# job의  backend 정보를 확인해 봅시다.\n"
   ]
  },
  {
   "cell_type": "code",
   "execution_count": null,
   "metadata": {},
   "outputs": [],
   "source": [
    "# job의 상태를 확인해 봅시다.\n",
    "\n"
   ]
  },
  {
   "cell_type": "code",
   "execution_count": null,
   "metadata": {},
   "outputs": [],
   "source": [
    "# job이 완료 되었다면 결과를 다시 불러와 결과를 출력해 봅니다.\n",
    "\n"
   ]
  },
  {
   "cell_type": "markdown",
   "metadata": {},
   "source": [
    "### 중간 점검 퀴즈!"
   ]
  },
  {
   "cell_type": "markdown",
   "metadata": {},
   "source": [
    "1. 다음중 실행되지 못하고 에러를 반환하는 코드는?\n",
    "\n",
    "- A. `qc.draw('text')`\n",
    "- B. `qc.draw('mpl')`\n",
    "- C. `qc.draw('png')`\n",
    "- D. `qc.draw('latex_source')`"
   ]
  },
  {
   "cell_type": "code",
   "execution_count": null,
   "metadata": {},
   "outputs": [],
   "source": [
    "#\n"
   ]
  },
  {
   "cell_type": "markdown",
   "metadata": {},
   "source": [
    "2. 다음 그림을 똑같이 만들어 보세요.\n",
    "\n",
    "![question11](./img/ex8.png)"
   ]
  },
  {
   "cell_type": "code",
   "execution_count": null,
   "metadata": {},
   "outputs": [],
   "source": [
    "# "
   ]
  },
  {
   "cell_type": "markdown",
   "metadata": {},
   "source": [
    "3. 다음의 코드가 주어졌을때 "
   ]
  },
  {
   "cell_type": "code",
   "execution_count": null,
   "metadata": {},
   "outputs": [],
   "source": [
    "from qiskit import BasicAer, Aer, execute\n",
    "qc = QuantumCircuit(1)\n",
    "qc.h(0)\n",
    "\n",
    "# insert code here\n",
    "\n",
    "print(unitary)"
   ]
  },
  {
   "cell_type": "markdown",
   "metadata": {},
   "source": [
    "4. 다음의 결과를 출력하게 해주도록 넣을 수 있는 코드 두가지는 무엇일까요?\n",
    "\n",
    "```\n",
    "    [[ 0.70710678+0.00000000e+00j  0.70710678-8.65956056e-17j]\n",
    "    [ 0.70710678+0.00000000e+00j -0.70710678+8.65956056e-17j]]"
   ]
  },
  {
   "cell_type": "code",
   "execution_count": null,
   "metadata": {},
   "outputs": [],
   "source": [
    "# A\n",
    "simulator = BasicAer.get_backend('unitary_simulator')\n",
    "unitary = execute(qc, simulator).get_unitary(qc)\n",
    "\n",
    "#B\n",
    "simulator = Aer.get_backend('unitary_simulator')\n",
    "result = execute(qc, simulator).result()\n",
    "unitary = result.get_unitary(qc)\n",
    "\n",
    "#C\n",
    "simulator = Aer.get_backend('statevector_simulator')\n",
    "result = execute(qc, simulator).result()\n",
    "unitary = result.get_matrix_result(qc)\n",
    "\n",
    "#D\n",
    "simulator = BasicAer.get_backend('statevector_simulator')\n",
    "result = execute(qc, simulator).result()\n",
    "unitary = result.get_unitary(qc)\n",
    "\n",
    "#E\n",
    "simulator = BasicAer.get_backend('unitary_simulator')\n",
    "result = execute(qc, simulator).result()\n",
    "unitary = result.get_unitary()\n"
   ]
  },
  {
   "cell_type": "markdown",
   "metadata": {},
   "source": [
    "5. 코드사이에 넣어서 주어진 bloch_vector를 만들어 낼 수 있는 코드를 \n",
    "\n",
    "![img](./img/ex9.png)\n"
   ]
  },
  {
   "cell_type": "code",
   "execution_count": null,
   "metadata": {},
   "outputs": [],
   "source": [
    "from qiskit.visualization import plot_bloch_vector\n",
    "from math import pi, sqrt\n",
    "\n",
    "# insert code here\n",
    "\n",
    "plot_bloch_vector(vector)"
   ]
  },
  {
   "cell_type": "markdown",
   "metadata": {},
   "source": [
    "6. 큐비트가  $|0\\rangle$의 상태에서 시작했을 때, 다음중 어느 코드가 큐빗의 상태가  $|0\\rangle$에 남아있도록 하는가?"
   ]
  },
  {
   "cell_type": "code",
   "execution_count": null,
   "metadata": {},
   "outputs": [],
   "source": [
    "#A\n",
    "qc.ry(pi/2,0)\n",
    "qc.s(0)\n",
    "qc.rx(pi/2,0)\n",
    "\n",
    "#B\n",
    "qc.ry(pi/2,0)\n",
    "qc.rx(pi/2,0)\n",
    "qc.s(0)\n",
    "\n",
    "#C\n",
    "qc.s(0)\n",
    "qc.ry(pi/2,0)\n",
    "qc.rx(pi/2,0)\n",
    "\n",
    "#D\n",
    "qc.rx(pi/2,0)\n",
    "qc.s(0)\n",
    "qc.ry(pi/2,0)"
   ]
  },
  {
   "cell_type": "code",
   "execution_count": null,
   "metadata": {},
   "outputs": [],
   "source": []
  }
 ],
 "metadata": {
  "language_info": {
   "name": "python"
  }
 },
 "nbformat": 4,
 "nbformat_minor": 2
}
